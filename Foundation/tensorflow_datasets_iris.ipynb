{
 "cells": [
  {
   "cell_type": "code",
   "execution_count": 60,
   "id": "555ace81",
   "metadata": {},
   "outputs": [],
   "source": [
    "import numpy as np\n",
    "import tensorflow as tf"
   ]
  },
  {
   "cell_type": "code",
   "execution_count": 61,
   "id": "cddfb703",
   "metadata": {},
   "outputs": [],
   "source": [
    "ds_x = tf.data.Dataset.from_tensor_slices([[1,2],[3,4],[5,6],[7,8],[9,10.0]])"
   ]
  },
  {
   "cell_type": "code",
   "execution_count": 62,
   "id": "7d2811c5",
   "metadata": {},
   "outputs": [],
   "source": [
    "ds_y = tf.data.Dataset.from_tensor_slices([0,1,2,3,4])"
   ]
  },
  {
   "cell_type": "code",
   "execution_count": 63,
   "id": "302c9cd6",
   "metadata": {},
   "outputs": [],
   "source": [
    "ds_joint = tf.data.Dataset.zip((ds_x,ds_y))"
   ]
  },
  {
   "cell_type": "code",
   "execution_count": 64,
   "id": "58305e10",
   "metadata": {},
   "outputs": [],
   "source": [
    "def display(d):\n",
    "    for ex in d:\n",
    "        print(ex[0].numpy(),ex[1].numpy())"
   ]
  },
  {
   "cell_type": "code",
   "execution_count": 65,
   "id": "b8b14d59",
   "metadata": {},
   "outputs": [
    {
     "name": "stdout",
     "output_type": "stream",
     "text": [
      "[1. 2.] 0\n",
      "[3. 4.] 1\n",
      "[5. 6.] 2\n",
      "[7. 8.] 3\n",
      "[ 9. 10.] 4\n"
     ]
    }
   ],
   "source": [
    "display(ds_joint)"
   ]
  },
  {
   "cell_type": "code",
   "execution_count": 66,
   "id": "3749dc3f",
   "metadata": {},
   "outputs": [],
   "source": [
    "ds_map = ds_joint.map(lambda x, y: (x/10.0,y))"
   ]
  },
  {
   "cell_type": "code",
   "execution_count": 67,
   "id": "aa7f0167",
   "metadata": {},
   "outputs": [
    {
     "name": "stdout",
     "output_type": "stream",
     "text": [
      "[0.1 0.2] 0\n",
      "[0.3 0.4] 1\n",
      "[0.5 0.6] 2\n",
      "[0.7 0.8] 3\n",
      "[0.9 1. ] 4\n"
     ]
    }
   ],
   "source": [
    "display(ds_map)"
   ]
  },
  {
   "cell_type": "code",
   "execution_count": 68,
   "id": "be24554d",
   "metadata": {},
   "outputs": [],
   "source": [
    "ds = ds_map.shuffle(buffer_size=100)"
   ]
  },
  {
   "cell_type": "code",
   "execution_count": 69,
   "id": "747aaede",
   "metadata": {},
   "outputs": [
    {
     "name": "stdout",
     "output_type": "stream",
     "text": [
      "[0.3 0.4] 1\n",
      "[0.1 0.2] 0\n",
      "[0.7 0.8] 3\n",
      "[0.9 1. ] 4\n",
      "[0.5 0.6] 2\n"
     ]
    }
   ],
   "source": [
    "display(ds)"
   ]
  },
  {
   "cell_type": "code",
   "execution_count": 70,
   "id": "f2bf0ff7",
   "metadata": {},
   "outputs": [],
   "source": [
    "ds_batch = ds.batch(batch_size=2) # ?"
   ]
  },
  {
   "cell_type": "code",
   "execution_count": 71,
   "id": "d958329e",
   "metadata": {},
   "outputs": [
    {
     "name": "stdout",
     "output_type": "stream",
     "text": [
      "[[0.9 1. ]\n",
      " [0.1 0.2]] [4 0]\n",
      "[[0.5 0.6]\n",
      " [0.7 0.8]] [2 3]\n",
      "[[0.3 0.4]] [1]\n"
     ]
    }
   ],
   "source": [
    "display(ds_batch) # ?"
   ]
  },
  {
   "cell_type": "code",
   "execution_count": 72,
   "id": "f6ac6238",
   "metadata": {},
   "outputs": [],
   "source": [
    "import tensorflow_datasets as tfds"
   ]
  },
  {
   "cell_type": "code",
   "execution_count": 73,
   "id": "60d77d73",
   "metadata": {},
   "outputs": [],
   "source": [
    "iris = tfds.load('iris')"
   ]
  },
  {
   "cell_type": "code",
   "execution_count": 74,
   "id": "2549fcaf",
   "metadata": {},
   "outputs": [
    {
     "data": {
      "text/plain": [
       "dict"
      ]
     },
     "execution_count": 74,
     "metadata": {},
     "output_type": "execute_result"
    }
   ],
   "source": [
    "type(iris)"
   ]
  },
  {
   "cell_type": "code",
   "execution_count": 75,
   "id": "c61d2269",
   "metadata": {},
   "outputs": [
    {
     "data": {
      "text/plain": [
       "{'train': <PrefetchDataset shapes: {features: (4,), label: ()}, types: {features: tf.float32, label: tf.int64}>}"
      ]
     },
     "execution_count": 75,
     "metadata": {},
     "output_type": "execute_result"
    }
   ],
   "source": [
    "iris"
   ]
  },
  {
   "cell_type": "code",
   "execution_count": 76,
   "id": "ef5e49b2",
   "metadata": {},
   "outputs": [],
   "source": [
    "ds = iris['train']"
   ]
  },
  {
   "cell_type": "code",
   "execution_count": 77,
   "id": "9769b6a2",
   "metadata": {},
   "outputs": [],
   "source": [
    "ds = ds.shuffle(buffer_size=150, reshuffle_each_iteration=False)"
   ]
  },
  {
   "cell_type": "code",
   "execution_count": 78,
   "id": "a1683451",
   "metadata": {},
   "outputs": [],
   "source": [
    "ds_train = ds.take(100)\n",
    "ds_test = ds.skip(100)"
   ]
  },
  {
   "cell_type": "code",
   "execution_count": 79,
   "id": "f336bd0e",
   "metadata": {},
   "outputs": [
    {
     "name": "stdout",
     "output_type": "stream",
     "text": [
      "WARNING:tensorflow:AutoGraph could not transform <function <lambda> at 0x00000214E0FF4430> and will run it as-is.\n",
      "Please report this to the TensorFlow team. When filing the bug, set the verbosity to 10 (on Linux, `export AUTOGRAPH_VERBOSITY=10`) and attach the full output.\n",
      "Cause: module 'gast' has no attribute 'Index'\n",
      "To silence this warning, decorate the function with @tf.autograph.experimental.do_not_convert\n"
     ]
    },
    {
     "name": "stderr",
     "output_type": "stream",
     "text": [
      "WARNING:tensorflow:AutoGraph could not transform <function <lambda> at 0x00000214E0FF4430> and will run it as-is.\n",
      "Please report this to the TensorFlow team. When filing the bug, set the verbosity to 10 (on Linux, `export AUTOGRAPH_VERBOSITY=10`) and attach the full output.\n",
      "Cause: module 'gast' has no attribute 'Index'\n",
      "To silence this warning, decorate the function with @tf.autograph.experimental.do_not_convert\n"
     ]
    },
    {
     "name": "stdout",
     "output_type": "stream",
     "text": [
      "WARNING: AutoGraph could not transform <function <lambda> at 0x00000214E0FF4430> and will run it as-is.\n",
      "Please report this to the TensorFlow team. When filing the bug, set the verbosity to 10 (on Linux, `export AUTOGRAPH_VERBOSITY=10`) and attach the full output.\n",
      "Cause: module 'gast' has no attribute 'Index'\n",
      "To silence this warning, decorate the function with @tf.autograph.experimental.do_not_convert\n",
      "WARNING:tensorflow:AutoGraph could not transform <function <lambda> at 0x00000214E0FF41F0> and will run it as-is.\n",
      "Please report this to the TensorFlow team. When filing the bug, set the verbosity to 10 (on Linux, `export AUTOGRAPH_VERBOSITY=10`) and attach the full output.\n",
      "Cause: module 'gast' has no attribute 'Index'\n",
      "To silence this warning, decorate the function with @tf.autograph.experimental.do_not_convert\n"
     ]
    },
    {
     "name": "stderr",
     "output_type": "stream",
     "text": [
      "WARNING:tensorflow:AutoGraph could not transform <function <lambda> at 0x00000214E0FF41F0> and will run it as-is.\n",
      "Please report this to the TensorFlow team. When filing the bug, set the verbosity to 10 (on Linux, `export AUTOGRAPH_VERBOSITY=10`) and attach the full output.\n",
      "Cause: module 'gast' has no attribute 'Index'\n",
      "To silence this warning, decorate the function with @tf.autograph.experimental.do_not_convert\n"
     ]
    },
    {
     "name": "stdout",
     "output_type": "stream",
     "text": [
      "WARNING: AutoGraph could not transform <function <lambda> at 0x00000214E0FF41F0> and will run it as-is.\n",
      "Please report this to the TensorFlow team. When filing the bug, set the verbosity to 10 (on Linux, `export AUTOGRAPH_VERBOSITY=10`) and attach the full output.\n",
      "Cause: module 'gast' has no attribute 'Index'\n",
      "To silence this warning, decorate the function with @tf.autograph.experimental.do_not_convert\n"
     ]
    }
   ],
   "source": [
    "ds_train = ds_train.map(lambda x: (x['features'], x['label']))\n",
    "ds_test = ds_test.map(lambda x: (x['features'], x['label']))"
   ]
  },
  {
   "cell_type": "code",
   "execution_count": 80,
   "id": "4b104d6c",
   "metadata": {},
   "outputs": [],
   "source": [
    "iris_mlp = tf.keras.Sequential([ tf.keras.layers.Dense(16, input_shape=(4,), activation='sigmoid'), tf.keras.layers.Dense(3, activation='softmax')])\n",
    "iris_mlp.compile(optimizer='adam', \n",
    " loss='sparse_categorical_crossentropy', \n",
    " metrics=['accuracy'])"
   ]
  },
  {
   "cell_type": "code",
   "execution_count": 81,
   "id": "4f56ca24",
   "metadata": {},
   "outputs": [],
   "source": [
    "TRAIN_SIZE = 100\n",
    "NUM_EPOCH = 50\n",
    "BATCH_SIZE = 2\n",
    "STEPS_PER_EPOCH = TRAIN_SIZE / BATCH_SIZE"
   ]
  },
  {
   "cell_type": "code",
   "execution_count": 82,
   "id": "b788b57e",
   "metadata": {},
   "outputs": [
    {
     "name": "stdout",
     "output_type": "stream",
     "text": [
      "Epoch 1/50\n",
      "50/50 [==============================] - 0s 320us/step - loss: 1.0042 - accuracy: 0.3900\n",
      "Epoch 2/50\n",
      "50/50 [==============================] - 0s 300us/step - loss: 0.9489 - accuracy: 0.6000\n",
      "Epoch 3/50\n",
      "50/50 [==============================] - 0s 320us/step - loss: 0.9071 - accuracy: 0.6700\n",
      "Epoch 4/50\n",
      "50/50 [==============================] - 0s 300us/step - loss: 0.8695 - accuracy: 0.6700\n",
      "Epoch 5/50\n",
      "50/50 [==============================] - 0s 300us/step - loss: 0.8393 - accuracy: 0.6700\n",
      "Epoch 6/50\n",
      "50/50 [==============================] - 0s 320us/step - loss: 0.8071 - accuracy: 0.6700\n",
      "Epoch 7/50\n",
      "50/50 [==============================] - 0s 300us/step - loss: 0.7689 - accuracy: 0.7600\n",
      "Epoch 8/50\n",
      "50/50 [==============================] - 0s 300us/step - loss: 0.7363 - accuracy: 0.6900\n",
      "Epoch 9/50\n",
      "50/50 [==============================] - 0s 300us/step - loss: 0.7043 - accuracy: 0.6700\n",
      "Epoch 10/50\n",
      "50/50 [==============================] - 0s 320us/step - loss: 0.6713 - accuracy: 0.6700\n",
      "Epoch 11/50\n",
      "50/50 [==============================] - 0s 300us/step - loss: 0.6383 - accuracy: 0.6800\n",
      "Epoch 12/50\n",
      "50/50 [==============================] - 0s 300us/step - loss: 0.6110 - accuracy: 0.7000\n",
      "Epoch 13/50\n",
      "50/50 [==============================] - 0s 300us/step - loss: 0.5865 - accuracy: 0.6800\n",
      "Epoch 14/50\n",
      "50/50 [==============================] - 0s 320us/step - loss: 0.5696 - accuracy: 0.8300\n",
      "Epoch 15/50\n",
      "50/50 [==============================] - 0s 310us/step - loss: 0.5519 - accuracy: 0.7600\n",
      "Epoch 16/50\n",
      "50/50 [==============================] - 0s 320us/step - loss: 0.5411 - accuracy: 0.7800\n",
      "Epoch 17/50\n",
      "50/50 [==============================] - 0s 299us/step - loss: 0.5245 - accuracy: 0.8200\n",
      "Epoch 18/50\n",
      "50/50 [==============================] - 0s 280us/step - loss: 0.5135 - accuracy: 0.8600\n",
      "Epoch 19/50\n",
      "50/50 [==============================] - 0s 330us/step - loss: 0.4999 - accuracy: 0.8600\n",
      "Epoch 20/50\n",
      "50/50 [==============================] - 0s 340us/step - loss: 0.4958 - accuracy: 0.7700\n",
      "Epoch 21/50\n",
      "50/50 [==============================] - 0s 320us/step - loss: 0.4831 - accuracy: 0.9100\n",
      "Epoch 22/50\n",
      "50/50 [==============================] - 0s 300us/step - loss: 0.4734 - accuracy: 0.9400\n",
      "Epoch 23/50\n",
      "50/50 [==============================] - 0s 297us/step - loss: 0.4656 - accuracy: 0.8300\n",
      "Epoch 24/50\n",
      "50/50 [==============================] - 0s 320us/step - loss: 0.4589 - accuracy: 0.8800\n",
      "Epoch 25/50\n",
      "50/50 [==============================] - 0s 320us/step - loss: 0.4520 - accuracy: 0.9000\n",
      "Epoch 26/50\n",
      "50/50 [==============================] - 0s 320us/step - loss: 0.4452 - accuracy: 0.9600\n",
      "Epoch 27/50\n",
      "50/50 [==============================] - 0s 320us/step - loss: 0.4378 - accuracy: 0.8900\n",
      "Epoch 28/50\n",
      "50/50 [==============================] - 0s 320us/step - loss: 0.4283 - accuracy: 0.9600\n",
      "Epoch 29/50\n",
      "50/50 [==============================] - 0s 280us/step - loss: 0.4251 - accuracy: 0.9700\n",
      "Epoch 30/50\n",
      "50/50 [==============================] - 0s 280us/step - loss: 0.4151 - accuracy: 0.9300\n",
      "Epoch 31/50\n",
      "50/50 [==============================] - 0s 280us/step - loss: 0.4116 - accuracy: 0.9600\n",
      "Epoch 32/50\n",
      "50/50 [==============================] - 0s 340us/step - loss: 0.4029 - accuracy: 0.9600\n",
      "Epoch 33/50\n",
      "50/50 [==============================] - 0s 300us/step - loss: 0.3974 - accuracy: 0.9400\n",
      "Epoch 34/50\n",
      "50/50 [==============================] - 0s 300us/step - loss: 0.3914 - accuracy: 0.9600\n",
      "Epoch 35/50\n",
      "50/50 [==============================] - 0s 300us/step - loss: 0.3848 - accuracy: 0.9700\n",
      "Epoch 36/50\n",
      "50/50 [==============================] - 0s 300us/step - loss: 0.3797 - accuracy: 0.9500\n",
      "Epoch 37/50\n",
      "50/50 [==============================] - 0s 300us/step - loss: 0.3739 - accuracy: 0.9600\n",
      "Epoch 38/50\n",
      "50/50 [==============================] - 0s 299us/step - loss: 0.3705 - accuracy: 0.9600\n",
      "Epoch 39/50\n",
      "50/50 [==============================] - 0s 320us/step - loss: 0.3655 - accuracy: 0.9500\n",
      "Epoch 40/50\n",
      "50/50 [==============================] - 0s 300us/step - loss: 0.3592 - accuracy: 0.9600\n",
      "Epoch 41/50\n",
      "50/50 [==============================] - 0s 300us/step - loss: 0.3532 - accuracy: 0.9500\n",
      "Epoch 42/50\n",
      "50/50 [==============================] - 0s 320us/step - loss: 0.3488 - accuracy: 0.9700\n",
      "Epoch 43/50\n",
      "50/50 [==============================] - 0s 296us/step - loss: 0.3460 - accuracy: 0.9600\n",
      "Epoch 44/50\n",
      "50/50 [==============================] - 0s 315us/step - loss: 0.3380 - accuracy: 0.9600\n",
      "Epoch 45/50\n",
      "50/50 [==============================] - 0s 300us/step - loss: 0.3360 - accuracy: 0.9700\n",
      "Epoch 46/50\n",
      "50/50 [==============================] - 0s 320us/step - loss: 0.3326 - accuracy: 0.9700\n",
      "Epoch 47/50\n",
      "50/50 [==============================] - 0s 300us/step - loss: 0.3281 - accuracy: 0.9700\n",
      "Epoch 48/50\n",
      "50/50 [==============================] - 0s 300us/step - loss: 0.3235 - accuracy: 0.9600\n",
      "Epoch 49/50\n",
      "50/50 [==============================] - 0s 300us/step - loss: 0.3153 - accuracy: 0.9800\n",
      "Epoch 50/50\n",
      "50/50 [==============================] - 0s 340us/step - loss: 0.3100 - accuracy: 0.9600\n",
      "1/1 [==============================] - 0s 1ms/step - loss: 0.2336 - accuracy: 0.9800\n"
     ]
    },
    {
     "data": {
      "text/plain": [
       "[0.23358942568302155, 0.9800000190734863]"
      ]
     },
     "execution_count": 82,
     "metadata": {},
     "output_type": "execute_result"
    }
   ],
   "source": [
    "ds_train = ds_train.shuffle(TRAIN_SIZE).batch(BATCH_SIZE)\n",
    "history = iris_mlp.fit(ds_train, epochs=NUM_EPOCH, steps_per_epoch=STEPS_PER_EPOCH)\n",
    "iris_mlp.evaluate(ds_test.batch(50))"
   ]
  },
  {
   "cell_type": "code",
   "execution_count": 83,
   "id": "76f87015",
   "metadata": {},
   "outputs": [
    {
     "name": "stdout",
     "output_type": "stream",
     "text": [
      "1/1 [==============================] - 0s 1ms/step - loss: 0.2336 - accuracy: 0.9800\n"
     ]
    },
    {
     "data": {
      "text/plain": [
       "[0.23358942568302155, 0.9800000190734863]"
      ]
     },
     "execution_count": 83,
     "metadata": {},
     "output_type": "execute_result"
    }
   ],
   "source": [
    "iris_mlp.evaluate(ds_test.batch(50))"
   ]
  },
  {
   "cell_type": "code",
   "execution_count": null,
   "id": "833c0d58",
   "metadata": {},
   "outputs": [],
   "source": []
  }
 ],
 "metadata": {
  "kernelspec": {
   "display_name": "Python 3",
   "language": "python",
   "name": "python3"
  },
  "language_info": {
   "codemirror_mode": {
    "name": "ipython",
    "version": 3
   },
   "file_extension": ".py",
   "mimetype": "text/x-python",
   "name": "python",
   "nbconvert_exporter": "python",
   "pygments_lexer": "ipython3",
   "version": "3.8.8"
  }
 },
 "nbformat": 4,
 "nbformat_minor": 5
}
