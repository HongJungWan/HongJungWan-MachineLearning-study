{
 "cells": [
  {
   "cell_type": "markdown",
   "id": "a3f9eabf",
   "metadata": {},
   "source": [
    "# 201758073 컴퓨터공학과 홍정완, < 과제 #3 : Regression >"
   ]
  },
  {
   "cell_type": "code",
   "execution_count": 8,
   "id": "25242616",
   "metadata": {},
   "outputs": [],
   "source": [
    "import numpy as np\n",
    "import pandas as pd\n",
    "import matplotlib.pyplot as plt"
   ]
  },
  {
   "cell_type": "markdown",
   "id": "f5ac988b",
   "metadata": {},
   "source": [
    "### 1) 파일을 읽어 데이터프레임을 생성하고 처음 3개의 샘플을 출력하시오. 특성의 개수와 샘플(관측치)의 개수를 구하고 결측치가 있는지 알아보시오. 수치형 특성과 범주형 특성은 무엇인지 파악하시오. "
   ]
  },
  {
   "cell_type": "code",
   "execution_count": 9,
   "id": "abc9ac2c",
   "metadata": {},
   "outputs": [],
   "source": [
    "df = pd.read_csv('HW3.csv')"
   ]
  },
  {
   "cell_type": "code",
   "execution_count": 10,
   "id": "64ed097e",
   "metadata": {},
   "outputs": [
    {
     "data": {
      "text/html": [
       "<div>\n",
       "<style scoped>\n",
       "    .dataframe tbody tr th:only-of-type {\n",
       "        vertical-align: middle;\n",
       "    }\n",
       "\n",
       "    .dataframe tbody tr th {\n",
       "        vertical-align: top;\n",
       "    }\n",
       "\n",
       "    .dataframe thead th {\n",
       "        text-align: right;\n",
       "    }\n",
       "</style>\n",
       "<table border=\"1\" class=\"dataframe\">\n",
       "  <thead>\n",
       "    <tr style=\"text-align: right;\">\n",
       "      <th></th>\n",
       "      <th>Unnamed: 0</th>\n",
       "      <th>Income</th>\n",
       "      <th>Limit</th>\n",
       "      <th>Rating</th>\n",
       "      <th>Cards</th>\n",
       "      <th>Age</th>\n",
       "      <th>Education</th>\n",
       "      <th>Gender</th>\n",
       "      <th>Student</th>\n",
       "      <th>Married</th>\n",
       "      <th>Ethnicity</th>\n",
       "      <th>Balance</th>\n",
       "    </tr>\n",
       "  </thead>\n",
       "  <tbody>\n",
       "    <tr>\n",
       "      <th>0</th>\n",
       "      <td>1</td>\n",
       "      <td>14.891</td>\n",
       "      <td>3606</td>\n",
       "      <td>283</td>\n",
       "      <td>2</td>\n",
       "      <td>34</td>\n",
       "      <td>11</td>\n",
       "      <td>Male</td>\n",
       "      <td>No</td>\n",
       "      <td>Yes</td>\n",
       "      <td>Caucasian</td>\n",
       "      <td>333</td>\n",
       "    </tr>\n",
       "    <tr>\n",
       "      <th>1</th>\n",
       "      <td>2</td>\n",
       "      <td>106.025</td>\n",
       "      <td>6645</td>\n",
       "      <td>483</td>\n",
       "      <td>3</td>\n",
       "      <td>82</td>\n",
       "      <td>15</td>\n",
       "      <td>Female</td>\n",
       "      <td>Yes</td>\n",
       "      <td>Yes</td>\n",
       "      <td>Asian</td>\n",
       "      <td>903</td>\n",
       "    </tr>\n",
       "    <tr>\n",
       "      <th>2</th>\n",
       "      <td>3</td>\n",
       "      <td>104.593</td>\n",
       "      <td>7075</td>\n",
       "      <td>514</td>\n",
       "      <td>4</td>\n",
       "      <td>71</td>\n",
       "      <td>11</td>\n",
       "      <td>Male</td>\n",
       "      <td>No</td>\n",
       "      <td>No</td>\n",
       "      <td>Asian</td>\n",
       "      <td>580</td>\n",
       "    </tr>\n",
       "  </tbody>\n",
       "</table>\n",
       "</div>"
      ],
      "text/plain": [
       "   Unnamed: 0   Income  Limit  Rating  Cards  Age  Education  Gender Student  \\\n",
       "0           1   14.891   3606     283      2   34         11    Male      No   \n",
       "1           2  106.025   6645     483      3   82         15  Female     Yes   \n",
       "2           3  104.593   7075     514      4   71         11    Male      No   \n",
       "\n",
       "  Married  Ethnicity  Balance  \n",
       "0     Yes  Caucasian      333  \n",
       "1     Yes      Asian      903  \n",
       "2      No      Asian      580  "
      ]
     },
     "execution_count": 10,
     "metadata": {},
     "output_type": "execute_result"
    }
   ],
   "source": [
    "df.head(3)"
   ]
  },
  {
   "cell_type": "code",
   "execution_count": 72,
   "id": "55714fd1",
   "metadata": {},
   "outputs": [
    {
     "name": "stdout",
     "output_type": "stream",
     "text": [
      "<class 'pandas.core.frame.DataFrame'>\n",
      "RangeIndex: 400 entries, 0 to 399\n",
      "Data columns (total 12 columns):\n",
      " #   Column      Non-Null Count  Dtype  \n",
      "---  ------      --------------  -----  \n",
      " 0   Unnamed: 0  400 non-null    int64  \n",
      " 1   Income      400 non-null    float64\n",
      " 2   Limit       400 non-null    int64  \n",
      " 3   Rating      400 non-null    int64  \n",
      " 4   Cards       400 non-null    int64  \n",
      " 5   Age         400 non-null    int64  \n",
      " 6   Education   400 non-null    int64  \n",
      " 7   Gender      400 non-null    object \n",
      " 8   Student     400 non-null    object \n",
      " 9   Married     400 non-null    object \n",
      " 10  Ethnicity   400 non-null    object \n",
      " 11  Balance     400 non-null    int64  \n",
      "dtypes: float64(1), int64(7), object(4)\n",
      "memory usage: 37.6+ KB\n"
     ]
    }
   ],
   "source": [
    "df.info() # 샘플 개수 400개"
   ]
  },
  {
   "cell_type": "code",
   "execution_count": 73,
   "id": "40ac18e7",
   "metadata": {},
   "outputs": [
    {
     "data": {
      "text/plain": [
       "Unnamed: 0    0\n",
       "Income        0\n",
       "Limit         0\n",
       "Rating        0\n",
       "Cards         0\n",
       "Age           0\n",
       "Education     0\n",
       "Gender        0\n",
       "Student       0\n",
       "Married       0\n",
       "Ethnicity     0\n",
       "Balance       0\n",
       "dtype: int64"
      ]
     },
     "execution_count": 73,
     "metadata": {},
     "output_type": "execute_result"
    }
   ],
   "source": [
    "df.isnull().sum() # 결측치 없음"
   ]
  },
  {
   "cell_type": "code",
   "execution_count": 74,
   "id": "e06ed267",
   "metadata": {},
   "outputs": [
    {
     "data": {
      "text/plain": [
       "Index(['Unnamed: 0', 'Income', 'Limit', 'Rating', 'Cards', 'Age', 'Education',\n",
       "       'Gender', 'Student', 'Married', 'Ethnicity', 'Balance'],\n",
       "      dtype='object')"
      ]
     },
     "execution_count": 74,
     "metadata": {},
     "output_type": "execute_result"
    }
   ],
   "source": [
    "df.columns # 특성 수 11개"
   ]
  },
  {
   "cell_type": "code",
   "execution_count": 75,
   "id": "8e332fd1",
   "metadata": {},
   "outputs": [
    {
     "data": {
      "text/html": [
       "<div>\n",
       "<style scoped>\n",
       "    .dataframe tbody tr th:only-of-type {\n",
       "        vertical-align: middle;\n",
       "    }\n",
       "\n",
       "    .dataframe tbody tr th {\n",
       "        vertical-align: top;\n",
       "    }\n",
       "\n",
       "    .dataframe thead th {\n",
       "        text-align: right;\n",
       "    }\n",
       "</style>\n",
       "<table border=\"1\" class=\"dataframe\">\n",
       "  <thead>\n",
       "    <tr style=\"text-align: right;\">\n",
       "      <th></th>\n",
       "      <th>Unnamed: 0</th>\n",
       "      <th>Income</th>\n",
       "      <th>Limit</th>\n",
       "      <th>Rating</th>\n",
       "      <th>Cards</th>\n",
       "      <th>Age</th>\n",
       "      <th>Education</th>\n",
       "      <th>Balance</th>\n",
       "    </tr>\n",
       "  </thead>\n",
       "  <tbody>\n",
       "    <tr>\n",
       "      <th>count</th>\n",
       "      <td>400.000000</td>\n",
       "      <td>400.000000</td>\n",
       "      <td>400.000000</td>\n",
       "      <td>400.000000</td>\n",
       "      <td>400.000000</td>\n",
       "      <td>400.000000</td>\n",
       "      <td>400.000000</td>\n",
       "      <td>400.000000</td>\n",
       "    </tr>\n",
       "    <tr>\n",
       "      <th>mean</th>\n",
       "      <td>200.500000</td>\n",
       "      <td>45.218885</td>\n",
       "      <td>4735.600000</td>\n",
       "      <td>354.940000</td>\n",
       "      <td>2.957500</td>\n",
       "      <td>55.667500</td>\n",
       "      <td>13.450000</td>\n",
       "      <td>520.015000</td>\n",
       "    </tr>\n",
       "    <tr>\n",
       "      <th>std</th>\n",
       "      <td>115.614301</td>\n",
       "      <td>35.244273</td>\n",
       "      <td>2308.198848</td>\n",
       "      <td>154.724143</td>\n",
       "      <td>1.371275</td>\n",
       "      <td>17.249807</td>\n",
       "      <td>3.125207</td>\n",
       "      <td>459.758877</td>\n",
       "    </tr>\n",
       "    <tr>\n",
       "      <th>min</th>\n",
       "      <td>1.000000</td>\n",
       "      <td>10.354000</td>\n",
       "      <td>855.000000</td>\n",
       "      <td>93.000000</td>\n",
       "      <td>1.000000</td>\n",
       "      <td>23.000000</td>\n",
       "      <td>5.000000</td>\n",
       "      <td>0.000000</td>\n",
       "    </tr>\n",
       "    <tr>\n",
       "      <th>25%</th>\n",
       "      <td>100.750000</td>\n",
       "      <td>21.007250</td>\n",
       "      <td>3088.000000</td>\n",
       "      <td>247.250000</td>\n",
       "      <td>2.000000</td>\n",
       "      <td>41.750000</td>\n",
       "      <td>11.000000</td>\n",
       "      <td>68.750000</td>\n",
       "    </tr>\n",
       "    <tr>\n",
       "      <th>50%</th>\n",
       "      <td>200.500000</td>\n",
       "      <td>33.115500</td>\n",
       "      <td>4622.500000</td>\n",
       "      <td>344.000000</td>\n",
       "      <td>3.000000</td>\n",
       "      <td>56.000000</td>\n",
       "      <td>14.000000</td>\n",
       "      <td>459.500000</td>\n",
       "    </tr>\n",
       "    <tr>\n",
       "      <th>75%</th>\n",
       "      <td>300.250000</td>\n",
       "      <td>57.470750</td>\n",
       "      <td>5872.750000</td>\n",
       "      <td>437.250000</td>\n",
       "      <td>4.000000</td>\n",
       "      <td>70.000000</td>\n",
       "      <td>16.000000</td>\n",
       "      <td>863.000000</td>\n",
       "    </tr>\n",
       "    <tr>\n",
       "      <th>max</th>\n",
       "      <td>400.000000</td>\n",
       "      <td>186.634000</td>\n",
       "      <td>13913.000000</td>\n",
       "      <td>982.000000</td>\n",
       "      <td>9.000000</td>\n",
       "      <td>98.000000</td>\n",
       "      <td>20.000000</td>\n",
       "      <td>1999.000000</td>\n",
       "    </tr>\n",
       "  </tbody>\n",
       "</table>\n",
       "</div>"
      ],
      "text/plain": [
       "       Unnamed: 0      Income         Limit      Rating       Cards  \\\n",
       "count  400.000000  400.000000    400.000000  400.000000  400.000000   \n",
       "mean   200.500000   45.218885   4735.600000  354.940000    2.957500   \n",
       "std    115.614301   35.244273   2308.198848  154.724143    1.371275   \n",
       "min      1.000000   10.354000    855.000000   93.000000    1.000000   \n",
       "25%    100.750000   21.007250   3088.000000  247.250000    2.000000   \n",
       "50%    200.500000   33.115500   4622.500000  344.000000    3.000000   \n",
       "75%    300.250000   57.470750   5872.750000  437.250000    4.000000   \n",
       "max    400.000000  186.634000  13913.000000  982.000000    9.000000   \n",
       "\n",
       "              Age   Education      Balance  \n",
       "count  400.000000  400.000000   400.000000  \n",
       "mean    55.667500   13.450000   520.015000  \n",
       "std     17.249807    3.125207   459.758877  \n",
       "min     23.000000    5.000000     0.000000  \n",
       "25%     41.750000   11.000000    68.750000  \n",
       "50%     56.000000   14.000000   459.500000  \n",
       "75%     70.000000   16.000000   863.000000  \n",
       "max     98.000000   20.000000  1999.000000  "
      ]
     },
     "execution_count": 75,
     "metadata": {},
     "output_type": "execute_result"
    }
   ],
   "source": [
    "df.describe() # 수치형 특성 : Income, Limit, Rating, Cards, Age, Education, Balance"
   ]
  },
  {
   "cell_type": "markdown",
   "id": "a9c40bc7",
   "metadata": {},
   "source": [
    "#### 범주형 특성 : Gender, Student, Married, Ethnicity"
   ]
  },
  {
   "cell_type": "code",
   "execution_count": 76,
   "id": "12523b34",
   "metadata": {},
   "outputs": [
    {
     "data": {
      "text/plain": [
       "array(['Male', 'Female'], dtype=object)"
      ]
     },
     "execution_count": 76,
     "metadata": {},
     "output_type": "execute_result"
    }
   ],
   "source": [
    "df.Gender.unique()"
   ]
  },
  {
   "cell_type": "code",
   "execution_count": 77,
   "id": "940a74f5",
   "metadata": {},
   "outputs": [
    {
     "data": {
      "text/plain": [
       "array(['No', 'Yes'], dtype=object)"
      ]
     },
     "execution_count": 77,
     "metadata": {},
     "output_type": "execute_result"
    }
   ],
   "source": [
    "df.Student.unique()"
   ]
  },
  {
   "cell_type": "code",
   "execution_count": 78,
   "id": "1a9783f6",
   "metadata": {},
   "outputs": [
    {
     "data": {
      "text/plain": [
       "array(['Yes', 'No'], dtype=object)"
      ]
     },
     "execution_count": 78,
     "metadata": {},
     "output_type": "execute_result"
    }
   ],
   "source": [
    "df.Married.unique()"
   ]
  },
  {
   "cell_type": "code",
   "execution_count": 79,
   "id": "32f532f2",
   "metadata": {},
   "outputs": [
    {
     "data": {
      "text/plain": [
       "array(['Caucasian', 'Asian', 'African American'], dtype=object)"
      ]
     },
     "execution_count": 79,
     "metadata": {},
     "output_type": "execute_result"
    }
   ],
   "source": [
    "df.Ethnicity.unique()"
   ]
  },
  {
   "cell_type": "markdown",
   "id": "c6a8083a",
   "metadata": {},
   "source": [
    "### 2) 수치형 특성과 레이블에 대하여는 히스토그램을 작성하고 범주형 특성에 대하여는 막대그래프를 작성하고 간단히 코멘트 하시오."
   ]
  },
  {
   "cell_type": "code",
   "execution_count": 19,
   "id": "d8acd02a",
   "metadata": {},
   "outputs": [
    {
     "data": {
      "image/png": "[encoded data removed]",
      "text/plain": [
       "<Figure size 432x288 with 6 Axes>"
      ]
     },
     "metadata": {
      "needs_background": "light"
     },
     "output_type": "display_data"
    }
   ],
   "source": [
    "# 수치형 특성과 레이블 -> 히스토그램\n",
    "plt.subplot(2,3,1)\n",
    "plt.hist(df.Income,label=[df.Balance])\n",
    "plt.title(\"Income\")\n",
    "plt.subplot(2,3,2)\n",
    "plt.hist(df.Limit,label=[df.Balance])\n",
    "plt.title(\"Limit\")\n",
    "plt.subplot(2,3,3)\n",
    "plt.hist(df.Rating,label=[df.Balance])\n",
    "plt.title(\"Rating\")\n",
    "plt.subplot(2,3,4)\n",
    "plt.hist(df.Cards,label=[df.Balance])\n",
    "plt.title(\"Cards\")\n",
    "plt.subplot(2,3,5)\n",
    "plt.hist(df.Age,label=[df.Balance])\n",
    "plt.title(\"Age\")\n",
    "plt.subplot(2,3,6)\n",
    "plt.hist(df.Education,label=[df.Balance])\n",
    "plt.title(\"Education\")\n",
    "plt.tight_layout()"
   ]
  },
  {
   "cell_type": "code",
   "execution_count": 20,
   "id": "be0a48a1",
   "metadata": {},
   "outputs": [
    {
     "data": {
      "image/png": "[encoded data removed]",
      "text/plain": [
       "<Figure size 432x288 with 4 Axes>"
      ]
     },
     "metadata": {
      "needs_background": "light"
     },
     "output_type": "display_data"
    }
   ],
   "source": [
    "# 범주형 특성과 레이블 -> 막대그래프\n",
    "plt.subplot(2,2,1)\n",
    "plt.bar(df.Gender,df.Balance)\n",
    "plt.subplot(2,2,2)\n",
    "plt.bar(df.Student,df.Balance)\n",
    "plt.subplot(2,2,3)\n",
    "plt.bar(df.Married,df.Balance)\n",
    "plt.subplot(2,2,4)\n",
    "plt.bar(df.Ethnicity,df.Balance)\n",
    "plt.tight_layout()"
   ]
  },
  {
   "cell_type": "markdown",
   "id": "9cc83b65",
   "metadata": {},
   "source": [
    "### 3) 데이터프레임에 corr() 메서드를 적용하여 변수들간의 상관계수를 출력하고 해석하시오. "
   ]
  },
  {
   "cell_type": "code",
   "execution_count": 45,
   "id": "95a63b55",
   "metadata": {},
   "outputs": [
    {
     "data": {
      "text/html": [
       "<div>\n",
       "<style scoped>\n",
       "    .dataframe tbody tr th:only-of-type {\n",
       "        vertical-align: middle;\n",
       "    }\n",
       "\n",
       "    .dataframe tbody tr th {\n",
       "        vertical-align: top;\n",
       "    }\n",
       "\n",
       "    .dataframe thead th {\n",
       "        text-align: right;\n",
       "    }\n",
       "</style>\n",
       "<table border=\"1\" class=\"dataframe\">\n",
       "  <thead>\n",
       "    <tr style=\"text-align: right;\">\n",
       "      <th></th>\n",
       "      <th>Unnamed: 0</th>\n",
       "      <th>Income</th>\n",
       "      <th>Limit</th>\n",
       "      <th>Rating</th>\n",
       "      <th>Cards</th>\n",
       "      <th>Age</th>\n",
       "      <th>Education</th>\n",
       "      <th>Balance</th>\n",
       "    </tr>\n",
       "  </thead>\n",
       "  <tbody>\n",
       "    <tr>\n",
       "      <th>Unnamed: 0</th>\n",
       "      <td>1.000000</td>\n",
       "      <td>0.037203</td>\n",
       "      <td>0.024172</td>\n",
       "      <td>0.021985</td>\n",
       "      <td>-0.036304</td>\n",
       "      <td>0.058603</td>\n",
       "      <td>-0.001415</td>\n",
       "      <td>0.006064</td>\n",
       "    </tr>\n",
       "    <tr>\n",
       "      <th>Income</th>\n",
       "      <td>0.037203</td>\n",
       "      <td>1.000000</td>\n",
       "      <td>0.792088</td>\n",
       "      <td>0.791378</td>\n",
       "      <td>-0.018273</td>\n",
       "      <td>0.175338</td>\n",
       "      <td>-0.027692</td>\n",
       "      <td>0.463656</td>\n",
       "    </tr>\n",
       "    <tr>\n",
       "      <th>Limit</th>\n",
       "      <td>0.024172</td>\n",
       "      <td>0.792088</td>\n",
       "      <td>1.000000</td>\n",
       "      <td>0.996880</td>\n",
       "      <td>0.010231</td>\n",
       "      <td>0.100888</td>\n",
       "      <td>-0.023549</td>\n",
       "      <td>0.861697</td>\n",
       "    </tr>\n",
       "    <tr>\n",
       "      <th>Rating</th>\n",
       "      <td>0.021985</td>\n",
       "      <td>0.791378</td>\n",
       "      <td>0.996880</td>\n",
       "      <td>1.000000</td>\n",
       "      <td>0.053239</td>\n",
       "      <td>0.103165</td>\n",
       "      <td>-0.030136</td>\n",
       "      <td>0.863625</td>\n",
       "    </tr>\n",
       "    <tr>\n",
       "      <th>Cards</th>\n",
       "      <td>-0.036304</td>\n",
       "      <td>-0.018273</td>\n",
       "      <td>0.010231</td>\n",
       "      <td>0.053239</td>\n",
       "      <td>1.000000</td>\n",
       "      <td>0.042948</td>\n",
       "      <td>-0.051084</td>\n",
       "      <td>0.086456</td>\n",
       "    </tr>\n",
       "    <tr>\n",
       "      <th>Age</th>\n",
       "      <td>0.058603</td>\n",
       "      <td>0.175338</td>\n",
       "      <td>0.100888</td>\n",
       "      <td>0.103165</td>\n",
       "      <td>0.042948</td>\n",
       "      <td>1.000000</td>\n",
       "      <td>0.003619</td>\n",
       "      <td>0.001835</td>\n",
       "    </tr>\n",
       "    <tr>\n",
       "      <th>Education</th>\n",
       "      <td>-0.001415</td>\n",
       "      <td>-0.027692</td>\n",
       "      <td>-0.023549</td>\n",
       "      <td>-0.030136</td>\n",
       "      <td>-0.051084</td>\n",
       "      <td>0.003619</td>\n",
       "      <td>1.000000</td>\n",
       "      <td>-0.008062</td>\n",
       "    </tr>\n",
       "    <tr>\n",
       "      <th>Balance</th>\n",
       "      <td>0.006064</td>\n",
       "      <td>0.463656</td>\n",
       "      <td>0.861697</td>\n",
       "      <td>0.863625</td>\n",
       "      <td>0.086456</td>\n",
       "      <td>0.001835</td>\n",
       "      <td>-0.008062</td>\n",
       "      <td>1.000000</td>\n",
       "    </tr>\n",
       "  </tbody>\n",
       "</table>\n",
       "</div>"
      ],
      "text/plain": [
       "            Unnamed: 0    Income     Limit    Rating     Cards       Age  \\\n",
       "Unnamed: 0    1.000000  0.037203  0.024172  0.021985 -0.036304  0.058603   \n",
       "Income        0.037203  1.000000  0.792088  0.791378 -0.018273  0.175338   \n",
       "Limit         0.024172  0.792088  1.000000  0.996880  0.010231  0.100888   \n",
       "Rating        0.021985  0.791378  0.996880  1.000000  0.053239  0.103165   \n",
       "Cards        -0.036304 -0.018273  0.010231  0.053239  1.000000  0.042948   \n",
       "Age           0.058603  0.175338  0.100888  0.103165  0.042948  1.000000   \n",
       "Education    -0.001415 -0.027692 -0.023549 -0.030136 -0.051084  0.003619   \n",
       "Balance       0.006064  0.463656  0.861697  0.863625  0.086456  0.001835   \n",
       "\n",
       "            Education   Balance  \n",
       "Unnamed: 0  -0.001415  0.006064  \n",
       "Income      -0.027692  0.463656  \n",
       "Limit       -0.023549  0.861697  \n",
       "Rating      -0.030136  0.863625  \n",
       "Cards       -0.051084  0.086456  \n",
       "Age          0.003619  0.001835  \n",
       "Education    1.000000 -0.008062  \n",
       "Balance     -0.008062  1.000000  "
      ]
     },
     "execution_count": 45,
     "metadata": {},
     "output_type": "execute_result"
    }
   ],
   "source": [
    "df.corr() # 모든 컬럼 간의 Correlation"
   ]
  },
  {
   "cell_type": "markdown",
   "id": "53fc9866",
   "metadata": {},
   "source": [
    "### 4) 각 수치형 특성과 Balance(잔고) 변수와의 산점도를 아래와 같은 subplot으로 작성하시오."
   ]
  },
  {
   "cell_type": "code",
   "execution_count": 80,
   "id": "e803b054",
   "metadata": {},
   "outputs": [
    {
     "data": {
      "image/png": "[encoded data removed]",
      "text/plain": [
       "<Figure size 432x288 with 6 Axes>"
      ]
     },
     "metadata": {
      "needs_background": "light"
     },
     "output_type": "display_data"
    }
   ],
   "source": [
    "plt.subplot(2,3,1)\n",
    "plt.scatter(df.Income,df.Balance)\n",
    "plt.title(\"Income\")\n",
    "plt.subplot(2,3,2)\n",
    "plt.scatter(df.Limit,df.Balance)\n",
    "plt.title(\"Limit\")\n",
    "plt.subplot(2,3,3)\n",
    "plt.scatter(df.Rating,df.Balance)\n",
    "plt.title(\"Rating\")\n",
    "plt.subplot(2,3,4)\n",
    "plt.scatter(df.Cards,df.Balance)\n",
    "plt.title(\"Cards\")\n",
    "plt.subplot(2,3,5)\n",
    "plt.scatter(df.Age,df.Balance)\n",
    "plt.title(\"Age\")\n",
    "plt.subplot(2,3,6)\n",
    "plt.scatter(df.Education,df.Balance)\n",
    "plt.title(\"Education\")\n",
    "\n",
    "plt.tight_layout()"
   ]
  },
  {
   "cell_type": "markdown",
   "id": "450ed5d4",
   "metadata": {},
   "source": [
    "### 5) Rating(신용점수) 변수를 특성으로 하고 Balance(잔고) 변수를 레이블로 하는 단순선형회귀모형을 훈련하고 산점도에 회귀직선식을 표시하고 이 모형의 결정계수(R^2)을 구하시오."
   ]
  },
  {
   "cell_type": "code",
   "execution_count": 81,
   "id": "8f5fafc1",
   "metadata": {},
   "outputs": [
    {
     "name": "stdout",
     "output_type": "stream",
     "text": [
      "[[2.56624033]] [-390.84634179]\n"
     ]
    },
    {
     "data": {
      "text/plain": [
       "[<matplotlib.lines.Line2D at 0x2cbe03dc190>]"
      ]
     },
     "execution_count": 81,
     "metadata": {},
     "output_type": "execute_result"
    },
    {
     "data": {
      "image/png": "[encoded data removed]",
      "text/plain": [
       "<Figure size 432x288 with 1 Axes>"
      ]
     },
     "metadata": {
      "needs_background": "light"
     },
     "output_type": "display_data"
    }
   ],
   "source": [
    "from sklearn.linear_model import LinearRegression\n",
    "\n",
    "logistic=LinearRegression()\n",
    "x=df.Rating.to_numpy()\n",
    "x=x.reshape(-1,1)\n",
    "y=df.Balance.to_numpy().reshape(-1,1)\n",
    "logistic.fit(x,y)\n",
    "\n",
    "print(logistic.coef_,logistic.intercept_)\n",
    "pred=logistic.predict(x)\n",
    "\n",
    "plt.scatter(x,y)\n",
    "plt.plot(x,pred,c=\"red\")"
   ]
  },
  {
   "cell_type": "code",
   "execution_count": 82,
   "id": "837bf264",
   "metadata": {},
   "outputs": [
    {
     "data": {
      "text/plain": [
       "0.7458484180585037"
      ]
     },
     "execution_count": 82,
     "metadata": {},
     "output_type": "execute_result"
    }
   ],
   "source": [
    "logistic.score(x,y) #결정계수"
   ]
  },
  {
   "cell_type": "markdown",
   "id": "b4cb8069",
   "metadata": {},
   "source": [
    "### 6) 수치형 특성들만 포함하여 데이터를 훈련용과 테스트용으로 7:3으로 분할(random_state=0)하여 선형회귀모형을 훈련시키고 훈련데이터와 테스트데이터에 대한 결정계수를 구하시오. 과대적합이나 과소적합이 의심되는지 코멘트 하시오. Income이 100, Limit가 6000, Rating이 550, Card가 5개, 나이가 55, 교육년수가 20인 사람의 잔고를 예측하시오."
   ]
  },
  {
   "cell_type": "code",
   "execution_count": 83,
   "id": "de403b1c",
   "metadata": {},
   "outputs": [],
   "source": [
    "from sklearn.model_selection import train_test_split"
   ]
  },
  {
   "cell_type": "code",
   "execution_count": 84,
   "id": "91bde1b1",
   "metadata": {},
   "outputs": [],
   "source": [
    "X=df.drop(['Gender','Student','Married','Balance','Ethnicity','Unnamed: 0'],axis=1).to_numpy()\n",
    "y=df['Balance'].to_numpy()"
   ]
  },
  {
   "cell_type": "code",
   "execution_count": 85,
   "id": "67e16776",
   "metadata": {},
   "outputs": [],
   "source": [
    "X_train,X_test,y_train,y_test=train_test_split(X,y,train_size=0.7,random_state=0)"
   ]
  },
  {
   "cell_type": "code",
   "execution_count": 86,
   "id": "468d44c0",
   "metadata": {},
   "outputs": [
    {
     "name": "stdout",
     "output_type": "stream",
     "text": [
      "[-7.90523312  0.15976222  1.56900826 14.42490726 -0.60836095  2.94113733] -486.65943641918363\n"
     ]
    }
   ],
   "source": [
    "new_logistic=LinearRegression()\n",
    "new_logistic.fit(X_train,y_train)\n",
    "print(new_logistic.coef_,new_logistic.intercept_)"
   ]
  },
  {
   "cell_type": "markdown",
   "id": "5d5c8324",
   "metadata": {},
   "source": [
    "### 훈련, 테스트데이터 둘 다 성능이 낮음으로 과소적합 판단"
   ]
  },
  {
   "cell_type": "code",
   "execution_count": 87,
   "id": "8e262750",
   "metadata": {},
   "outputs": [
    {
     "data": {
      "text/plain": [
       "0.8857073035585357"
      ]
     },
     "execution_count": 87,
     "metadata": {},
     "output_type": "execute_result"
    }
   ],
   "source": [
    "new_logistic.score(X_train,y_train) # 훈련데이터 결정계수"
   ]
  },
  {
   "cell_type": "code",
   "execution_count": 88,
   "id": "e5fe2287",
   "metadata": {},
   "outputs": [
    {
     "data": {
      "text/plain": [
       "0.8557914117915564"
      ]
     },
     "execution_count": 88,
     "metadata": {},
     "output_type": "execute_result"
    }
   ],
   "source": [
    "new_logistic.score(X_test,y_test) # 테스트데이터 결정계수"
   ]
  },
  {
   "cell_type": "code",
   "execution_count": 89,
   "id": "fec0fd8e",
   "metadata": {},
   "outputs": [
    {
     "data": {
      "text/plain": [
       "array([[1.0e+02, 6.0e+03, 5.5e+02, 5.0e+00, 5.5e+01, 2.0e+01]])"
      ]
     },
     "execution_count": 89,
     "metadata": {},
     "output_type": "execute_result"
    }
   ],
   "source": [
    "test=np.array(['100','6000','550','5','55','20'],dtype=float).reshape(1,-1)\n",
    "test"
   ]
  },
  {
   "cell_type": "code",
   "execution_count": 90,
   "id": "bd4cab0c",
   "metadata": {},
   "outputs": [
    {
     "data": {
      "text/plain": [
       "array([641.83257176])"
      ]
     },
     "execution_count": 90,
     "metadata": {},
     "output_type": "execute_result"
    }
   ],
   "source": [
    "new_logistic.predict(test) # 잔고 예측"
   ]
  },
  {
   "cell_type": "code",
   "execution_count": null,
   "id": "00e86669",
   "metadata": {},
   "outputs": [],
   "source": []
  }
 ],
 "metadata": {
  "kernelspec": {
   "display_name": "Python 3",
   "language": "python",
   "name": "python3"
  },
  "language_info": {
   "codemirror_mode": {
    "name": "ipython",
    "version": 3
   },
   "file_extension": ".py",
   "mimetype": "text/x-python",
   "name": "python",
   "nbconvert_exporter": "python",
   "pygments_lexer": "ipython3",
   "version": "3.8.8"
  }
 },
 "nbformat": 4,
 "nbformat_minor": 5
}
