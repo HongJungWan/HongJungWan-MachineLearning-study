{
 "cells": [
  {
   "cell_type": "code",
   "execution_count": 1,
   "id": "04888b05",
   "metadata": {},
   "outputs": [],
   "source": [
    "import tensorflow as tf\n",
    "import numpy as np\n",
    "import pandas as pd\n",
    "import matplotlib.pyplot as plt"
   ]
  },
  {
   "cell_type": "code",
   "execution_count": 3,
   "id": "4aa8d103",
   "metadata": {},
   "outputs": [],
   "source": [
    "(X_train,y_train),(X_test,y_test)=tf.keras.datasets.fashion_mnist.load_data()"
   ]
  },
  {
   "cell_type": "code",
   "execution_count": 4,
   "id": "5dde018e",
   "metadata": {},
   "outputs": [],
   "source": [
    "#각 이미지는 28*28, 회색 스케일이며 숫자 0~255 정수로 이루어져 있음\n",
    "#따라서 간단하게 255.0로 나눔으로써 (0~255)->(0.0~1.0) 변환 \n",
    "X_train=X_train / 255.0\n",
    "X_test=X_test/255.0 #표준화"
   ]
  },
  {
   "cell_type": "code",
   "execution_count": 5,
   "id": "76d4fbd5",
   "metadata": {},
   "outputs": [],
   "source": [
    "model=tf.keras.models.Sequential([\n",
    "    tf.keras.layers.Flatten(input_shape=[28,28]), #input shape 입력층\n",
    "    tf.keras.layers.Dense(300,activation='relu'), #은닉층, 유닛의 수 300, relu \n",
    "    tf.keras.layers.Dense(100,activation='relu'), #은닉층, 유닛의 수 100\n",
    "    tf.keras.layers.Dense(10,activation='softmax') #출력층 범주가 10개 이므로 유닛의 수 반드시 10개, 다진 분류이기 떄문에 softmax!\n",
    "])"
   ]
  },
  {
   "cell_type": "code",
   "execution_count": 6,
   "id": "7a91e169",
   "metadata": {},
   "outputs": [],
   "source": [
    "#모델 컴파일 : 손실함수, 최적화알고리즘, 지표\n",
    "model.compile(loss='sparse_categorical_crossentropy', #sparse는 원핫인코딩하면 없고 인덱스로 하기 때문에 sparse을 붙어야함\n",
    "             optimizer='sgd',#확률적 경사 하강법\n",
    "             metrics=['accuracy'])"
   ]
  },
  {
   "cell_type": "code",
   "execution_count": 7,
   "id": "179482b7",
   "metadata": {},
   "outputs": [
    {
     "name": "stdout",
     "output_type": "stream",
     "text": [
      "Epoch 1/10\n",
      "1688/1688 [==============================] - 1s 606us/step - loss: 0.7210 - accuracy: 0.7642 - val_loss: 0.5218 - val_accuracy: 0.8200\n",
      "Epoch 2/10\n",
      "1688/1688 [==============================] - 1s 546us/step - loss: 0.4896 - accuracy: 0.8304 - val_loss: 0.4652 - val_accuracy: 0.8367\n",
      "Epoch 3/10\n",
      "1688/1688 [==============================] - 1s 549us/step - loss: 0.4458 - accuracy: 0.8432 - val_loss: 0.4368 - val_accuracy: 0.8447\n",
      "Epoch 4/10\n",
      "1688/1688 [==============================] - 1s 548us/step - loss: 0.4192 - accuracy: 0.8532 - val_loss: 0.4369 - val_accuracy: 0.8448\n",
      "Epoch 5/10\n",
      "1688/1688 [==============================] - 1s 548us/step - loss: 0.3992 - accuracy: 0.8591 - val_loss: 0.3950 - val_accuracy: 0.8565\n",
      "Epoch 6/10\n",
      "1688/1688 [==============================] - 1s 548us/step - loss: 0.3824 - accuracy: 0.8656 - val_loss: 0.4372 - val_accuracy: 0.8425\n",
      "Epoch 7/10\n",
      "1688/1688 [==============================] - 1s 548us/step - loss: 0.3691 - accuracy: 0.8692 - val_loss: 0.3803 - val_accuracy: 0.8665\n",
      "Epoch 8/10\n",
      "1688/1688 [==============================] - 1s 548us/step - loss: 0.3563 - accuracy: 0.8745 - val_loss: 0.3649 - val_accuracy: 0.8698\n",
      "Epoch 9/10\n",
      "1688/1688 [==============================] - 1s 549us/step - loss: 0.3455 - accuracy: 0.8780 - val_loss: 0.3567 - val_accuracy: 0.8720\n",
      "Epoch 10/10\n",
      "1688/1688 [==============================] - 1s 550us/step - loss: 0.3358 - accuracy: 0.8794 - val_loss: 0.3529 - val_accuracy: 0.8737\n"
     ]
    }
   ],
   "source": [
    "#모델 훈련\n",
    "history = model.fit(X_train,y_train,epochs=10,validation_split=0.1)"
   ]
  },
  {
   "cell_type": "code",
   "execution_count": 8,
   "id": "d1438899",
   "metadata": {},
   "outputs": [
    {
     "data": {
      "text/plain": [
       "tensorflow.python.keras.callbacks.History"
      ]
     },
     "execution_count": 8,
     "metadata": {},
     "output_type": "execute_result"
    }
   ],
   "source": [
    "type(history)"
   ]
  },
  {
   "cell_type": "code",
   "execution_count": 9,
   "id": "dbc20d91",
   "metadata": {},
   "outputs": [
    {
     "data": {
      "text/plain": [
       "<AxesSubplot:>"
      ]
     },
     "execution_count": 9,
     "metadata": {},
     "output_type": "execute_result"
    },
    {
     "data": {
      "image/png": "[encoded data removed]",
      "text/plain": [
       "<Figure size 432x288 with 1 Axes>"
      ]
     },
     "metadata": {
      "needs_background": "light"
     },
     "output_type": "display_data"
    }
   ],
   "source": [
    "#history 활용\n",
    "#그림 그리기\n",
    "#X축 에포크\n",
    "#학습곡선이라고 부름\n",
    "pd.DataFrame(history.history).plot()"
   ]
  },
  {
   "cell_type": "code",
   "execution_count": 10,
   "id": "2e8f5c8b",
   "metadata": {},
   "outputs": [
    {
     "data": {
      "text/plain": [
       "array([[1.45476706e-05, 1.08958675e-05, 4.47854545e-05, 4.32759480e-05,\n",
       "        9.41227518e-06, 3.58690359e-02, 3.62593746e-05, 5.40849306e-02,\n",
       "        2.07741489e-03, 9.07809496e-01],\n",
       "       [8.24141898e-05, 1.25935287e-07, 9.90806520e-01, 5.67130564e-06,\n",
       "        3.06639541e-03, 3.27337646e-09, 6.01057662e-03, 3.56658938e-11,\n",
       "        2.83639147e-05, 1.91847360e-09],\n",
       "       [1.99349088e-05, 9.99962807e-01, 7.45646958e-07, 1.15368239e-05,\n",
       "        4.37261224e-06, 2.38752684e-10, 2.20468323e-07, 1.19293844e-07,\n",
       "        2.97997929e-07, 5.45368284e-09]], dtype=float32)"
      ]
     },
     "execution_count": 10,
     "metadata": {},
     "output_type": "execute_result"
    }
   ],
   "source": [
    "#예측방법\n",
    "#결과가 값이 10개씩 있음 -> 각 범주에 속할 확률을 의미\n",
    "#즉 가장 큰 값의 번호를 찾기\n",
    "model.predict(X_test[:3])"
   ]
  },
  {
   "cell_type": "code",
   "execution_count": 11,
   "id": "69a57c68",
   "metadata": {},
   "outputs": [
    {
     "data": {
      "text/plain": [
       "array([9, 2, 1], dtype=int64)"
      ]
     },
     "execution_count": 11,
     "metadata": {},
     "output_type": "execute_result"
    }
   ],
   "source": [
    "np.argmax(model.predict(X_test[:3]),axis=1) #예측값"
   ]
  },
  {
   "cell_type": "code",
   "execution_count": 12,
   "id": "42c7fdb1",
   "metadata": {},
   "outputs": [
    {
     "data": {
      "text/plain": [
       "array([9, 2, 1], dtype=uint8)"
      ]
     },
     "execution_count": 12,
     "metadata": {},
     "output_type": "execute_result"
    }
   ],
   "source": [
    "y_test[:3] #진짜 값"
   ]
  },
  {
   "cell_type": "code",
   "execution_count": 13,
   "id": "b6d0cb3c",
   "metadata": {},
   "outputs": [
    {
     "name": "stdout",
     "output_type": "stream",
     "text": [
      "313/313 [==============================] - 0s 364us/step - loss: 0.3754 - accuracy: 0.8640\n"
     ]
    },
    {
     "data": {
      "text/plain": [
       "[0.37538033723831177, 0.8640000224113464]"
      ]
     },
     "execution_count": 13,
     "metadata": {},
     "output_type": "execute_result"
    }
   ],
   "source": [
    "#정확도\n",
    "model.evaluate(X_test,y_test)"
   ]
  },
  {
   "cell_type": "code",
   "execution_count": 14,
   "id": "dd5d89e1",
   "metadata": {},
   "outputs": [],
   "source": [
    "p=np.argmax(model.predict(X_test),axis=1) #confusion matrix"
   ]
  },
  {
   "cell_type": "code",
   "execution_count": 15,
   "id": "ef3ebc49",
   "metadata": {},
   "outputs": [],
   "source": [
    "from sklearn.metrics import confusion_matrix"
   ]
  },
  {
   "cell_type": "code",
   "execution_count": 16,
   "id": "2e9c772c",
   "metadata": {},
   "outputs": [
    {
     "data": {
      "text/plain": [
       "array([[850,   0,  13,  40,   3,   4,  71,   0,  19,   0],\n",
       "       [  3, 967,   0,  23,   3,   0,   3,   0,   1,   0],\n",
       "       [ 19,   1, 801,  16,  96,   1,  56,   0,  10,   0],\n",
       "       [ 29,  10,  11, 901,  22,   0,  20,   0,   7,   0],\n",
       "       [  0,   0, 111,  58, 759,   0,  61,   0,  11,   0],\n",
       "       [  0,   0,   0,   0,   0, 938,   1,  43,   2,  16],\n",
       "       [172,   1, 109,  44,  80,   0, 564,   0,  30,   0],\n",
       "       [  0,   0,   0,   0,   0,  26,   0, 942,   0,  32],\n",
       "       [  3,   1,   3,   9,   2,   2,   3,   7, 970,   0],\n",
       "       [  0,   0,   0,   0,   0,   8,   0,  43,   1, 948]], dtype=int64)"
      ]
     },
     "execution_count": 16,
     "metadata": {},
     "output_type": "execute_result"
    }
   ],
   "source": [
    "confusion_matrix(y_test,p) #대각선을 정확하게 맞친것"
   ]
  }
 ],
 "metadata": {
  "kernelspec": {
   "display_name": "Python 3",
   "language": "python",
   "name": "python3"
  },
  "language_info": {
   "codemirror_mode": {
    "name": "ipython",
    "version": 3
   },
   "file_extension": ".py",
   "mimetype": "text/x-python",
   "name": "python",
   "nbconvert_exporter": "python",
   "pygments_lexer": "ipython3",
   "version": "3.8.8"
  }
 },
 "nbformat": 4,
 "nbformat_minor": 5
}
