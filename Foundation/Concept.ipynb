{
 "cells": [
  {
   "cell_type": "markdown",
   "id": "dace57ba",
   "metadata": {},
   "source": [
    "10.27~11.17"
   ]
  },
  {
   "cell_type": "code",
   "execution_count": 3,
   "id": "55f54611",
   "metadata": {},
   "outputs": [],
   "source": [
    "# 10.27, Scikit-Learn, 단순선형회귀, Scikit-Learn의 선형회귀\n",
    "import numpy as np\n",
    "import pandas as pd\n",
    "import matplotlib.pyplot as plt"
   ]
  },
  {
   "cell_type": "code",
   "execution_count": 4,
   "id": "a6794060",
   "metadata": {},
   "outputs": [],
   "source": [
    "X = np.arange(10).reshape(10,1)"
   ]
  },
  {
   "cell_type": "code",
   "execution_count": 5,
   "id": "7117b4ea",
   "metadata": {
    "scrolled": true
   },
   "outputs": [
    {
     "data": {
      "text/plain": [
       "array([[0],\n",
       "       [1],\n",
       "       [2],\n",
       "       [3],\n",
       "       [4],\n",
       "       [5],\n",
       "       [6],\n",
       "       [7],\n",
       "       [8],\n",
       "       [9]])"
      ]
     },
     "execution_count": 5,
     "metadata": {},
     "output_type": "execute_result"
    }
   ],
   "source": [
    "X"
   ]
  },
  {
   "cell_type": "code",
   "execution_count": 6,
   "id": "c134926b",
   "metadata": {},
   "outputs": [],
   "source": [
    "y = np.array([-1,2,3,5,4,7,6,6,9,9])"
   ]
  },
  {
   "cell_type": "code",
   "execution_count": 7,
   "id": "7002f6eb",
   "metadata": {},
   "outputs": [
    {
     "data": {
      "text/plain": [
       "(10, 1)"
      ]
     },
     "execution_count": 7,
     "metadata": {},
     "output_type": "execute_result"
    }
   ],
   "source": [
    "X.shape"
   ]
  },
  {
   "cell_type": "code",
   "execution_count": 8,
   "id": "aadfadc5",
   "metadata": {},
   "outputs": [
    {
     "data": {
      "text/plain": [
       "(10,)"
      ]
     },
     "execution_count": 8,
     "metadata": {},
     "output_type": "execute_result"
    }
   ],
   "source": [
    "y.shape"
   ]
  },
  {
   "cell_type": "code",
   "execution_count": 9,
   "id": "561b2f80",
   "metadata": {},
   "outputs": [
    {
     "data": {
      "text/plain": [
       "array([-1,  2,  3,  5,  4,  7,  6,  6,  9,  9])"
      ]
     },
     "execution_count": 9,
     "metadata": {},
     "output_type": "execute_result"
    }
   ],
   "source": [
    "y"
   ]
  },
  {
   "cell_type": "code",
   "execution_count": 10,
   "id": "0918ccdb",
   "metadata": {},
   "outputs": [
    {
     "data": {
      "text/plain": [
       "<matplotlib.collections.PathCollection at 0x20449deef70>"
      ]
     },
     "execution_count": 10,
     "metadata": {},
     "output_type": "execute_result"
    },
    {
     "data": {
      "image/png": "[encoded data removed]",
      "text/plain": [
       "<Figure size 432x288 with 1 Axes>"
      ]
     },
     "metadata": {
      "needs_background": "light"
     },
     "output_type": "display_data"
    }
   ],
   "source": [
    "plt.scatter(X,y)"
   ]
  },
  {
   "cell_type": "code",
   "execution_count": 11,
   "id": "f3552c22",
   "metadata": {},
   "outputs": [],
   "source": [
    "# import 모듈 : 모듈 전체\n",
    "# from 모듈 import 이름 : 모듈 내에서 필요한 것만 콕 찍어서 가져오는 방법\n",
    "\n",
    "from sklearn.linear_model import LinearRegression"
   ]
  },
  {
   "cell_type": "code",
   "execution_count": 12,
   "id": "2c1987ca",
   "metadata": {},
   "outputs": [
    {
     "data": {
      "text/plain": [
       "LinearRegression()"
      ]
     },
     "execution_count": 12,
     "metadata": {},
     "output_type": "execute_result"
    }
   ],
   "source": [
    "reg = LinearRegression()\n",
    "reg.fit(X,y)"
   ]
  },
  {
   "cell_type": "code",
   "execution_count": 13,
   "id": "8c460b32",
   "metadata": {},
   "outputs": [
    {
     "data": {
      "text/plain": [
       "array([0.96969697])"
      ]
     },
     "execution_count": 13,
     "metadata": {},
     "output_type": "execute_result"
    }
   ],
   "source": [
    "reg.coef_ # 기울기 : .coef_"
   ]
  },
  {
   "cell_type": "code",
   "execution_count": 14,
   "id": "7651086c",
   "metadata": {},
   "outputs": [
    {
     "data": {
      "text/plain": [
       "0.6363636363636358"
      ]
     },
     "execution_count": 14,
     "metadata": {},
     "output_type": "execute_result"
    }
   ],
   "source": [
    "reg.intercept_ # 절편 : .intercept_"
   ]
  },
  {
   "cell_type": "code",
   "execution_count": 15,
   "id": "ccfd038c",
   "metadata": {},
   "outputs": [],
   "source": [
    "pred = reg.predict(X) # predict() 메서드에 예측하고 싶은 데이터 배열을 전달하면 데이터 수만큼 예측결과를 리턴"
   ]
  },
  {
   "cell_type": "code",
   "execution_count": 16,
   "id": "bb770c58",
   "metadata": {},
   "outputs": [
    {
     "data": {
      "text/plain": [
       "array([0.63636364, 1.60606061, 2.57575758, 3.54545455, 4.51515152,\n",
       "       5.48484848, 6.45454545, 7.42424242, 8.39393939, 9.36363636])"
      ]
     },
     "execution_count": 16,
     "metadata": {},
     "output_type": "execute_result"
    }
   ],
   "source": [
    "pred "
   ]
  },
  {
   "cell_type": "code",
   "execution_count": 17,
   "id": "862960e2",
   "metadata": {},
   "outputs": [
    {
     "data": {
      "text/plain": [
       "[<matplotlib.lines.Line2D at 0x2044a7f4400>]"
      ]
     },
     "execution_count": 17,
     "metadata": {},
     "output_type": "execute_result"
    },
    {
     "data": {
      "image/png": "[encoded data removed]",
      "text/plain": [
       "<Figure size 432x288 with 1 Axes>"
      ]
     },
     "metadata": {
      "needs_background": "light"
     },
     "output_type": "display_data"
    }
   ],
   "source": [
    "plt.scatter(X,y)\n",
    "plt.plot(X,pred,color='r') # 안에 파라미터로 그래프 그림"
   ]
  },
  {
   "cell_type": "code",
   "execution_count": 18,
   "id": "0055b75c",
   "metadata": {},
   "outputs": [],
   "source": [
    "reg2 =LinearRegression(fit_intercept=False) \n",
    "# 절편 없음 : 원점을 지나는 회귀, fit_intercept 인수는 모형에 상수항이 있는가 없는가를 결정하는 함수"
   ]
  },
  {
   "cell_type": "code",
   "execution_count": 19,
   "id": "0f889db2",
   "metadata": {},
   "outputs": [
    {
     "data": {
      "text/plain": [
       "LinearRegression(fit_intercept=False)"
      ]
     },
     "execution_count": 19,
     "metadata": {},
     "output_type": "execute_result"
    }
   ],
   "source": [
    "reg2.fit(X,y)"
   ]
  },
  {
   "cell_type": "code",
   "execution_count": 20,
   "id": "494cd829",
   "metadata": {},
   "outputs": [],
   "source": [
    "pred2=reg2.predict(X)"
   ]
  },
  {
   "cell_type": "code",
   "execution_count": 21,
   "id": "eb3afa66",
   "metadata": {},
   "outputs": [
    {
     "data": {
      "text/plain": [
       "array([1.07017544])"
      ]
     },
     "execution_count": 21,
     "metadata": {},
     "output_type": "execute_result"
    }
   ],
   "source": [
    "reg2.coef_"
   ]
  },
  {
   "cell_type": "code",
   "execution_count": 22,
   "id": "4f1b1749",
   "metadata": {},
   "outputs": [
    {
     "data": {
      "text/plain": [
       "0.0"
      ]
     },
     "execution_count": 22,
     "metadata": {},
     "output_type": "execute_result"
    }
   ],
   "source": [
    "reg2.intercept_"
   ]
  },
  {
   "cell_type": "code",
   "execution_count": 23,
   "id": "b0d3db22",
   "metadata": {},
   "outputs": [
    {
     "data": {
      "text/plain": [
       "[<matplotlib.lines.Line2D at 0x2044a857a60>]"
      ]
     },
     "execution_count": 23,
     "metadata": {},
     "output_type": "execute_result"
    },
    {
     "data": {
      "image/png": "[encoded data removed]",
      "text/plain": [
       "<Figure size 432x288 with 1 Axes>"
      ]
     },
     "metadata": {
      "needs_background": "light"
     },
     "output_type": "display_data"
    }
   ],
   "source": [
    "plt.scatter(X,y)\n",
    "plt.plot(X,pred,color='r')\n",
    "plt.plot(X,pred2,color='g')"
   ]
  },
  {
   "cell_type": "code",
   "execution_count": 24,
   "id": "e98b3ece",
   "metadata": {},
   "outputs": [
    {
     "data": {
      "text/plain": [
       "0.8815426997245179"
      ]
     },
     "execution_count": 24,
     "metadata": {},
     "output_type": "execute_result"
    }
   ],
   "source": [
    "reg.score(X,y) # 결정 계수 (R^2) : 1에 가까울수록 좋다"
   ]
  },
  {
   "cell_type": "code",
   "execution_count": 25,
   "id": "7bacb3af",
   "metadata": {},
   "outputs": [
    {
     "data": {
      "text/plain": [
       "0.8682216905901117"
      ]
     },
     "execution_count": 25,
     "metadata": {},
     "output_type": "execute_result"
    }
   ],
   "source": [
    "reg2.score(X,y)"
   ]
  },
  {
   "cell_type": "code",
   "execution_count": 26,
   "id": "e0c4450f",
   "metadata": {},
   "outputs": [],
   "source": [
    "# 11.1 ~ 11.3, 지도학습, 분류(classification), 불꽃(iris) 데이터, 로지스틱 회귀를 사용한 분류"
   ]
  },
  {
   "cell_type": "code",
   "execution_count": 27,
   "id": "d86523ed",
   "metadata": {},
   "outputs": [],
   "source": [
    "import numpy as np\n",
    "import pandas as pd\n",
    "import matplotlib.pyplot as plt"
   ]
  },
  {
   "cell_type": "code",
   "execution_count": 28,
   "id": "93f9d092",
   "metadata": {},
   "outputs": [],
   "source": [
    "path = 'https://archive.ics.uci.edu/ml/machine-learning-databases/iris/iris.data'\n",
    "df = pd.read_csv(path, header=None) # header : 열 이름(헤더)으로 사용할 행 지정 / 첫 행이 헤더가 아닌 경우 header = None "
   ]
  },
  {
   "cell_type": "code",
   "execution_count": 29,
   "id": "4e9611cf",
   "metadata": {},
   "outputs": [
    {
     "data": {
      "text/html": [
       "<div>\n",
       "<style scoped>\n",
       "    .dataframe tbody tr th:only-of-type {\n",
       "        vertical-align: middle;\n",
       "    }\n",
       "\n",
       "    .dataframe tbody tr th {\n",
       "        vertical-align: top;\n",
       "    }\n",
       "\n",
       "    .dataframe thead th {\n",
       "        text-align: right;\n",
       "    }\n",
       "</style>\n",
       "<table border=\"1\" class=\"dataframe\">\n",
       "  <thead>\n",
       "    <tr style=\"text-align: right;\">\n",
       "      <th></th>\n",
       "      <th>0</th>\n",
       "      <th>1</th>\n",
       "      <th>2</th>\n",
       "      <th>3</th>\n",
       "      <th>4</th>\n",
       "    </tr>\n",
       "  </thead>\n",
       "  <tbody>\n",
       "    <tr>\n",
       "      <th>0</th>\n",
       "      <td>5.1</td>\n",
       "      <td>3.5</td>\n",
       "      <td>1.4</td>\n",
       "      <td>0.2</td>\n",
       "      <td>Iris-setosa</td>\n",
       "    </tr>\n",
       "    <tr>\n",
       "      <th>1</th>\n",
       "      <td>4.9</td>\n",
       "      <td>3.0</td>\n",
       "      <td>1.4</td>\n",
       "      <td>0.2</td>\n",
       "      <td>Iris-setosa</td>\n",
       "    </tr>\n",
       "    <tr>\n",
       "      <th>2</th>\n",
       "      <td>4.7</td>\n",
       "      <td>3.2</td>\n",
       "      <td>1.3</td>\n",
       "      <td>0.2</td>\n",
       "      <td>Iris-setosa</td>\n",
       "    </tr>\n",
       "    <tr>\n",
       "      <th>3</th>\n",
       "      <td>4.6</td>\n",
       "      <td>3.1</td>\n",
       "      <td>1.5</td>\n",
       "      <td>0.2</td>\n",
       "      <td>Iris-setosa</td>\n",
       "    </tr>\n",
       "    <tr>\n",
       "      <th>4</th>\n",
       "      <td>5.0</td>\n",
       "      <td>3.6</td>\n",
       "      <td>1.4</td>\n",
       "      <td>0.2</td>\n",
       "      <td>Iris-setosa</td>\n",
       "    </tr>\n",
       "  </tbody>\n",
       "</table>\n",
       "</div>"
      ],
      "text/plain": [
       "     0    1    2    3            4\n",
       "0  5.1  3.5  1.4  0.2  Iris-setosa\n",
       "1  4.9  3.0  1.4  0.2  Iris-setosa\n",
       "2  4.7  3.2  1.3  0.2  Iris-setosa\n",
       "3  4.6  3.1  1.5  0.2  Iris-setosa\n",
       "4  5.0  3.6  1.4  0.2  Iris-setosa"
      ]
     },
     "execution_count": 29,
     "metadata": {},
     "output_type": "execute_result"
    }
   ],
   "source": [
    "df.head()"
   ]
  },
  {
   "cell_type": "code",
   "execution_count": 30,
   "id": "455a3d54",
   "metadata": {},
   "outputs": [
    {
     "data": {
      "text/html": [
       "<div>\n",
       "<style scoped>\n",
       "    .dataframe tbody tr th:only-of-type {\n",
       "        vertical-align: middle;\n",
       "    }\n",
       "\n",
       "    .dataframe tbody tr th {\n",
       "        vertical-align: top;\n",
       "    }\n",
       "\n",
       "    .dataframe thead th {\n",
       "        text-align: right;\n",
       "    }\n",
       "</style>\n",
       "<table border=\"1\" class=\"dataframe\">\n",
       "  <thead>\n",
       "    <tr style=\"text-align: right;\">\n",
       "      <th></th>\n",
       "      <th>sepal length</th>\n",
       "      <th>sepal width</th>\n",
       "      <th>petal length</th>\n",
       "      <th>petal width</th>\n",
       "      <th>species</th>\n",
       "    </tr>\n",
       "  </thead>\n",
       "  <tbody>\n",
       "    <tr>\n",
       "      <th>0</th>\n",
       "      <td>5.1</td>\n",
       "      <td>3.5</td>\n",
       "      <td>1.4</td>\n",
       "      <td>0.2</td>\n",
       "      <td>Iris-setosa</td>\n",
       "    </tr>\n",
       "    <tr>\n",
       "      <th>1</th>\n",
       "      <td>4.9</td>\n",
       "      <td>3.0</td>\n",
       "      <td>1.4</td>\n",
       "      <td>0.2</td>\n",
       "      <td>Iris-setosa</td>\n",
       "    </tr>\n",
       "    <tr>\n",
       "      <th>2</th>\n",
       "      <td>4.7</td>\n",
       "      <td>3.2</td>\n",
       "      <td>1.3</td>\n",
       "      <td>0.2</td>\n",
       "      <td>Iris-setosa</td>\n",
       "    </tr>\n",
       "    <tr>\n",
       "      <th>3</th>\n",
       "      <td>4.6</td>\n",
       "      <td>3.1</td>\n",
       "      <td>1.5</td>\n",
       "      <td>0.2</td>\n",
       "      <td>Iris-setosa</td>\n",
       "    </tr>\n",
       "    <tr>\n",
       "      <th>4</th>\n",
       "      <td>5.0</td>\n",
       "      <td>3.6</td>\n",
       "      <td>1.4</td>\n",
       "      <td>0.2</td>\n",
       "      <td>Iris-setosa</td>\n",
       "    </tr>\n",
       "  </tbody>\n",
       "</table>\n",
       "</div>"
      ],
      "text/plain": [
       "   sepal length  sepal width  petal length  petal width      species\n",
       "0           5.1          3.5           1.4          0.2  Iris-setosa\n",
       "1           4.9          3.0           1.4          0.2  Iris-setosa\n",
       "2           4.7          3.2           1.3          0.2  Iris-setosa\n",
       "3           4.6          3.1           1.5          0.2  Iris-setosa\n",
       "4           5.0          3.6           1.4          0.2  Iris-setosa"
      ]
     },
     "execution_count": 30,
     "metadata": {},
     "output_type": "execute_result"
    }
   ],
   "source": [
    "df.columns =  ['sepal length', 'sepal width', 'petal length', 'petal width', 'species'] # 각각의 특성(feature) 대입\n",
    "df.head()"
   ]
  },
  {
   "cell_type": "code",
   "execution_count": 31,
   "id": "d8b26622",
   "metadata": {},
   "outputs": [
    {
     "data": {
      "text/html": [
       "<div>\n",
       "<style scoped>\n",
       "    .dataframe tbody tr th:only-of-type {\n",
       "        vertical-align: middle;\n",
       "    }\n",
       "\n",
       "    .dataframe tbody tr th {\n",
       "        vertical-align: top;\n",
       "    }\n",
       "\n",
       "    .dataframe thead th {\n",
       "        text-align: right;\n",
       "    }\n",
       "</style>\n",
       "<table border=\"1\" class=\"dataframe\">\n",
       "  <thead>\n",
       "    <tr style=\"text-align: right;\">\n",
       "      <th></th>\n",
       "      <th>sepal length</th>\n",
       "      <th>sepal width</th>\n",
       "      <th>petal length</th>\n",
       "      <th>petal width</th>\n",
       "      <th>species</th>\n",
       "    </tr>\n",
       "  </thead>\n",
       "  <tbody>\n",
       "    <tr>\n",
       "      <th>145</th>\n",
       "      <td>6.7</td>\n",
       "      <td>3.0</td>\n",
       "      <td>5.2</td>\n",
       "      <td>2.3</td>\n",
       "      <td>Iris-virginica</td>\n",
       "    </tr>\n",
       "    <tr>\n",
       "      <th>146</th>\n",
       "      <td>6.3</td>\n",
       "      <td>2.5</td>\n",
       "      <td>5.0</td>\n",
       "      <td>1.9</td>\n",
       "      <td>Iris-virginica</td>\n",
       "    </tr>\n",
       "    <tr>\n",
       "      <th>147</th>\n",
       "      <td>6.5</td>\n",
       "      <td>3.0</td>\n",
       "      <td>5.2</td>\n",
       "      <td>2.0</td>\n",
       "      <td>Iris-virginica</td>\n",
       "    </tr>\n",
       "    <tr>\n",
       "      <th>148</th>\n",
       "      <td>6.2</td>\n",
       "      <td>3.4</td>\n",
       "      <td>5.4</td>\n",
       "      <td>2.3</td>\n",
       "      <td>Iris-virginica</td>\n",
       "    </tr>\n",
       "    <tr>\n",
       "      <th>149</th>\n",
       "      <td>5.9</td>\n",
       "      <td>3.0</td>\n",
       "      <td>5.1</td>\n",
       "      <td>1.8</td>\n",
       "      <td>Iris-virginica</td>\n",
       "    </tr>\n",
       "  </tbody>\n",
       "</table>\n",
       "</div>"
      ],
      "text/plain": [
       "     sepal length  sepal width  petal length  petal width         species\n",
       "145           6.7          3.0           5.2          2.3  Iris-virginica\n",
       "146           6.3          2.5           5.0          1.9  Iris-virginica\n",
       "147           6.5          3.0           5.2          2.0  Iris-virginica\n",
       "148           6.2          3.4           5.4          2.3  Iris-virginica\n",
       "149           5.9          3.0           5.1          1.8  Iris-virginica"
      ]
     },
     "execution_count": 31,
     "metadata": {},
     "output_type": "execute_result"
    }
   ],
   "source": [
    "df.tail()"
   ]
  },
  {
   "cell_type": "code",
   "execution_count": 32,
   "id": "e9b16eff",
   "metadata": {},
   "outputs": [],
   "source": [
    "X = df.drop('species', axis=1).to_numpy() # axis=0 행 방향, axis = 1 열 방향, .to_numpy : pandas 객체를 numpy 배열 객체인 ndarray로 반환 \n",
    "y = df['species'].to_numpy() # Series에서 ndarray 필요한 상황일 때 to_numpy() 사용\n",
    "y = np.where(y == 'Iris-setosa', 0, np.where(y == 'Iris-versicolor', 1, 2)) # np.where(condition, T, F) 값 변경\n",
    "\n",
    "y2 = df['species'].to_numpy() # 내가 테스트 해본거 그냥, 종류가 3개인가? 해서, tail(80) 해서 보니까 종류 3개 맞네\n",
    "y2 = np.where(y2 == 'Iris-versicolor', 1,2) # 내가 테스트 해본거 그냥,"
   ]
  },
  {
   "cell_type": "code",
   "execution_count": 33,
   "id": "dd6c855b",
   "metadata": {},
   "outputs": [
    {
     "data": {
      "text/plain": [
       "array([0, 0, 0, 0, 0, 0, 0, 0, 0, 0, 0, 0, 0, 0, 0, 0, 0, 0, 0, 0, 0, 0,\n",
       "       0, 0, 0, 0, 0, 0, 0, 0, 0, 0, 0, 0, 0, 0, 0, 0, 0, 0, 0, 0, 0, 0,\n",
       "       0, 0, 0, 0, 0, 0, 1, 1, 1, 1, 1, 1, 1, 1, 1, 1, 1, 1, 1, 1, 1, 1,\n",
       "       1, 1, 1, 1, 1, 1, 1, 1, 1, 1, 1, 1, 1, 1, 1, 1, 1, 1, 1, 1, 1, 1,\n",
       "       1, 1, 1, 1, 1, 1, 1, 1, 1, 1, 1, 1, 2, 2, 2, 2, 2, 2, 2, 2, 2, 2,\n",
       "       2, 2, 2, 2, 2, 2, 2, 2, 2, 2, 2, 2, 2, 2, 2, 2, 2, 2, 2, 2, 2, 2,\n",
       "       2, 2, 2, 2, 2, 2, 2, 2, 2, 2, 2, 2, 2, 2, 2, 2, 2, 2])"
      ]
     },
     "execution_count": 33,
     "metadata": {},
     "output_type": "execute_result"
    }
   ],
   "source": [
    "y"
   ]
  },
  {
   "cell_type": "code",
   "execution_count": 34,
   "id": "8e5985e9",
   "metadata": {},
   "outputs": [
    {
     "data": {
      "text/plain": [
       "array([2, 2, 2, 2, 2, 2, 2, 2, 2, 2, 2, 2, 2, 2, 2, 2, 2, 2, 2, 2, 2, 2,\n",
       "       2, 2, 2, 2, 2, 2, 2, 2, 2, 2, 2, 2, 2, 2, 2, 2, 2, 2, 2, 2, 2, 2,\n",
       "       2, 2, 2, 2, 2, 2, 1, 1, 1, 1, 1, 1, 1, 1, 1, 1, 1, 1, 1, 1, 1, 1,\n",
       "       1, 1, 1, 1, 1, 1, 1, 1, 1, 1, 1, 1, 1, 1, 1, 1, 1, 1, 1, 1, 1, 1,\n",
       "       1, 1, 1, 1, 1, 1, 1, 1, 1, 1, 1, 1, 2, 2, 2, 2, 2, 2, 2, 2, 2, 2,\n",
       "       2, 2, 2, 2, 2, 2, 2, 2, 2, 2, 2, 2, 2, 2, 2, 2, 2, 2, 2, 2, 2, 2,\n",
       "       2, 2, 2, 2, 2, 2, 2, 2, 2, 2, 2, 2, 2, 2, 2, 2, 2, 2])"
      ]
     },
     "execution_count": 34,
     "metadata": {},
     "output_type": "execute_result"
    }
   ],
   "source": [
    "y2 # 그냥 내가 테스트한거"
   ]
  },
  {
   "cell_type": "code",
   "execution_count": 35,
   "id": "d0c25544",
   "metadata": {},
   "outputs": [],
   "source": [
    "X = X[:, [2, 3]] # petal length, petal width 2개 사용하겠다는 소리"
   ]
  },
  {
   "cell_type": "code",
   "execution_count": 36,
   "id": "70f4127f",
   "metadata": {},
   "outputs": [
    {
     "data": {
      "text/plain": [
       "(150, 2)"
      ]
     },
     "execution_count": 36,
     "metadata": {},
     "output_type": "execute_result"
    }
   ],
   "source": [
    "X.shape # df.shape : (행, 열) 순서로 출력"
   ]
  },
  {
   "cell_type": "code",
   "execution_count": 37,
   "id": "edc8e97d",
   "metadata": {},
   "outputs": [
    {
     "data": {
      "text/plain": [
       "(150,)"
      ]
     },
     "execution_count": 37,
     "metadata": {},
     "output_type": "execute_result"
    }
   ],
   "source": [
    "y.shape"
   ]
  },
  {
   "cell_type": "markdown",
   "id": "bf5c328e",
   "metadata": {},
   "source": [
    "### stratify : default=None 입니다. classification을 다룰 때 매우 중요한 옵션값입니다. stratify 값을 target으로 지정해주면 각각의 class 비율(ratio)을 train / validation에 유지해 줍니다. (한 쪽에 쏠려서 분배되는 것을 방지합니다) 만약 이 옵션을 지정해 주지 않고 classification 문제를 다룬다면, 성능의 차이가 많이 날 수 있습니다."
   ]
  },
  {
   "cell_type": "code",
   "execution_count": 38,
   "id": "efe1a614",
   "metadata": {},
   "outputs": [
    {
     "data": {
      "text/plain": [
       "0    35\n",
       "1    35\n",
       "2    35\n",
       "dtype: int64"
      ]
     },
     "execution_count": 38,
     "metadata": {},
     "output_type": "execute_result"
    }
   ],
   "source": [
    "# 데이터의 분할 : 훈련용 vs 테스트용\n",
    "from sklearn.model_selection import train_test_split\n",
    "\n",
    "X_train, X_test, y_train, y_test = train_test_split(X, y, train_size=0.7, random_state=1, stratify=y) # train_size : 학습 데이터의 비율, stratify : 지정한 Data의 비율을 유지한다. \n",
    "pd.Series(y_train).value_counts() # value_counts()는 어떤 컬럼/Series의 unique value들을 count\n",
    "# Series 정의할 때, pd.Series()함수 이용, index와 values 동시 확인, 이런걸 계층 샘플링 이라고 말함.\n",
    "# 이거 훈련 세트 사이즈 지정한대로 잘 나눠졌는지 확인하려고 한 느낌인데, y_train은 되고 X_train은 왜 안될까?\n",
    "# 강의 확인 : y_train의 비율을 알고싶어서 한거"
   ]
  },
  {
   "cell_type": "code",
   "execution_count": 39,
   "id": "47c4f595",
   "metadata": {},
   "outputs": [
    {
     "data": {
      "text/plain": [
       "0    15\n",
       "1    15\n",
       "2    15\n",
       "dtype: int64"
      ]
     },
     "execution_count": 39,
     "metadata": {},
     "output_type": "execute_result"
    }
   ],
   "source": [
    "pd.Series(y_test).value_counts()"
   ]
  },
  {
   "cell_type": "code",
   "execution_count": 40,
   "id": "bf0874de",
   "metadata": {},
   "outputs": [
    {
     "data": {
      "image/png": "[encoded data removed]",
      "text/plain": [
       "<Figure size 432x288 with 1 Axes>"
      ]
     },
     "metadata": {
      "needs_background": "light"
     },
     "output_type": "display_data"
    }
   ],
   "source": [
    "# 데이터 시각화, x 축 : 꽃잎의 길이, y 축 : 꽃잎의 너비, 각 점의 색깔을 품종마다 다르게 표시, 훈련용 데이터\n",
    "ax = plt.axes() # Axes : 보통 plot으로 생각하는 하나의 그래프\n",
    "markers = ['s','x','o']\n",
    "colors = ['r','g','b']\n",
    "labels = ['0:setosa', '1:versicolor', '2:virginica']\n",
    "for i in range(3):\n",
    "    X_sub = X_train[y_train == i] # 열 단위로 마스킹, X_train에서 y_train이 i인 애들 뽑겠다는 소리\n",
    "    ax.scatter(X_sub[:,0], X_sub[:,1], alpha=0.5, marker = markers[i], c=colors[i], label = labels[i])\n",
    "    ax.set(xlabel='Petal Length', ylabel = 'Petal Width')\n",
    "    ax.legend()"
   ]
  },
  {
   "cell_type": "code",
   "execution_count": 41,
   "id": "25288489",
   "metadata": {},
   "outputs": [
    {
     "data": {
      "text/plain": [
       "StandardScaler()"
      ]
     },
     "execution_count": 41,
     "metadata": {},
     "output_type": "execute_result"
    }
   ],
   "source": [
    "# 데이터 표준화 : 특성별로 데이터의 스케일이 다르다면, 머신러닝이 잘 동작하지 않을 수 있다. \n",
    "# 그래서 데이터 스케일링 작업을 통해, 모든 특성의 범위(또는 분포)를 같게 만들어줘야합니다.\n",
    "from sklearn.preprocessing import StandardScaler\n",
    "\n",
    "sc = StandardScaler()\n",
    "sc.fit(X_train) # 각 열별 평균과 표준 편차를 일단 계산만 해준다."
   ]
  },
  {
   "cell_type": "code",
   "execution_count": 42,
   "id": "18f26af8",
   "metadata": {},
   "outputs": [],
   "source": [
    "X_train_std = sc.transform(X_train) # 이 값들을 이용해서 여기서 변환을 해준다.\n",
    "X_test_std = sc.transform(X_test)"
   ]
  },
  {
   "cell_type": "code",
   "execution_count": 43,
   "id": "a7389c68",
   "metadata": {},
   "outputs": [
    {
     "data": {
      "text/plain": [
       "LogisticRegression()"
      ]
     },
     "execution_count": 43,
     "metadata": {},
     "output_type": "execute_result"
    }
   ],
   "source": [
    "# 로지스틱 회귀\n",
    "from sklearn.linear_model import LogisticRegression\n",
    "\n",
    "logistic = LogisticRegression()\n",
    "logistic.fit(X_train_std, y_train) # y_train은 만들지도 않고, 원래 표준화 하는거 아님"
   ]
  },
  {
   "cell_type": "code",
   "execution_count": 44,
   "id": "42a384fb",
   "metadata": {},
   "outputs": [
    {
     "data": {
      "text/plain": [
       "array([0, 0, 2])"
      ]
     },
     "execution_count": 44,
     "metadata": {},
     "output_type": "execute_result"
    }
   ],
   "source": [
    "logistic.predict(X_train_std[:3,:]) #  [:,:] 쓰면 105개 3:1 비율로 잘 나눠짐, 여기서는 그냥 3개만 본거임"
   ]
  },
  {
   "cell_type": "code",
   "execution_count": 45,
   "id": "eb5aa304",
   "metadata": {},
   "outputs": [
    {
     "data": {
      "text/plain": [
       "array([0, 0, 2])"
      ]
     },
     "execution_count": 45,
     "metadata": {},
     "output_type": "execute_result"
    }
   ],
   "source": [
    "y_train[:3]"
   ]
  },
  {
   "cell_type": "code",
   "execution_count": 46,
   "id": "3882e7e6",
   "metadata": {},
   "outputs": [
    {
     "data": {
      "text/plain": [
       "array([[9.59543959e-01, 4.04522758e-02, 3.76537919e-06],\n",
       "       [9.40769396e-01, 5.92226306e-02, 7.97320867e-06],\n",
       "       [6.25773725e-05, 6.67508339e-02, 9.33186589e-01]])"
      ]
     },
     "execution_count": 46,
     "metadata": {},
     "output_type": "execute_result"
    }
   ],
   "source": [
    "logistic.predict_proba(X_train_std[:3,:]) # predict_proba()클래스 확률을 예측하는 데 사용\n",
    "                                          # predict()실제 클래스를 예측하는 데 사용"
   ]
  },
  {
   "cell_type": "code",
   "execution_count": 47,
   "id": "77140c10",
   "metadata": {},
   "outputs": [
    {
     "data": {
      "text/plain": [
       "0.9428571428571428"
      ]
     },
     "execution_count": 47,
     "metadata": {},
     "output_type": "execute_result"
    }
   ],
   "source": [
    "logistic.score(X_train_std, y_train)  # 정확도(accuracy) = 정분류율"
   ]
  },
  {
   "cell_type": "code",
   "execution_count": 48,
   "id": "1f9494ef",
   "metadata": {},
   "outputs": [
    {
     "data": {
      "text/plain": [
       "0.9777777777777777"
      ]
     },
     "execution_count": 48,
     "metadata": {},
     "output_type": "execute_result"
    }
   ],
   "source": [
    "logistic.score(X_test_std, y_test) # 이정도 차이는 ㅇㅋ"
   ]
  },
  {
   "cell_type": "code",
   "execution_count": 49,
   "id": "75b7b28b",
   "metadata": {},
   "outputs": [],
   "source": [
    "from sklearn.metrics import confusion_matrix # 이진 분류 정오분류표(confusion matrix)"
   ]
  },
  {
   "cell_type": "code",
   "execution_count": 50,
   "id": "f185e026",
   "metadata": {},
   "outputs": [
    {
     "data": {
      "text/plain": [
       "array([[15,  0,  0],\n",
       "       [ 0, 15,  0],\n",
       "       [ 0,  1, 14]], dtype=int64)"
      ]
     },
     "execution_count": 50,
     "metadata": {},
     "output_type": "execute_result"
    }
   ],
   "source": [
    "# 과소 과대 적합을 지나고 나면 test 데이터에 대한 confusion_matrix를 할거임\n",
    "\n",
    "y_pred = logistic.predict(X_test_std) # 테스트 데이터에 대한 예측 값\n",
    "\n",
    "confusion_matrix(y_test,y_pred)\n",
    "\n",
    "# confusion_matrix(실제값, 예측값)"
   ]
  },
  {
   "cell_type": "code",
   "execution_count": 51,
   "id": "ec89aa66",
   "metadata": {},
   "outputs": [],
   "source": [
    "# 11.8 SVM"
   ]
  },
  {
   "cell_type": "code",
   "execution_count": 52,
   "id": "b262c418",
   "metadata": {},
   "outputs": [],
   "source": [
    "import numpy as np\n",
    "import pandas as pd\n",
    "import matplotlib.pyplot as plt"
   ]
  },
  {
   "cell_type": "code",
   "execution_count": 53,
   "id": "af9502a7",
   "metadata": {},
   "outputs": [],
   "source": [
    "# iris 데이터 준비\n",
    "path='https://archive.ics.uci.edu/ml/machine-learning-databases/iris/iris.data'\n",
    "df=pd.read_csv(path,header=None)\n",
    "\n",
    "df.columns =  ['sepal length', 'sepal width', 'petal length', 'petal width', 'species']\n",
    "\n",
    "X=df.drop(['species'],axis=1).to_numpy()\n",
    "y=df['species'].to_numpy()\n",
    "y=np.where(y=='Iris-setosa',0,np.where(y=='Iris-versicolor',1,2)) #if-else랑 비슷한거로 봐도되나?\n",
    "\n",
    "X=X[:,[2,3]]"
   ]
  },
  {
   "cell_type": "code",
   "execution_count": 54,
   "id": "edad0723",
   "metadata": {},
   "outputs": [],
   "source": [
    "# 데이터 분할\n",
    "from sklearn.model_selection import train_test_split\n",
    "X_train,X_test,y_train,y_test=train_test_split(X,y,train_size=0.7,random_state=1,stratify=y)"
   ]
  },
  {
   "cell_type": "code",
   "execution_count": 55,
   "id": "a6e4d08f",
   "metadata": {},
   "outputs": [],
   "source": [
    "# 표준화\n",
    "from sklearn.preprocessing import StandardScaler\n",
    "\n",
    "sc = StandardScaler()\n",
    "sc.fit(X_train)\n",
    "X_train_std = sc.transform(X_train)\n",
    "X_test_std = sc.transform(X_test)"
   ]
  },
  {
   "cell_type": "code",
   "execution_count": 56,
   "id": "9568bf67",
   "metadata": {},
   "outputs": [],
   "source": [
    "# 서포트벡터머신\n",
    "from sklearn.svm import SVC\n",
    "\n",
    "svc_linear=SVC(kernel=\"linear\",C=1.0,random_state=1) # 선형 분류 (선형 SVM (kernel='linear' 옵션))\n",
    "# 데이터 (서포트 벡터:선으로 부터 가장 가까이 있는 데이터)로 부터 여백 (margin)이 최대인 선 (2차원에서는 선, 3차원에서는 면)을 찾아 분류"
   ]
  },
  {
   "cell_type": "code",
   "execution_count": 57,
   "id": "e6e48948",
   "metadata": {},
   "outputs": [
    {
     "data": {
      "text/plain": [
       "SVC(kernel='linear', random_state=1)"
      ]
     },
     "execution_count": 57,
     "metadata": {},
     "output_type": "execute_result"
    }
   ],
   "source": [
    "svc_linear.fit(X_train_std,y_train)"
   ]
  },
  {
   "cell_type": "code",
   "execution_count": 58,
   "id": "c11b17b1",
   "metadata": {},
   "outputs": [
    {
     "data": {
      "text/plain": [
       "0.9523809523809523"
      ]
     },
     "execution_count": 58,
     "metadata": {},
     "output_type": "execute_result"
    }
   ],
   "source": [
    "svc_linear.score(X_train_std,y_train)"
   ]
  },
  {
   "cell_type": "code",
   "execution_count": 59,
   "id": "12bd2c2b",
   "metadata": {},
   "outputs": [
    {
     "data": {
      "text/plain": [
       "0.9777777777777777"
      ]
     },
     "execution_count": 59,
     "metadata": {},
     "output_type": "execute_result"
    }
   ],
   "source": [
    "svc_linear.score(X_test_std,y_test)"
   ]
  },
  {
   "cell_type": "code",
   "execution_count": 60,
   "id": "86be2002",
   "metadata": {},
   "outputs": [
    {
     "name": "stdout",
     "output_type": "stream",
     "text": [
      "0.9619047619047619\n",
      "0.9777777777777777\n"
     ]
    }
   ],
   "source": [
    "svc_linear2=SVC(kernel=\"rbf\",C=1.0,random_state=1) # 비선형 분류\n",
    "# : 선형 분류가 않되는 것도 상위 차원으로 가면 선형 분류 가능 (다항식 SVM (kernel='poly' 옵션) 과 RBF SVM(kernel='rbf' 옵션))\n",
    "svc_linear2.fit(X_train_std,y_train)\n",
    "\n",
    "print(svc_linear2.score(X_train_std,y_train))\n",
    "print(svc_linear2.score(X_test_std,y_test))"
   ]
  },
  {
   "cell_type": "code",
   "execution_count": 61,
   "id": "27b10d6a",
   "metadata": {},
   "outputs": [],
   "source": [
    "# 11.15 결정 트리\n",
    "# 자주 하는거는 그냥 대충 설명없이 올림 이제, 감잡음 \n",
    "import numpy as np\n",
    "import pandas as pd\n",
    "import matplotlib.pyplot as plt\n",
    "\n",
    "path='https://archive.ics.uci.edu/ml/machine-learning-databases/iris/iris.data'\n",
    "df=pd.read_csv(path,header=None)\n",
    "df.columns =  ['sepal length', 'sepal width', 'petal length', 'petal width', 'species']\n",
    "X=df.drop(['species'],axis=1).to_numpy()\n",
    "y=df['species'].to_numpy()\n",
    "y=np.where(y=='Iris-setosa',0,np.where(y=='Iris-versicolor',1,2)) #if-else와 비슷한 문법\n",
    "X=X[:,[2,3]]\n",
    "\n",
    "from sklearn.model_selection import train_test_split\n",
    "X_train,X_test,y_train,y_test=train_test_split(X,y,train_size=0.7,random_state=1,stratify=y)\n",
    "\n",
    "from sklearn.preprocessing import StandardScaler\n",
    "sc = StandardScaler()\n",
    "sc.fit(X_train)\n",
    "X_train_std = sc.transform(X_train)\n",
    "X_test_std = sc.transform(X_test)"
   ]
  },
  {
   "cell_type": "code",
   "execution_count": 62,
   "id": "d79b4407",
   "metadata": {},
   "outputs": [],
   "source": [
    "# 의사결정트리\n",
    "from sklearn.tree import DecisionTreeClassifier\n",
    "from sklearn.tree import plot_tree\n",
    "\n",
    "tree=DecisionTreeClassifier(random_state=1); #default 인수\n",
    "# DecisionTreeClassifier?"
   ]
  },
  {
   "cell_type": "code",
   "execution_count": 63,
   "id": "d7b5c499",
   "metadata": {},
   "outputs": [
    {
     "data": {
      "text/plain": [
       "DecisionTreeClassifier(random_state=1)"
      ]
     },
     "execution_count": 63,
     "metadata": {},
     "output_type": "execute_result"
    }
   ],
   "source": [
    "tree.fit(X_train,y_train) # 결정 트리는 표준화를 해도되지만 구지 표준화 할 필요가 없다,"
   ]
  },
  {
   "cell_type": "code",
   "execution_count": 64,
   "id": "1eb763e4",
   "metadata": {},
   "outputs": [
    {
     "data": {
      "text/plain": [
       "0.9904761904761905"
      ]
     },
     "execution_count": 64,
     "metadata": {},
     "output_type": "execute_result"
    }
   ],
   "source": [
    "tree.score(X_train,y_train)"
   ]
  },
  {
   "cell_type": "code",
   "execution_count": 65,
   "id": "045ee78e",
   "metadata": {},
   "outputs": [
    {
     "data": {
      "text/plain": [
       "[Text(111.6, 403.81714285714287, 'X[1] <= 0.75\\ngini = 0.667\\nsamples = 105\\nvalue = [35, 35, 35]'),\n",
       " Text(55.8, 341.69142857142856, 'gini = 0.0\\nsamples = 35\\nvalue = [35, 0, 0]'),\n",
       " Text(167.39999999999998, 341.69142857142856, 'X[0] <= 4.75\\ngini = 0.5\\nsamples = 70\\nvalue = [0, 35, 35]'),\n",
       " Text(111.6, 279.5657142857143, 'gini = 0.0\\nsamples = 30\\nvalue = [0, 30, 0]'),\n",
       " Text(223.2, 279.5657142857143, 'X[1] <= 1.75\\ngini = 0.219\\nsamples = 40\\nvalue = [0, 5, 35]'),\n",
       " Text(111.6, 217.44, 'X[0] <= 4.95\\ngini = 0.5\\nsamples = 8\\nvalue = [0, 4, 4]'),\n",
       " Text(55.8, 155.3142857142857, 'gini = 0.0\\nsamples = 2\\nvalue = [0, 2, 0]'),\n",
       " Text(167.39999999999998, 155.3142857142857, 'X[1] <= 1.55\\ngini = 0.444\\nsamples = 6\\nvalue = [0, 2, 4]'),\n",
       " Text(111.6, 93.18857142857144, 'gini = 0.0\\nsamples = 3\\nvalue = [0, 0, 3]'),\n",
       " Text(223.2, 93.18857142857144, 'X[0] <= 5.45\\ngini = 0.444\\nsamples = 3\\nvalue = [0, 2, 1]'),\n",
       " Text(167.39999999999998, 31.062857142857126, 'gini = 0.0\\nsamples = 2\\nvalue = [0, 2, 0]'),\n",
       " Text(279.0, 31.062857142857126, 'gini = 0.0\\nsamples = 1\\nvalue = [0, 0, 1]'),\n",
       " Text(334.79999999999995, 217.44, 'X[0] <= 4.85\\ngini = 0.061\\nsamples = 32\\nvalue = [0, 1, 31]'),\n",
       " Text(279.0, 155.3142857142857, 'gini = 0.444\\nsamples = 3\\nvalue = [0, 1, 2]'),\n",
       " Text(390.59999999999997, 155.3142857142857, 'gini = 0.0\\nsamples = 29\\nvalue = [0, 0, 29]')]"
      ]
     },
     "execution_count": 65,
     "metadata": {},
     "output_type": "execute_result"
    },
    {
     "data": {
      "image/png": "[encoded data removed]",
      "text/plain": [
       "<Figure size 576x576 with 1 Axes>"
      ]
     },
     "metadata": {
      "needs_background": "light"
     },
     "output_type": "display_data"
    }
   ],
   "source": [
    "plt.figure(figsize=(8,8))\n",
    "plot_tree(tree)"
   ]
  },
  {
   "cell_type": "code",
   "execution_count": 66,
   "id": "a5bf7a0c",
   "metadata": {},
   "outputs": [
    {
     "data": {
      "text/plain": [
       "6"
      ]
     },
     "execution_count": 66,
     "metadata": {},
     "output_type": "execute_result"
    }
   ],
   "source": [
    "tree.get_depth()"
   ]
  },
  {
   "cell_type": "code",
   "execution_count": 67,
   "id": "a3e22496",
   "metadata": {},
   "outputs": [
    {
     "data": {
      "text/plain": [
       "8"
      ]
     },
     "execution_count": 67,
     "metadata": {},
     "output_type": "execute_result"
    }
   ],
   "source": [
    "tree.get_n_leaves() # leaf node, 잎 노드"
   ]
  },
  {
   "cell_type": "code",
   "execution_count": 68,
   "id": "3a34188c",
   "metadata": {},
   "outputs": [
    {
     "data": {
      "text/plain": [
       "DecisionTreeClassifier(max_depth=4, random_state=1)"
      ]
     },
     "execution_count": 68,
     "metadata": {},
     "output_type": "execute_result"
    }
   ],
   "source": [
    "# 최대 깊이 설정\n",
    "tree4=DecisionTreeClassifier(max_depth=4,random_state=1) # 깊이 4로 제한\n",
    "\n",
    "tree4.fit(X_train, y_train)"
   ]
  },
  {
   "cell_type": "code",
   "execution_count": 69,
   "id": "697703e7",
   "metadata": {},
   "outputs": [
    {
     "data": {
      "text/plain": [
       "0.9714285714285714"
      ]
     },
     "execution_count": 69,
     "metadata": {},
     "output_type": "execute_result"
    }
   ],
   "source": [
    "tree4.score(X_train, y_train)"
   ]
  },
  {
   "cell_type": "code",
   "execution_count": 70,
   "id": "acabf132",
   "metadata": {},
   "outputs": [
    {
     "data": {
      "text/plain": [
       "0.9777777777777777"
      ]
     },
     "execution_count": 70,
     "metadata": {},
     "output_type": "execute_result"
    }
   ],
   "source": [
    "tree4.score(X_test,y_test) #최대 길이 설정 이후에 별 차이가 없다면 심플이 좋다."
   ]
  },
  {
   "cell_type": "code",
   "execution_count": 71,
   "id": "87effbe3",
   "metadata": {},
   "outputs": [
    {
     "data": {
      "text/plain": [
       "DecisionTreeClassifier(max_depth=2, random_state=1)"
      ]
     },
     "execution_count": 71,
     "metadata": {},
     "output_type": "execute_result"
    }
   ],
   "source": [
    "tree2=DecisionTreeClassifier(max_depth=2,random_state=1) # 깊이 2로 제한\n",
    "\n",
    "tree2.fit(X_train,y_train)"
   ]
  },
  {
   "cell_type": "code",
   "execution_count": 72,
   "id": "27501b8f",
   "metadata": {},
   "outputs": [
    {
     "data": {
      "text/plain": [
       "0.9523809523809523"
      ]
     },
     "execution_count": 72,
     "metadata": {},
     "output_type": "execute_result"
    }
   ],
   "source": [
    "tree2.score(X_train,y_train)"
   ]
  },
  {
   "cell_type": "code",
   "execution_count": 73,
   "id": "cf5f7f1c",
   "metadata": {},
   "outputs": [
    {
     "data": {
      "text/plain": [
       "0.9555555555555556"
      ]
     },
     "execution_count": 73,
     "metadata": {},
     "output_type": "execute_result"
    }
   ],
   "source": [
    "tree2.score(X_test,y_test)"
   ]
  },
  {
   "cell_type": "code",
   "execution_count": 74,
   "id": "b5f0be67",
   "metadata": {},
   "outputs": [
    {
     "data": {
      "image/png": "[encoded data removed]",
      "text/plain": [
       "<Figure size 720x504 with 1 Axes>"
      ]
     },
     "metadata": {
      "needs_background": "light"
     },
     "output_type": "display_data"
    }
   ],
   "source": [
    "plt.figure(figsize=(10,7))\n",
    "plot_tree(tree4);"
   ]
  },
  {
   "cell_type": "code",
   "execution_count": 75,
   "id": "9bcd2d1a",
   "metadata": {},
   "outputs": [
    {
     "data": {
      "text/plain": [
       "array([2])"
      ]
     },
     "execution_count": 75,
     "metadata": {},
     "output_type": "execute_result"
    }
   ],
   "source": [
    "tree2.predict([[6.0,2.5]]) "
   ]
  },
  {
   "cell_type": "code",
   "execution_count": 76,
   "id": "2423bc6e",
   "metadata": {},
   "outputs": [
    {
     "data": {
      "text/plain": [
       "array([0.42857143, 0.57142857])"
      ]
     },
     "execution_count": 76,
     "metadata": {},
     "output_type": "execute_result"
    }
   ],
   "source": [
    "tree2.feature_importances_ # 2개의 특징 중에 어떤게 더 중요한가?, X1이 더 큼, 꽃잎의 너비가 더 중요한 변수임"
   ]
  },
  {
   "cell_type": "code",
   "execution_count": 77,
   "id": "7c30847c",
   "metadata": {},
   "outputs": [],
   "source": [
    "# 11.15 데이터 전처리\n",
    "import numpy as np\n",
    "import pandas as pd\n",
    "import matplotlib.pyplot as plt\n",
    "\n",
    "df = pd.DataFrame([ ['green', 'L', 10.1, 'yes'], ['green', 'M', 13.5, 'no'], ['red', 'XL', 15.3, 'yes'], ['blue', 'S', 12.7, 'yes']\n",
    "])\n",
    "df.columns = ['color', 'size', 'price', 'label']"
   ]
  },
  {
   "cell_type": "code",
   "execution_count": 78,
   "id": "9710ac7a",
   "metadata": {},
   "outputs": [
    {
     "data": {
      "text/html": [
       "<div>\n",
       "<style scoped>\n",
       "    .dataframe tbody tr th:only-of-type {\n",
       "        vertical-align: middle;\n",
       "    }\n",
       "\n",
       "    .dataframe tbody tr th {\n",
       "        vertical-align: top;\n",
       "    }\n",
       "\n",
       "    .dataframe thead th {\n",
       "        text-align: right;\n",
       "    }\n",
       "</style>\n",
       "<table border=\"1\" class=\"dataframe\">\n",
       "  <thead>\n",
       "    <tr style=\"text-align: right;\">\n",
       "      <th></th>\n",
       "      <th>color</th>\n",
       "      <th>size</th>\n",
       "      <th>price</th>\n",
       "      <th>label</th>\n",
       "    </tr>\n",
       "  </thead>\n",
       "  <tbody>\n",
       "    <tr>\n",
       "      <th>0</th>\n",
       "      <td>green</td>\n",
       "      <td>L</td>\n",
       "      <td>10.1</td>\n",
       "      <td>yes</td>\n",
       "    </tr>\n",
       "    <tr>\n",
       "      <th>1</th>\n",
       "      <td>green</td>\n",
       "      <td>M</td>\n",
       "      <td>13.5</td>\n",
       "      <td>no</td>\n",
       "    </tr>\n",
       "    <tr>\n",
       "      <th>2</th>\n",
       "      <td>red</td>\n",
       "      <td>XL</td>\n",
       "      <td>15.3</td>\n",
       "      <td>yes</td>\n",
       "    </tr>\n",
       "    <tr>\n",
       "      <th>3</th>\n",
       "      <td>blue</td>\n",
       "      <td>S</td>\n",
       "      <td>12.7</td>\n",
       "      <td>yes</td>\n",
       "    </tr>\n",
       "  </tbody>\n",
       "</table>\n",
       "</div>"
      ],
      "text/plain": [
       "   color size  price label\n",
       "0  green    L   10.1   yes\n",
       "1  green    M   13.5    no\n",
       "2    red   XL   15.3   yes\n",
       "3   blue    S   12.7   yes"
      ]
     },
     "execution_count": 78,
     "metadata": {},
     "output_type": "execute_result"
    }
   ],
   "source": [
    "df"
   ]
  },
  {
   "cell_type": "code",
   "execution_count": 79,
   "id": "5661f919",
   "metadata": {},
   "outputs": [],
   "source": [
    "X= df.drop('label',axis=1)"
   ]
  },
  {
   "cell_type": "code",
   "execution_count": 80,
   "id": "90ff6744",
   "metadata": {},
   "outputs": [],
   "source": [
    "y=df['label'] # pandas Series 객체"
   ]
  },
  {
   "cell_type": "code",
   "execution_count": 81,
   "id": "5db502fb",
   "metadata": {},
   "outputs": [],
   "source": [
    "y1=np.where(y=='no',0,1)"
   ]
  },
  {
   "cell_type": "code",
   "execution_count": 82,
   "id": "8cd9526a",
   "metadata": {},
   "outputs": [
    {
     "data": {
      "text/plain": [
       "array([1, 0, 1, 1])"
      ]
     },
     "execution_count": 82,
     "metadata": {},
     "output_type": "execute_result"
    }
   ],
   "source": [
    "y1"
   ]
  },
  {
   "cell_type": "code",
   "execution_count": 83,
   "id": "c95ad762",
   "metadata": {},
   "outputs": [
    {
     "data": {
      "text/plain": [
       "'\\n시리즈.map(내장함수 or 사용자 정의함수 or 딕셔너리 등) \\nmap은 Pandas Series(column)에 사용할 수 있는 함수로\\nSeries의 각 원소에 연산을 적용\\n각 원소를 입력으로 받아, 단일 값을 반환 '"
      ]
     },
     "execution_count": 83,
     "metadata": {},
     "output_type": "execute_result"
    }
   ],
   "source": [
    "d={'no':0,'yes':1} # 딕셔너리 만들어 놓고\n",
    "y2=y.map(d) # y는 시리즈, map에다가 d 넣어주면 아래와 같음.\n",
    "\n",
    "\"\"\"\n",
    "시리즈.map(내장함수 or 사용자 정의함수 or 딕셔너리 등) \n",
    "map은 Pandas Series(column)에 사용할 수 있는 함수로\n",
    "Series의 각 원소에 연산을 적용\n",
    "각 원소를 입력으로 받아, 단일 값을 반환 \"\"\" "
   ]
  },
  {
   "cell_type": "code",
   "execution_count": 84,
   "id": "b505c2db",
   "metadata": {},
   "outputs": [
    {
     "data": {
      "text/plain": [
       "0    1\n",
       "1    0\n",
       "2    1\n",
       "3    1\n",
       "Name: label, dtype: int64"
      ]
     },
     "execution_count": 84,
     "metadata": {},
     "output_type": "execute_result"
    }
   ],
   "source": [
    "y2"
   ]
  },
  {
   "cell_type": "code",
   "execution_count": 85,
   "id": "b2240c8c",
   "metadata": {},
   "outputs": [],
   "source": [
    "y2=y.map(d).to_numpy()"
   ]
  },
  {
   "cell_type": "code",
   "execution_count": 86,
   "id": "7620d077",
   "metadata": {},
   "outputs": [
    {
     "data": {
      "text/plain": [
       "array([1, 0, 1, 1], dtype=int64)"
      ]
     },
     "execution_count": 86,
     "metadata": {},
     "output_type": "execute_result"
    }
   ],
   "source": [
    "y2"
   ]
  },
  {
   "cell_type": "code",
   "execution_count": 87,
   "id": "b60284de",
   "metadata": {},
   "outputs": [],
   "source": [
    "from sklearn.preprocessing import LabelEncoder\n",
    "\n",
    "encoder=LabelEncoder()"
   ]
  },
  {
   "cell_type": "code",
   "execution_count": 88,
   "id": "86eca85f",
   "metadata": {},
   "outputs": [
    {
     "data": {
      "text/plain": [
       "LabelEncoder()"
      ]
     },
     "execution_count": 88,
     "metadata": {},
     "output_type": "execute_result"
    }
   ],
   "source": [
    "encoder.fit(y)"
   ]
  },
  {
   "cell_type": "code",
   "execution_count": 90,
   "id": "19fd2907",
   "metadata": {},
   "outputs": [
    {
     "data": {
      "text/plain": [
       "array(['no', 'yes'], dtype=object)"
      ]
     },
     "execution_count": 90,
     "metadata": {},
     "output_type": "execute_result"
    }
   ],
   "source": [
    "encoder.classes_"
   ]
  },
  {
   "cell_type": "code",
   "execution_count": 91,
   "id": "63229661",
   "metadata": {},
   "outputs": [],
   "source": [
    "y3=encoder.transform(y)"
   ]
  },
  {
   "cell_type": "code",
   "execution_count": 92,
   "id": "716e8ea7",
   "metadata": {},
   "outputs": [
    {
     "data": {
      "text/plain": [
       "array([1, 0, 1, 1])"
      ]
     },
     "execution_count": 92,
     "metadata": {},
     "output_type": "execute_result"
    }
   ],
   "source": [
    "y3"
   ]
  },
  {
   "cell_type": "code",
   "execution_count": 93,
   "id": "a13f0213",
   "metadata": {},
   "outputs": [],
   "source": [
    "y4=LabelEncoder().fit_transform(y)"
   ]
  },
  {
   "cell_type": "code",
   "execution_count": 94,
   "id": "eb5cb55c",
   "metadata": {},
   "outputs": [
    {
     "data": {
      "text/plain": [
       "array([1, 0, 1, 1])"
      ]
     },
     "execution_count": 94,
     "metadata": {},
     "output_type": "execute_result"
    }
   ],
   "source": [
    "y4"
   ]
  },
  {
   "cell_type": "code",
   "execution_count": 101,
   "id": "efeaff49",
   "metadata": {},
   "outputs": [
    {
     "data": {
      "text/plain": [
       "0     L\n",
       "1     M\n",
       "2    XL\n",
       "3     S\n",
       "Name: size, dtype: object"
      ]
     },
     "execution_count": 101,
     "metadata": {},
     "output_type": "execute_result"
    }
   ],
   "source": [
    "X['size']"
   ]
  },
  {
   "cell_type": "code",
   "execution_count": 102,
   "id": "ebf05b8c",
   "metadata": {},
   "outputs": [],
   "source": [
    "size_mapping={'XS':0,'S':1,'M':2,'L':3,'XL':4,'XXL':5}\n",
    "X['size2']=X['size'].map(size_mapping)"
   ]
  },
  {
   "cell_type": "code",
   "execution_count": 103,
   "id": "21eb1cc7",
   "metadata": {},
   "outputs": [],
   "source": [
    "X=X.drop('size',axis=1)"
   ]
  },
  {
   "cell_type": "code",
   "execution_count": 104,
   "id": "aa541acb",
   "metadata": {},
   "outputs": [
    {
     "data": {
      "text/html": [
       "<div>\n",
       "<style scoped>\n",
       "    .dataframe tbody tr th:only-of-type {\n",
       "        vertical-align: middle;\n",
       "    }\n",
       "\n",
       "    .dataframe tbody tr th {\n",
       "        vertical-align: top;\n",
       "    }\n",
       "\n",
       "    .dataframe thead th {\n",
       "        text-align: right;\n",
       "    }\n",
       "</style>\n",
       "<table border=\"1\" class=\"dataframe\">\n",
       "  <thead>\n",
       "    <tr style=\"text-align: right;\">\n",
       "      <th></th>\n",
       "      <th>color</th>\n",
       "      <th>price</th>\n",
       "      <th>size2</th>\n",
       "    </tr>\n",
       "  </thead>\n",
       "  <tbody>\n",
       "    <tr>\n",
       "      <th>0</th>\n",
       "      <td>green</td>\n",
       "      <td>10.1</td>\n",
       "      <td>3</td>\n",
       "    </tr>\n",
       "    <tr>\n",
       "      <th>1</th>\n",
       "      <td>green</td>\n",
       "      <td>13.5</td>\n",
       "      <td>2</td>\n",
       "    </tr>\n",
       "    <tr>\n",
       "      <th>2</th>\n",
       "      <td>red</td>\n",
       "      <td>15.3</td>\n",
       "      <td>4</td>\n",
       "    </tr>\n",
       "    <tr>\n",
       "      <th>3</th>\n",
       "      <td>blue</td>\n",
       "      <td>12.7</td>\n",
       "      <td>1</td>\n",
       "    </tr>\n",
       "  </tbody>\n",
       "</table>\n",
       "</div>"
      ],
      "text/plain": [
       "   color  price  size2\n",
       "0  green   10.1      3\n",
       "1  green   13.5      2\n",
       "2    red   15.3      4\n",
       "3   blue   12.7      1"
      ]
     },
     "execution_count": 104,
     "metadata": {},
     "output_type": "execute_result"
    }
   ],
   "source": [
    "X"
   ]
  },
  {
   "cell_type": "code",
   "execution_count": 105,
   "id": "9ef4fa0d",
   "metadata": {},
   "outputs": [
    {
     "data": {
      "text/plain": [
       "'\\n기본적으로 사이킷런의 머신러닝 알고리즘은 문자열 값을 입력 값으로 허락하지 않는다.\\n그렇기 때문에 모든 문자열 값들을 숫자 형으로 인코딩하는 전처리 작업 후에 머신러닝 모델에 학습을 시켜야한다.\\n원-핫 인코딩 \\n간단하게 피처 값의 유형에 따라 새로운 피처를 추가해 고유 값에 해당하는 칼럼에만 1을 표시하고 나머지 칼럼에는 0을 표시하는 방법\\n'"
      ]
     },
     "execution_count": 105,
     "metadata": {},
     "output_type": "execute_result"
    }
   ],
   "source": [
    "#원핫인코딩\n",
    "X=pd.get_dummies(X)\n",
    "\n",
    "\"\"\"\n",
    "기본적으로 사이킷런의 머신러닝 알고리즘은 문자열 값을 입력 값으로 허락하지 않는다.\n",
    "그렇기 때문에 모든 문자열 값들을 숫자 형으로 인코딩하는 전처리 작업 후에 머신러닝 모델에 학습을 시켜야한다.\n",
    "원-핫 인코딩 \n",
    "간단하게 피처 값의 유형에 따라 새로운 피처를 추가해 고유 값에 해당하는 칼럼에만 1을 표시하고 나머지 칼럼에는 0을 표시하는 방법\n",
    "\"\"\""
   ]
  },
  {
   "cell_type": "code",
   "execution_count": 107,
   "id": "d6c62545",
   "metadata": {},
   "outputs": [
    {
     "data": {
      "text/html": [
       "<div>\n",
       "<style scoped>\n",
       "    .dataframe tbody tr th:only-of-type {\n",
       "        vertical-align: middle;\n",
       "    }\n",
       "\n",
       "    .dataframe tbody tr th {\n",
       "        vertical-align: top;\n",
       "    }\n",
       "\n",
       "    .dataframe thead th {\n",
       "        text-align: right;\n",
       "    }\n",
       "</style>\n",
       "<table border=\"1\" class=\"dataframe\">\n",
       "  <thead>\n",
       "    <tr style=\"text-align: right;\">\n",
       "      <th></th>\n",
       "      <th>price</th>\n",
       "      <th>size2</th>\n",
       "      <th>color_blue</th>\n",
       "      <th>color_green</th>\n",
       "      <th>color_red</th>\n",
       "    </tr>\n",
       "  </thead>\n",
       "  <tbody>\n",
       "    <tr>\n",
       "      <th>0</th>\n",
       "      <td>10.1</td>\n",
       "      <td>3</td>\n",
       "      <td>0</td>\n",
       "      <td>1</td>\n",
       "      <td>0</td>\n",
       "    </tr>\n",
       "    <tr>\n",
       "      <th>1</th>\n",
       "      <td>13.5</td>\n",
       "      <td>2</td>\n",
       "      <td>0</td>\n",
       "      <td>1</td>\n",
       "      <td>0</td>\n",
       "    </tr>\n",
       "    <tr>\n",
       "      <th>2</th>\n",
       "      <td>15.3</td>\n",
       "      <td>4</td>\n",
       "      <td>0</td>\n",
       "      <td>0</td>\n",
       "      <td>1</td>\n",
       "    </tr>\n",
       "    <tr>\n",
       "      <th>3</th>\n",
       "      <td>12.7</td>\n",
       "      <td>1</td>\n",
       "      <td>1</td>\n",
       "      <td>0</td>\n",
       "      <td>0</td>\n",
       "    </tr>\n",
       "  </tbody>\n",
       "</table>\n",
       "</div>"
      ],
      "text/plain": [
       "   price  size2  color_blue  color_green  color_red\n",
       "0   10.1      3           0            1          0\n",
       "1   13.5      2           0            1          0\n",
       "2   15.3      4           0            0          1\n",
       "3   12.7      1           1            0          0"
      ]
     },
     "execution_count": 107,
     "metadata": {},
     "output_type": "execute_result"
    }
   ],
   "source": [
    "X"
   ]
  },
  {
   "cell_type": "code",
   "execution_count": 108,
   "id": "ad35ce04",
   "metadata": {},
   "outputs": [
    {
     "data": {
      "text/html": [
       "<div>\n",
       "<style scoped>\n",
       "    .dataframe tbody tr th:only-of-type {\n",
       "        vertical-align: middle;\n",
       "    }\n",
       "\n",
       "    .dataframe tbody tr th {\n",
       "        vertical-align: top;\n",
       "    }\n",
       "\n",
       "    .dataframe thead th {\n",
       "        text-align: right;\n",
       "    }\n",
       "</style>\n",
       "<table border=\"1\" class=\"dataframe\">\n",
       "  <thead>\n",
       "    <tr style=\"text-align: right;\">\n",
       "      <th></th>\n",
       "      <th>0</th>\n",
       "      <th>1</th>\n",
       "      <th>2</th>\n",
       "      <th>3</th>\n",
       "      <th>4</th>\n",
       "      <th>5</th>\n",
       "      <th>6</th>\n",
       "      <th>7</th>\n",
       "      <th>8</th>\n",
       "      <th>9</th>\n",
       "      <th>10</th>\n",
       "      <th>11</th>\n",
       "      <th>12</th>\n",
       "      <th>13</th>\n",
       "    </tr>\n",
       "  </thead>\n",
       "  <tbody>\n",
       "    <tr>\n",
       "      <th>0</th>\n",
       "      <td>1</td>\n",
       "      <td>14.23</td>\n",
       "      <td>1.71</td>\n",
       "      <td>2.43</td>\n",
       "      <td>15.6</td>\n",
       "      <td>127</td>\n",
       "      <td>2.80</td>\n",
       "      <td>3.06</td>\n",
       "      <td>0.28</td>\n",
       "      <td>2.29</td>\n",
       "      <td>5.64</td>\n",
       "      <td>1.04</td>\n",
       "      <td>3.92</td>\n",
       "      <td>1065</td>\n",
       "    </tr>\n",
       "    <tr>\n",
       "      <th>1</th>\n",
       "      <td>1</td>\n",
       "      <td>13.20</td>\n",
       "      <td>1.78</td>\n",
       "      <td>2.14</td>\n",
       "      <td>11.2</td>\n",
       "      <td>100</td>\n",
       "      <td>2.65</td>\n",
       "      <td>2.76</td>\n",
       "      <td>0.26</td>\n",
       "      <td>1.28</td>\n",
       "      <td>4.38</td>\n",
       "      <td>1.05</td>\n",
       "      <td>3.40</td>\n",
       "      <td>1050</td>\n",
       "    </tr>\n",
       "    <tr>\n",
       "      <th>2</th>\n",
       "      <td>1</td>\n",
       "      <td>13.16</td>\n",
       "      <td>2.36</td>\n",
       "      <td>2.67</td>\n",
       "      <td>18.6</td>\n",
       "      <td>101</td>\n",
       "      <td>2.80</td>\n",
       "      <td>3.24</td>\n",
       "      <td>0.30</td>\n",
       "      <td>2.81</td>\n",
       "      <td>5.68</td>\n",
       "      <td>1.03</td>\n",
       "      <td>3.17</td>\n",
       "      <td>1185</td>\n",
       "    </tr>\n",
       "    <tr>\n",
       "      <th>3</th>\n",
       "      <td>1</td>\n",
       "      <td>14.37</td>\n",
       "      <td>1.95</td>\n",
       "      <td>2.50</td>\n",
       "      <td>16.8</td>\n",
       "      <td>113</td>\n",
       "      <td>3.85</td>\n",
       "      <td>3.49</td>\n",
       "      <td>0.24</td>\n",
       "      <td>2.18</td>\n",
       "      <td>7.80</td>\n",
       "      <td>0.86</td>\n",
       "      <td>3.45</td>\n",
       "      <td>1480</td>\n",
       "    </tr>\n",
       "    <tr>\n",
       "      <th>4</th>\n",
       "      <td>1</td>\n",
       "      <td>13.24</td>\n",
       "      <td>2.59</td>\n",
       "      <td>2.87</td>\n",
       "      <td>21.0</td>\n",
       "      <td>118</td>\n",
       "      <td>2.80</td>\n",
       "      <td>2.69</td>\n",
       "      <td>0.39</td>\n",
       "      <td>1.82</td>\n",
       "      <td>4.32</td>\n",
       "      <td>1.04</td>\n",
       "      <td>2.93</td>\n",
       "      <td>735</td>\n",
       "    </tr>\n",
       "    <tr>\n",
       "      <th>...</th>\n",
       "      <td>...</td>\n",
       "      <td>...</td>\n",
       "      <td>...</td>\n",
       "      <td>...</td>\n",
       "      <td>...</td>\n",
       "      <td>...</td>\n",
       "      <td>...</td>\n",
       "      <td>...</td>\n",
       "      <td>...</td>\n",
       "      <td>...</td>\n",
       "      <td>...</td>\n",
       "      <td>...</td>\n",
       "      <td>...</td>\n",
       "      <td>...</td>\n",
       "    </tr>\n",
       "    <tr>\n",
       "      <th>173</th>\n",
       "      <td>3</td>\n",
       "      <td>13.71</td>\n",
       "      <td>5.65</td>\n",
       "      <td>2.45</td>\n",
       "      <td>20.5</td>\n",
       "      <td>95</td>\n",
       "      <td>1.68</td>\n",
       "      <td>0.61</td>\n",
       "      <td>0.52</td>\n",
       "      <td>1.06</td>\n",
       "      <td>7.70</td>\n",
       "      <td>0.64</td>\n",
       "      <td>1.74</td>\n",
       "      <td>740</td>\n",
       "    </tr>\n",
       "    <tr>\n",
       "      <th>174</th>\n",
       "      <td>3</td>\n",
       "      <td>13.40</td>\n",
       "      <td>3.91</td>\n",
       "      <td>2.48</td>\n",
       "      <td>23.0</td>\n",
       "      <td>102</td>\n",
       "      <td>1.80</td>\n",
       "      <td>0.75</td>\n",
       "      <td>0.43</td>\n",
       "      <td>1.41</td>\n",
       "      <td>7.30</td>\n",
       "      <td>0.70</td>\n",
       "      <td>1.56</td>\n",
       "      <td>750</td>\n",
       "    </tr>\n",
       "    <tr>\n",
       "      <th>175</th>\n",
       "      <td>3</td>\n",
       "      <td>13.27</td>\n",
       "      <td>4.28</td>\n",
       "      <td>2.26</td>\n",
       "      <td>20.0</td>\n",
       "      <td>120</td>\n",
       "      <td>1.59</td>\n",
       "      <td>0.69</td>\n",
       "      <td>0.43</td>\n",
       "      <td>1.35</td>\n",
       "      <td>10.20</td>\n",
       "      <td>0.59</td>\n",
       "      <td>1.56</td>\n",
       "      <td>835</td>\n",
       "    </tr>\n",
       "    <tr>\n",
       "      <th>176</th>\n",
       "      <td>3</td>\n",
       "      <td>13.17</td>\n",
       "      <td>2.59</td>\n",
       "      <td>2.37</td>\n",
       "      <td>20.0</td>\n",
       "      <td>120</td>\n",
       "      <td>1.65</td>\n",
       "      <td>0.68</td>\n",
       "      <td>0.53</td>\n",
       "      <td>1.46</td>\n",
       "      <td>9.30</td>\n",
       "      <td>0.60</td>\n",
       "      <td>1.62</td>\n",
       "      <td>840</td>\n",
       "    </tr>\n",
       "    <tr>\n",
       "      <th>177</th>\n",
       "      <td>3</td>\n",
       "      <td>14.13</td>\n",
       "      <td>4.10</td>\n",
       "      <td>2.74</td>\n",
       "      <td>24.5</td>\n",
       "      <td>96</td>\n",
       "      <td>2.05</td>\n",
       "      <td>0.76</td>\n",
       "      <td>0.56</td>\n",
       "      <td>1.35</td>\n",
       "      <td>9.20</td>\n",
       "      <td>0.61</td>\n",
       "      <td>1.60</td>\n",
       "      <td>560</td>\n",
       "    </tr>\n",
       "  </tbody>\n",
       "</table>\n",
       "<p>178 rows × 14 columns</p>\n",
       "</div>"
      ],
      "text/plain": [
       "     0      1     2     3     4    5     6     7     8     9      10    11  \\\n",
       "0     1  14.23  1.71  2.43  15.6  127  2.80  3.06  0.28  2.29   5.64  1.04   \n",
       "1     1  13.20  1.78  2.14  11.2  100  2.65  2.76  0.26  1.28   4.38  1.05   \n",
       "2     1  13.16  2.36  2.67  18.6  101  2.80  3.24  0.30  2.81   5.68  1.03   \n",
       "3     1  14.37  1.95  2.50  16.8  113  3.85  3.49  0.24  2.18   7.80  0.86   \n",
       "4     1  13.24  2.59  2.87  21.0  118  2.80  2.69  0.39  1.82   4.32  1.04   \n",
       "..   ..    ...   ...   ...   ...  ...   ...   ...   ...   ...    ...   ...   \n",
       "173   3  13.71  5.65  2.45  20.5   95  1.68  0.61  0.52  1.06   7.70  0.64   \n",
       "174   3  13.40  3.91  2.48  23.0  102  1.80  0.75  0.43  1.41   7.30  0.70   \n",
       "175   3  13.27  4.28  2.26  20.0  120  1.59  0.69  0.43  1.35  10.20  0.59   \n",
       "176   3  13.17  2.59  2.37  20.0  120  1.65  0.68  0.53  1.46   9.30  0.60   \n",
       "177   3  14.13  4.10  2.74  24.5   96  2.05  0.76  0.56  1.35   9.20  0.61   \n",
       "\n",
       "       12    13  \n",
       "0    3.92  1065  \n",
       "1    3.40  1050  \n",
       "2    3.17  1185  \n",
       "3    3.45  1480  \n",
       "4    2.93   735  \n",
       "..    ...   ...  \n",
       "173  1.74   740  \n",
       "174  1.56   750  \n",
       "175  1.56   835  \n",
       "176  1.62   840  \n",
       "177  1.60   560  \n",
       "\n",
       "[178 rows x 14 columns]"
      ]
     },
     "execution_count": 108,
     "metadata": {},
     "output_type": "execute_result"
    }
   ],
   "source": [
    "# 와인데이터\n",
    "path='https://archive.ics.uci.edu/ml/machine-learning-databases/wine/wine.data'\n",
    "wine=pd.read_csv(path,header=None)\n",
    "wine"
   ]
  },
  {
   "cell_type": "code",
   "execution_count": 109,
   "id": "9cdb22c7",
   "metadata": {},
   "outputs": [],
   "source": [
    "X=wine.iloc[:,1:].to_numpy()"
   ]
  },
  {
   "cell_type": "code",
   "execution_count": 110,
   "id": "204a189a",
   "metadata": {},
   "outputs": [
    {
     "data": {
      "text/plain": [
       "array([[1.423e+01, 1.710e+00, 2.430e+00, ..., 1.040e+00, 3.920e+00,\n",
       "        1.065e+03],\n",
       "       [1.320e+01, 1.780e+00, 2.140e+00, ..., 1.050e+00, 3.400e+00,\n",
       "        1.050e+03],\n",
       "       [1.316e+01, 2.360e+00, 2.670e+00, ..., 1.030e+00, 3.170e+00,\n",
       "        1.185e+03],\n",
       "       ...,\n",
       "       [1.327e+01, 4.280e+00, 2.260e+00, ..., 5.900e-01, 1.560e+00,\n",
       "        8.350e+02],\n",
       "       [1.317e+01, 2.590e+00, 2.370e+00, ..., 6.000e-01, 1.620e+00,\n",
       "        8.400e+02],\n",
       "       [1.413e+01, 4.100e+00, 2.740e+00, ..., 6.100e-01, 1.600e+00,\n",
       "        5.600e+02]])"
      ]
     },
     "execution_count": 110,
     "metadata": {},
     "output_type": "execute_result"
    }
   ],
   "source": [
    "X"
   ]
  },
  {
   "cell_type": "code",
   "execution_count": 111,
   "id": "af190dc4",
   "metadata": {},
   "outputs": [],
   "source": [
    "y=wine.iloc[:,0].values"
   ]
  },
  {
   "cell_type": "code",
   "execution_count": 112,
   "id": "dbe936de",
   "metadata": {},
   "outputs": [
    {
     "data": {
      "text/plain": [
       "array([1, 1, 1, 1, 1, 1, 1, 1, 1, 1, 1, 1, 1, 1, 1, 1, 1, 1, 1, 1, 1, 1,\n",
       "       1, 1, 1, 1, 1, 1, 1, 1, 1, 1, 1, 1, 1, 1, 1, 1, 1, 1, 1, 1, 1, 1,\n",
       "       1, 1, 1, 1, 1, 1, 1, 1, 1, 1, 1, 1, 1, 1, 1, 2, 2, 2, 2, 2, 2, 2,\n",
       "       2, 2, 2, 2, 2, 2, 2, 2, 2, 2, 2, 2, 2, 2, 2, 2, 2, 2, 2, 2, 2, 2,\n",
       "       2, 2, 2, 2, 2, 2, 2, 2, 2, 2, 2, 2, 2, 2, 2, 2, 2, 2, 2, 2, 2, 2,\n",
       "       2, 2, 2, 2, 2, 2, 2, 2, 2, 2, 2, 2, 2, 2, 2, 2, 2, 2, 2, 2, 3, 3,\n",
       "       3, 3, 3, 3, 3, 3, 3, 3, 3, 3, 3, 3, 3, 3, 3, 3, 3, 3, 3, 3, 3, 3,\n",
       "       3, 3, 3, 3, 3, 3, 3, 3, 3, 3, 3, 3, 3, 3, 3, 3, 3, 3, 3, 3, 3, 3,\n",
       "       3, 3], dtype=int64)"
      ]
     },
     "execution_count": 112,
     "metadata": {},
     "output_type": "execute_result"
    }
   ],
   "source": [
    "y"
   ]
  },
  {
   "cell_type": "code",
   "execution_count": 113,
   "id": "7d6e4aa7",
   "metadata": {},
   "outputs": [],
   "source": [
    "from sklearn.model_selection import train_test_split\n",
    "\n",
    "X_train,X_test,y_train,y_test=train_test_split(X,y,train_size=0.7,random_state=0,stratify=y)"
   ]
  },
  {
   "cell_type": "code",
   "execution_count": 117,
   "id": "f530404f",
   "metadata": {},
   "outputs": [],
   "source": [
    "from sklearn.preprocessing import StandardScaler\n",
    "\n",
    "scaler=StandardScaler()\n",
    "X_train_std=scaler.fit_transform(X_train)\n",
    "X_test_std=scaler.transform(X_test)"
   ]
  },
  {
   "cell_type": "code",
   "execution_count": 116,
   "id": "2244afd9",
   "metadata": {},
   "outputs": [
    {
     "data": {
      "text/html": [
       "<div>\n",
       "<style scoped>\n",
       "    .dataframe tbody tr th:only-of-type {\n",
       "        vertical-align: middle;\n",
       "    }\n",
       "\n",
       "    .dataframe tbody tr th {\n",
       "        vertical-align: top;\n",
       "    }\n",
       "\n",
       "    .dataframe thead th {\n",
       "        text-align: right;\n",
       "    }\n",
       "</style>\n",
       "<table border=\"1\" class=\"dataframe\">\n",
       "  <thead>\n",
       "    <tr style=\"text-align: right;\">\n",
       "      <th></th>\n",
       "      <th>0</th>\n",
       "      <th>1</th>\n",
       "      <th>2</th>\n",
       "      <th>3</th>\n",
       "      <th>4</th>\n",
       "      <th>5</th>\n",
       "      <th>6</th>\n",
       "      <th>7</th>\n",
       "      <th>8</th>\n",
       "      <th>9</th>\n",
       "      <th>10</th>\n",
       "      <th>11</th>\n",
       "      <th>12</th>\n",
       "    </tr>\n",
       "  </thead>\n",
       "  <tbody>\n",
       "    <tr>\n",
       "      <th>count</th>\n",
       "      <td>1.240000e+02</td>\n",
       "      <td>1.240000e+02</td>\n",
       "      <td>1.240000e+02</td>\n",
       "      <td>1.240000e+02</td>\n",
       "      <td>1.240000e+02</td>\n",
       "      <td>1.240000e+02</td>\n",
       "      <td>1.240000e+02</td>\n",
       "      <td>1.240000e+02</td>\n",
       "      <td>1.240000e+02</td>\n",
       "      <td>1.240000e+02</td>\n",
       "      <td>1.240000e+02</td>\n",
       "      <td>1.240000e+02</td>\n",
       "      <td>1.240000e+02</td>\n",
       "    </tr>\n",
       "    <tr>\n",
       "      <th>mean</th>\n",
       "      <td>6.890098e-15</td>\n",
       "      <td>1.683241e-16</td>\n",
       "      <td>3.799660e-15</td>\n",
       "      <td>2.856138e-16</td>\n",
       "      <td>-3.178461e-16</td>\n",
       "      <td>1.662649e-15</td>\n",
       "      <td>1.598184e-16</td>\n",
       "      <td>-1.198862e-15</td>\n",
       "      <td>1.888274e-15</td>\n",
       "      <td>-1.615195e-15</td>\n",
       "      <td>-5.783904e-16</td>\n",
       "      <td>8.631089e-16</td>\n",
       "      <td>-1.334058e-16</td>\n",
       "    </tr>\n",
       "    <tr>\n",
       "      <th>std</th>\n",
       "      <td>1.004057e+00</td>\n",
       "      <td>1.004057e+00</td>\n",
       "      <td>1.004057e+00</td>\n",
       "      <td>1.004057e+00</td>\n",
       "      <td>1.004057e+00</td>\n",
       "      <td>1.004057e+00</td>\n",
       "      <td>1.004057e+00</td>\n",
       "      <td>1.004057e+00</td>\n",
       "      <td>1.004057e+00</td>\n",
       "      <td>1.004057e+00</td>\n",
       "      <td>1.004057e+00</td>\n",
       "      <td>1.004057e+00</td>\n",
       "      <td>1.004057e+00</td>\n",
       "    </tr>\n",
       "    <tr>\n",
       "      <th>min</th>\n",
       "      <td>-1.971837e+00</td>\n",
       "      <td>-1.380243e+00</td>\n",
       "      <td>-2.554934e+00</td>\n",
       "      <td>-2.525252e+00</td>\n",
       "      <td>-2.069521e+00</td>\n",
       "      <td>-2.187238e+00</td>\n",
       "      <td>-1.691226e+00</td>\n",
       "      <td>-1.964528e+00</td>\n",
       "      <td>-2.068907e+00</td>\n",
       "      <td>-1.419256e+00</td>\n",
       "      <td>-2.147813e+00</td>\n",
       "      <td>-1.947267e+00</td>\n",
       "      <td>-1.465378e+00</td>\n",
       "    </tr>\n",
       "    <tr>\n",
       "      <th>25%</th>\n",
       "      <td>-8.150037e-01</td>\n",
       "      <td>-6.275963e-01</td>\n",
       "      <td>-5.499141e-01</td>\n",
       "      <td>-6.917901e-01</td>\n",
       "      <td>-7.889079e-01</td>\n",
       "      <td>-8.535947e-01</td>\n",
       "      <td>-7.985839e-01</td>\n",
       "      <td>-8.092365e-01</td>\n",
       "      <td>-6.496852e-01</td>\n",
       "      <td>-8.006399e-01</td>\n",
       "      <td>-7.436984e-01</td>\n",
       "      <td>-8.974047e-01</td>\n",
       "      <td>-7.823560e-01</td>\n",
       "    </tr>\n",
       "    <tr>\n",
       "      <th>50%</th>\n",
       "      <td>3.819870e-02</td>\n",
       "      <td>-4.351583e-01</td>\n",
       "      <td>-5.565323e-02</td>\n",
       "      <td>-9.065504e-02</td>\n",
       "      <td>-1.130290e-01</td>\n",
       "      <td>1.385058e-01</td>\n",
       "      <td>9.896271e-02</td>\n",
       "      <td>-2.315907e-01</td>\n",
       "      <td>-7.775997e-02</td>\n",
       "      <td>-1.438903e-01</td>\n",
       "      <td>4.894675e-02</td>\n",
       "      <td>2.823374e-01</td>\n",
       "      <td>-2.499217e-01</td>\n",
       "    </tr>\n",
       "    <tr>\n",
       "      <th>75%</th>\n",
       "      <td>8.033481e-01</td>\n",
       "      <td>6.980880e-01</td>\n",
       "      <td>7.370293e-01</td>\n",
       "      <td>5.705935e-01</td>\n",
       "      <td>5.094911e-01</td>\n",
       "      <td>8.297234e-01</td>\n",
       "      <td>8.322044e-01</td>\n",
       "      <td>6.142478e-01</td>\n",
       "      <td>5.619490e-01</td>\n",
       "      <td>4.704883e-01</td>\n",
       "      <td>7.510038e-01</td>\n",
       "      <td>7.946413e-01</td>\n",
       "      <td>8.610452e-01</td>\n",
       "    </tr>\n",
       "    <tr>\n",
       "      <th>max</th>\n",
       "      <td>2.181832e+00</td>\n",
       "      <td>2.947475e+00</td>\n",
       "      <td>3.152379e+00</td>\n",
       "      <td>3.065304e+00</td>\n",
       "      <td>3.693237e+00</td>\n",
       "      <td>2.529306e+00</td>\n",
       "      <td>2.958360e+00</td>\n",
       "      <td>2.161513e+00</td>\n",
       "      <td>3.286008e+00</td>\n",
       "      <td>3.351712e+00</td>\n",
       "      <td>2.109824e+00</td>\n",
       "      <td>1.992422e+00</td>\n",
       "      <td>2.843268e+00</td>\n",
       "    </tr>\n",
       "  </tbody>\n",
       "</table>\n",
       "</div>"
      ],
      "text/plain": [
       "                 0             1             2             3             4   \\\n",
       "count  1.240000e+02  1.240000e+02  1.240000e+02  1.240000e+02  1.240000e+02   \n",
       "mean   6.890098e-15  1.683241e-16  3.799660e-15  2.856138e-16 -3.178461e-16   \n",
       "std    1.004057e+00  1.004057e+00  1.004057e+00  1.004057e+00  1.004057e+00   \n",
       "min   -1.971837e+00 -1.380243e+00 -2.554934e+00 -2.525252e+00 -2.069521e+00   \n",
       "25%   -8.150037e-01 -6.275963e-01 -5.499141e-01 -6.917901e-01 -7.889079e-01   \n",
       "50%    3.819870e-02 -4.351583e-01 -5.565323e-02 -9.065504e-02 -1.130290e-01   \n",
       "75%    8.033481e-01  6.980880e-01  7.370293e-01  5.705935e-01  5.094911e-01   \n",
       "max    2.181832e+00  2.947475e+00  3.152379e+00  3.065304e+00  3.693237e+00   \n",
       "\n",
       "                 5             6             7             8             9   \\\n",
       "count  1.240000e+02  1.240000e+02  1.240000e+02  1.240000e+02  1.240000e+02   \n",
       "mean   1.662649e-15  1.598184e-16 -1.198862e-15  1.888274e-15 -1.615195e-15   \n",
       "std    1.004057e+00  1.004057e+00  1.004057e+00  1.004057e+00  1.004057e+00   \n",
       "min   -2.187238e+00 -1.691226e+00 -1.964528e+00 -2.068907e+00 -1.419256e+00   \n",
       "25%   -8.535947e-01 -7.985839e-01 -8.092365e-01 -6.496852e-01 -8.006399e-01   \n",
       "50%    1.385058e-01  9.896271e-02 -2.315907e-01 -7.775997e-02 -1.438903e-01   \n",
       "75%    8.297234e-01  8.322044e-01  6.142478e-01  5.619490e-01  4.704883e-01   \n",
       "max    2.529306e+00  2.958360e+00  2.161513e+00  3.286008e+00  3.351712e+00   \n",
       "\n",
       "                 10            11            12  \n",
       "count  1.240000e+02  1.240000e+02  1.240000e+02  \n",
       "mean  -5.783904e-16  8.631089e-16 -1.334058e-16  \n",
       "std    1.004057e+00  1.004057e+00  1.004057e+00  \n",
       "min   -2.147813e+00 -1.947267e+00 -1.465378e+00  \n",
       "25%   -7.436984e-01 -8.974047e-01 -7.823560e-01  \n",
       "50%    4.894675e-02  2.823374e-01 -2.499217e-01  \n",
       "75%    7.510038e-01  7.946413e-01  8.610452e-01  \n",
       "max    2.109824e+00  1.992422e+00  2.843268e+00  "
      ]
     },
     "execution_count": 116,
     "metadata": {},
     "output_type": "execute_result"
    }
   ],
   "source": [
    "pd.DataFrame(X_train_std).describe()"
   ]
  },
  {
   "cell_type": "code",
   "execution_count": 118,
   "id": "29a6e98d",
   "metadata": {},
   "outputs": [
    {
     "data": {
      "text/html": [
       "<div>\n",
       "<style scoped>\n",
       "    .dataframe tbody tr th:only-of-type {\n",
       "        vertical-align: middle;\n",
       "    }\n",
       "\n",
       "    .dataframe tbody tr th {\n",
       "        vertical-align: top;\n",
       "    }\n",
       "\n",
       "    .dataframe thead th {\n",
       "        text-align: right;\n",
       "    }\n",
       "</style>\n",
       "<table border=\"1\" class=\"dataframe\">\n",
       "  <thead>\n",
       "    <tr style=\"text-align: right;\">\n",
       "      <th></th>\n",
       "      <th>0</th>\n",
       "      <th>1</th>\n",
       "      <th>2</th>\n",
       "      <th>3</th>\n",
       "      <th>4</th>\n",
       "      <th>5</th>\n",
       "      <th>6</th>\n",
       "      <th>7</th>\n",
       "      <th>8</th>\n",
       "      <th>9</th>\n",
       "      <th>10</th>\n",
       "      <th>11</th>\n",
       "      <th>12</th>\n",
       "    </tr>\n",
       "  </thead>\n",
       "  <tbody>\n",
       "    <tr>\n",
       "      <th>count</th>\n",
       "      <td>54.000000</td>\n",
       "      <td>54.000000</td>\n",
       "      <td>54.000000</td>\n",
       "      <td>54.000000</td>\n",
       "      <td>54.000000</td>\n",
       "      <td>54.000000</td>\n",
       "      <td>54.000000</td>\n",
       "      <td>54.000000</td>\n",
       "      <td>54.000000</td>\n",
       "      <td>54.000000</td>\n",
       "      <td>54.000000</td>\n",
       "      <td>54.000000</td>\n",
       "      <td>54.000000</td>\n",
       "    </tr>\n",
       "    <tr>\n",
       "      <th>mean</th>\n",
       "      <td>-0.131835</td>\n",
       "      <td>-0.049174</td>\n",
       "      <td>-0.226279</td>\n",
       "      <td>-0.303835</td>\n",
       "      <td>0.153107</td>\n",
       "      <td>-0.159365</td>\n",
       "      <td>-0.112663</td>\n",
       "      <td>-0.168936</td>\n",
       "      <td>-0.279228</td>\n",
       "      <td>-0.044005</td>\n",
       "      <td>0.048611</td>\n",
       "      <td>-0.036483</td>\n",
       "      <td>-0.080326</td>\n",
       "    </tr>\n",
       "    <tr>\n",
       "      <th>std</th>\n",
       "      <td>0.945881</td>\n",
       "      <td>0.841129</td>\n",
       "      <td>1.059069</td>\n",
       "      <td>0.979626</td>\n",
       "      <td>1.044970</td>\n",
       "      <td>1.049986</td>\n",
       "      <td>0.925997</td>\n",
       "      <td>1.078199</td>\n",
       "      <td>0.864142</td>\n",
       "      <td>0.938784</td>\n",
       "      <td>1.112748</td>\n",
       "      <td>1.079511</td>\n",
       "      <td>0.885251</td>\n",
       "    </tr>\n",
       "    <tr>\n",
       "      <th>min</th>\n",
       "      <td>-2.433355</td>\n",
       "      <td>-1.243398</td>\n",
       "      <td>-3.823226</td>\n",
       "      <td>-2.765706</td>\n",
       "      <td>-1.286924</td>\n",
       "      <td>-1.992071</td>\n",
       "      <td>-1.563706</td>\n",
       "      <td>-1.634445</td>\n",
       "      <td>-2.085853</td>\n",
       "      <td>-1.614162</td>\n",
       "      <td>-1.876049</td>\n",
       "      <td>-1.918405</td>\n",
       "      <td>-1.351669</td>\n",
       "    </tr>\n",
       "    <tr>\n",
       "      <th>25%</th>\n",
       "      <td>-0.815004</td>\n",
       "      <td>-0.642564</td>\n",
       "      <td>-0.689799</td>\n",
       "      <td>-1.112585</td>\n",
       "      <td>-0.717763</td>\n",
       "      <td>-1.016234</td>\n",
       "      <td>-0.928557</td>\n",
       "      <td>-0.953648</td>\n",
       "      <td>-0.844563</td>\n",
       "      <td>-0.777336</td>\n",
       "      <td>-0.788992</td>\n",
       "      <td>-1.139126</td>\n",
       "      <td>-0.767758</td>\n",
       "    </tr>\n",
       "    <tr>\n",
       "      <th>50%</th>\n",
       "      <td>-0.156125</td>\n",
       "      <td>-0.400947</td>\n",
       "      <td>-0.260818</td>\n",
       "      <td>-0.316081</td>\n",
       "      <td>-0.077456</td>\n",
       "      <td>-0.178641</td>\n",
       "      <td>-0.004034</td>\n",
       "      <td>-0.602934</td>\n",
       "      <td>-0.306530</td>\n",
       "      <td>-0.207447</td>\n",
       "      <td>0.139535</td>\n",
       "      <td>0.195751</td>\n",
       "      <td>-0.260678</td>\n",
       "    </tr>\n",
       "    <tr>\n",
       "      <th>75%</th>\n",
       "      <td>0.566516</td>\n",
       "      <td>0.569796</td>\n",
       "      <td>0.457259</td>\n",
       "      <td>0.472909</td>\n",
       "      <td>0.829644</td>\n",
       "      <td>0.508511</td>\n",
       "      <td>0.662995</td>\n",
       "      <td>0.511097</td>\n",
       "      <td>0.269632</td>\n",
       "      <td>0.491674</td>\n",
       "      <td>0.784974</td>\n",
       "      <td>0.946168</td>\n",
       "      <td>0.396222</td>\n",
       "    </tr>\n",
       "    <tr>\n",
       "      <th>max</th>\n",
       "      <td>1.647442</td>\n",
       "      <td>1.929691</td>\n",
       "      <td>1.995996</td>\n",
       "      <td>2.163601</td>\n",
       "      <td>4.475833</td>\n",
       "      <td>2.480514</td>\n",
       "      <td>1.653729</td>\n",
       "      <td>2.409076</td>\n",
       "      <td>2.777630</td>\n",
       "      <td>2.368706</td>\n",
       "      <td>3.423350</td>\n",
       "      <td>1.876974</td>\n",
       "      <td>2.228625</td>\n",
       "    </tr>\n",
       "  </tbody>\n",
       "</table>\n",
       "</div>"
      ],
      "text/plain": [
       "              0          1          2          3          4          5   \\\n",
       "count  54.000000  54.000000  54.000000  54.000000  54.000000  54.000000   \n",
       "mean   -0.131835  -0.049174  -0.226279  -0.303835   0.153107  -0.159365   \n",
       "std     0.945881   0.841129   1.059069   0.979626   1.044970   1.049986   \n",
       "min    -2.433355  -1.243398  -3.823226  -2.765706  -1.286924  -1.992071   \n",
       "25%    -0.815004  -0.642564  -0.689799  -1.112585  -0.717763  -1.016234   \n",
       "50%    -0.156125  -0.400947  -0.260818  -0.316081  -0.077456  -0.178641   \n",
       "75%     0.566516   0.569796   0.457259   0.472909   0.829644   0.508511   \n",
       "max     1.647442   1.929691   1.995996   2.163601   4.475833   2.480514   \n",
       "\n",
       "              6          7          8          9          10         11  \\\n",
       "count  54.000000  54.000000  54.000000  54.000000  54.000000  54.000000   \n",
       "mean   -0.112663  -0.168936  -0.279228  -0.044005   0.048611  -0.036483   \n",
       "std     0.925997   1.078199   0.864142   0.938784   1.112748   1.079511   \n",
       "min    -1.563706  -1.634445  -2.085853  -1.614162  -1.876049  -1.918405   \n",
       "25%    -0.928557  -0.953648  -0.844563  -0.777336  -0.788992  -1.139126   \n",
       "50%    -0.004034  -0.602934  -0.306530  -0.207447   0.139535   0.195751   \n",
       "75%     0.662995   0.511097   0.269632   0.491674   0.784974   0.946168   \n",
       "max     1.653729   2.409076   2.777630   2.368706   3.423350   1.876974   \n",
       "\n",
       "              12  \n",
       "count  54.000000  \n",
       "mean   -0.080326  \n",
       "std     0.885251  \n",
       "min    -1.351669  \n",
       "25%    -0.767758  \n",
       "50%    -0.260678  \n",
       "75%     0.396222  \n",
       "max     2.228625  "
      ]
     },
     "execution_count": 118,
     "metadata": {},
     "output_type": "execute_result"
    }
   ],
   "source": [
    "pd.DataFrame(X_test_std).describe()"
   ]
  },
  {
   "cell_type": "code",
   "execution_count": 127,
   "id": "ca5709ba",
   "metadata": {},
   "outputs": [
    {
     "data": {
      "text/plain": [
       "PCA(n_components=2)"
      ]
     },
     "execution_count": 127,
     "metadata": {},
     "output_type": "execute_result"
    }
   ],
   "source": [
    "from sklearn.decomposition import PCA\n",
    "\n",
    "pca=PCA(n_components=2)\n",
    "pca.fit(X_train_std) # PCA 역시 표준화된 버전을 더 좋아한다."
   ]
  },
  {
   "cell_type": "code",
   "execution_count": 129,
   "id": "dfe330fa",
   "metadata": {},
   "outputs": [
    {
     "data": {
      "text/plain": [
       "(124, 13)"
      ]
     },
     "execution_count": 129,
     "metadata": {},
     "output_type": "execute_result"
    }
   ],
   "source": [
    "X_train_pca=pca.transform(X_train_std) # PCA로 변환된 값 사용하겠다.\n",
    "X_train_std.shape"
   ]
  },
  {
   "cell_type": "code",
   "execution_count": 130,
   "id": "ee9c0eb2",
   "metadata": {},
   "outputs": [
    {
     "data": {
      "text/plain": [
       "(124, 13)"
      ]
     },
     "execution_count": 130,
     "metadata": {},
     "output_type": "execute_result"
    }
   ],
   "source": [
    "X_train_std.shape"
   ]
  },
  {
   "cell_type": "code",
   "execution_count": 131,
   "id": "ed718863",
   "metadata": {},
   "outputs": [
    {
     "data": {
      "text/plain": [
       "array([[-0.13724218,  0.24724326, -0.02545159,  0.20694508, -0.15436582,\n",
       "        -0.39376952, -0.41735106,  0.30572896, -0.30668347,  0.07554066,\n",
       "        -0.32613263, -0.36861022, -0.29669651],\n",
       "       [ 0.50303478,  0.16487119,  0.24456476, -0.11352904,  0.28974518,\n",
       "         0.05080104, -0.02287338,  0.09048885,  0.00835233,  0.54977581,\n",
       "        -0.20716433, -0.24902536,  0.38022942]])"
      ]
     },
     "execution_count": 131,
     "metadata": {},
     "output_type": "execute_result"
    }
   ],
   "source": [
    "pca.components_"
   ]
  },
  {
   "cell_type": "code",
   "execution_count": 126,
   "id": "11f10bf1",
   "metadata": {},
   "outputs": [
    {
     "data": {
      "text/plain": [
       "array([0.36951469, 0.18434927])"
      ]
     },
     "execution_count": 126,
     "metadata": {},
     "output_type": "execute_result"
    }
   ],
   "source": [
    "pca.explained_variance_ratio_  #주성분 1개를 뽑아도 37프로를 설명된다. 다음걸 뽑으면 18프로 뽑음, 주성분 2개쓰면 왠만큼 설명된다."
   ]
  },
  {
   "cell_type": "code",
   "execution_count": 89,
   "id": "84fd1056",
   "metadata": {},
   "outputs": [],
   "source": [
    "# 11.17 모델튜닝"
   ]
  }
 ],
 "metadata": {
  "kernelspec": {
   "display_name": "Python 3",
   "language": "python",
   "name": "python3"
  },
  "language_info": {
   "codemirror_mode": {
    "name": "ipython",
    "version": 3
   },
   "file_extension": ".py",
   "mimetype": "text/x-python",
   "name": "python",
   "nbconvert_exporter": "python",
   "pygments_lexer": "ipython3",
   "version": "3.8.8"
  }
 },
 "nbformat": 4,
 "nbformat_minor": 5
}
