{
 "cells": [
  {
   "cell_type": "markdown",
   "id": "58e13081",
   "metadata": {},
   "source": [
    "#### 동작 로직\n",
    "\n",
    "이미 묶인 데이터는 unpacking 인자 *를 이용해서 풀기 가능"
   ]
  },
  {
   "cell_type": "code",
   "execution_count": 133,
   "id": "4b3d73dd",
   "metadata": {},
   "outputs": [],
   "source": [
    "def unzip(data):\n",
    "    \n",
    "    x,y = zip(*data)\n",
    "    return list(x),list(y)"
   ]
  },
  {
   "cell_type": "code",
   "execution_count": 134,
   "id": "2b48ee3d",
   "metadata": {},
   "outputs": [
    {
     "name": "stdout",
     "output_type": "stream",
     "text": [
      "[3, 2.1, 9.3, 4, -2]\n",
      "[6, 5, 10, 2, 7]\n"
     ]
    }
   ],
   "source": [
    "data =[(3,6), (2.1,5), (9.3,10), (4,2), (-2,7)]\n",
    "x, y = unzip(data)\n",
    "print(x)\n",
    "print(y)"
   ]
  },
  {
   "cell_type": "markdown",
   "id": "2b62c603",
   "metadata": {},
   "source": [
    "### [2] 파이썬 파일을 읽어 각 키워드의 빈도수를 센 후, 빈도수를 기준으로 정렬한 리스트를 반환하는 keyword_count(filename) 함수를 정의하고 mystery.py 파일에 대한 결과를 출력하시오."
   ]
  },
  {
   "cell_type": "markdown",
   "id": "ba78c9f6",
   "metadata": {},
   "source": [
    "#### 동작 로직\n",
    "\n",
    "1. 키워드별로 빈도수를 저장하는 딕셔너리 생성 구현 👌<br>\n",
    "2. 파일 열기 구현 👌<br>\n",
    "3. 전처리 : 콜론(:)을 빈칸(' ')으로 대체(replace) 구현 👌<br>\n",
    "4. 텍스트 파일 처리 구현 👌<br>\n",
    "5. 정렬 후, key-value 쌍이 tuple로 구성된 list로 변환 구현 👌<br>\n",
    "6. 파일 닫기 구현 👌<br>\n",
    "7. 반환 구현 👌"
   ]
  },
  {
   "cell_type": "code",
   "execution_count": 236,
   "id": "22f2340f",
   "metadata": {},
   "outputs": [],
   "source": [
    "def keyword_count(filename):\n",
    "    \n",
    "    dicFrequency = {}\n",
    "    setKeywordList = set(keyword.kwlist)\n",
    "    \n",
    "    infile = open(filename,'r')\n",
    "    temp=infile.read().replace(':',' ')\n",
    "    \n",
    "    for line in temp:\n",
    "        if line in setKeywordList:\n",
    "            dicFrequency[line]=frequency.get(line,0)+1\n",
    "\n",
    "    sortedFrequency = sorted(frequency.items(), key=lambda x:-x[1])\n",
    "    \n",
    "    infile.close()\n",
    "    \n",
    "    return sortedFrequency"
   ]
  },
  {
   "cell_type": "code",
   "execution_count": 237,
   "id": "d1143f26",
   "metadata": {},
   "outputs": [
    {
     "name": "stdout",
     "output_type": "stream",
     "text": [
      "[('def', 36), ('return', 17), ('in', 16), ('if', 13), ('for', 10), ('import', 6), ('as', 6), ('and', 6), ('not', 5), ('raise', 5), ('is', 5), ('with', 4), ('from', 3), ('else', 3), ('None', 2), ('assert', 1), ('yield', 1), ('try', 1), ('except', 1), ('del', 1)]\n"
     ]
    }
   ],
   "source": [
    "print(keyword_count('mystery.py'))"
   ]
  },
  {
   "cell_type": "markdown",
   "id": "377558cf",
   "metadata": {},
   "source": [
    "### [3] 모든 변의 길이가 같고 모든 각의 길이가 같은 다각형을 정다각형이라고 한다. 아래와 같은 데이터 필드와 메서드를 갖는 클래스 RegularPolygon을 구현하시오.\n",
    "\n",
    "<br>\n",
    "\n",
    "데이터 필드(기본값) : 변의 개수(3), 변의 길이(1) ,               구현 👌 <br>\n",
    "모든 데이터 필드에 대한 접근자(getter)와 변경자(setter) 메서드 , 구현 👌 <br>\n",
    "내각을 반환하는 메서드 : getIntAngle ,                           구현 👌 <br>\n",
    "둘레를 반환하는 메서드 : getPerimeter ,                          구현 👌 <br>\n",
    "면적을 반환하는 메서드 : getArea ,                               구현 👌 <br>\n",
    "독스트링 추가 ,                                                  구현 👌 <br>"
   ]
  },
  {
   "cell_type": "code",
   "execution_count": 120,
   "id": "4fe07cf1",
   "metadata": {},
   "outputs": [],
   "source": [
    "import math\n",
    " \n",
    "class RegularPolygon:\n",
    "    \"\"\"\n",
    "정다각형(등변 & 등각)\n",
    "\n",
    "Parameters\n",
    "-----------\n",
    "n : int, default : 3\n",
    "    변의 개수\n",
    "s : float, default : 1.0\n",
    "    변의 길이\n",
    "\"\"\"  \n",
    "    def __init__(self, n=3, s=1.0):                                                            \n",
    "        self.sideNumber = n\n",
    "        self.sideLength = s    \n",
    "    \n",
    "    def getSideNumber(self):                                                                          \n",
    "        return self.sideNumber\n",
    "    \n",
    "    def setSideNumber(self,sideNumber):                                                                       \n",
    "        self.sideNumber = sideNumber\n",
    "    \n",
    "    def getSideLength(self):                                                                         \n",
    "        return self.sideLength\n",
    "    \n",
    "    def setSideLength(self,sideLength):                                                                     \n",
    "        self.sideLength = sideLength\n",
    "        \n",
    "    def getIntAngle(self):                                                                       \n",
    "        return 180 * (self.getSideNumber() - 2) / self.getSideNumber()\n",
    "    \n",
    "    def getPerimeter(self):                                                                      \n",
    "        return self.getSideLength() * self.getSideNumber()\n",
    "    \n",
    "    def getArea(self):                                                                          \n",
    "        return self.getSideNumber() * (self.getSideLength() **2) / (4 * math.tan(math.pi / self.getSideNumber())) \n",
    "    \n",
    "    def print_(self):\n",
    "        print(\"변의 개수 = \",self.getSideNumber())\n",
    "        print(\"변의 길이 = \",self.getSideLength())\n",
    "        print(\"내각 = \",self.getIntAngle(), \"도\")\n",
    "        print(\"둘레 = \",self.getPerimeter())\n",
    "        print(\"면적 = \",self.getArea())      "
   ]
  },
  {
   "cell_type": "code",
   "execution_count": 227,
   "id": "8bf22aba",
   "metadata": {},
   "outputs": [],
   "source": [
    "RegularPolygon?"
   ]
  },
  {
   "cell_type": "markdown",
   "id": "be97fedc",
   "metadata": {},
   "source": [
    "* (a) RegularPolygon(6, 3)을 사용하여 생성되는 객체에 대하여 변의 개수, 변의 길이, 내각의 크기, 둘레, 넓이를 차례대로 출력하시오. "
   ]
  },
  {
   "cell_type": "code",
   "execution_count": 122,
   "id": "2b6e6b4c",
   "metadata": {},
   "outputs": [
    {
     "name": "stdout",
     "output_type": "stream",
     "text": [
      "변의 개수 =  6\n",
      "변의 길이 =  3\n",
      "내각 =  120.0 도\n",
      "둘레 =  18\n",
      "면적 =  23.382685902179844\n"
     ]
    }
   ],
   "source": [
    "RegularPolygon(6,3).print_()"
   ]
  },
  {
   "cell_type": "markdown",
   "id": "417619ad",
   "metadata": {},
   "source": [
    "* (b) RegularPolygon(4) 객체에 대하여 위와 동일한 출력을 하시오."
   ]
  },
  {
   "cell_type": "code",
   "execution_count": 100,
   "id": "08cba277",
   "metadata": {},
   "outputs": [
    {
     "name": "stdout",
     "output_type": "stream",
     "text": [
      "변의 개수 =  4\n",
      "변의 길이 =  1.0\n",
      "내각 =  90.0 도\n",
      "둘레 =  4.0\n",
      "면적 =  1.0000000000000002\n"
     ]
    }
   ],
   "source": [
    "RegularPolygon(4).print_()"
   ]
  },
  {
   "cell_type": "markdown",
   "id": "a4c03e1e",
   "metadata": {},
   "source": [
    "* (c) RegularPolygon() 객체를 생성한 후, 변의 길이를 5로 지정하고 나서 위와 동일한 출력을 \n",
    "하시오."
   ]
  },
  {
   "cell_type": "code",
   "execution_count": 101,
   "id": "1da539ab",
   "metadata": {},
   "outputs": [],
   "source": [
    "RegularPolygon().setSideLength(5)"
   ]
  },
  {
   "cell_type": "code",
   "execution_count": 102,
   "id": "8ef5b988",
   "metadata": {},
   "outputs": [
    {
     "name": "stdout",
     "output_type": "stream",
     "text": [
      "변의 개수 =  3\n",
      "변의 길이 =  1.0\n",
      "내각 =  60.0 도\n",
      "둘레 =  3.0\n",
      "면적 =  0.43301270189221946\n"
     ]
    }
   ],
   "source": [
    "RegularPolygon().print_()"
   ]
  }
 ],
 "metadata": {
  "kernelspec": {
   "display_name": "Python 3",
   "language": "python",
   "name": "python3"
  },
  "language_info": {
   "codemirror_mode": {
    "name": "ipython",
    "version": 3
   },
   "file_extension": ".py",
   "mimetype": "text/x-python",
   "name": "python",
   "nbconvert_exporter": "python",
   "pygments_lexer": "ipython3",
   "version": "3.8.8"
  }
 },
 "nbformat": 4,
 "nbformat_minor": 5
}
