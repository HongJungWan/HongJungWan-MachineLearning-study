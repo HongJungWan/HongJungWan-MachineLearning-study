{
 "cells": [
  {
   "cell_type": "code",
   "execution_count": 1,
   "id": "90b354bc",
   "metadata": {},
   "outputs": [],
   "source": [
    "import numpy as np"
   ]
  },
  {
   "cell_type": "code",
   "execution_count": 2,
   "id": "8c4270c9",
   "metadata": {},
   "outputs": [],
   "source": [
    "a = np.array([1,2,3])"
   ]
  },
  {
   "cell_type": "code",
   "execution_count": 4,
   "id": "990c033f",
   "metadata": {},
   "outputs": [],
   "source": [
    "b = np.array([5,5,5]) #np.full 함수도 사용 가능"
   ]
  },
  {
   "cell_type": "code",
   "execution_count": 5,
   "id": "2a01239b",
   "metadata": {},
   "outputs": [
    {
     "data": {
      "text/plain": [
       "array([6, 7, 8])"
      ]
     },
     "execution_count": 5,
     "metadata": {},
     "output_type": "execute_result"
    }
   ],
   "source": [
    "a + b"
   ]
  },
  {
   "cell_type": "code",
   "execution_count": 6,
   "id": "3d8cca9a",
   "metadata": {},
   "outputs": [
    {
     "data": {
      "text/plain": [
       "array([ 4,  9, 16], dtype=int32)"
      ]
     },
     "execution_count": 6,
     "metadata": {},
     "output_type": "execute_result"
    }
   ],
   "source": [
    "(a+1)**2"
   ]
  },
  {
   "cell_type": "code",
   "execution_count": 7,
   "id": "e3cd84fc",
   "metadata": {},
   "outputs": [
    {
     "data": {
      "text/plain": [
       "array([ 2.71828183,  7.3890561 , 20.08553692])"
      ]
     },
     "execution_count": 7,
     "metadata": {},
     "output_type": "execute_result"
    }
   ],
   "source": [
    "np.exp(a)"
   ]
  },
  {
   "cell_type": "code",
   "execution_count": 8,
   "id": "aa985564",
   "metadata": {},
   "outputs": [],
   "source": [
    "np.random.seed(0)"
   ]
  },
  {
   "cell_type": "code",
   "execution_count": 9,
   "id": "72dd6aa1",
   "metadata": {},
   "outputs": [],
   "source": [
    "x=np.random.random(10)"
   ]
  },
  {
   "cell_type": "code",
   "execution_count": 10,
   "id": "a590d394",
   "metadata": {},
   "outputs": [
    {
     "data": {
      "text/plain": [
       "array([0.5488135 , 0.71518937, 0.60276338, 0.54488318, 0.4236548 ,\n",
       "       0.64589411, 0.43758721, 0.891773  , 0.96366276, 0.38344152])"
      ]
     },
     "execution_count": 10,
     "metadata": {},
     "output_type": "execute_result"
    }
   ],
   "source": [
    "x"
   ]
  },
  {
   "cell_type": "code",
   "execution_count": 11,
   "id": "09b0b813",
   "metadata": {},
   "outputs": [
    {
     "data": {
      "text/plain": [
       "6.157662833145425"
      ]
     },
     "execution_count": 11,
     "metadata": {},
     "output_type": "execute_result"
    }
   ],
   "source": [
    "sum(x)"
   ]
  },
  {
   "cell_type": "code",
   "execution_count": 12,
   "id": "bcbe6bfa",
   "metadata": {},
   "outputs": [
    {
     "data": {
      "text/plain": [
       "6.157662833145425"
      ]
     },
     "execution_count": 12,
     "metadata": {},
     "output_type": "execute_result"
    }
   ],
   "source": [
    "np.sum(x) # 아래와 같음"
   ]
  },
  {
   "cell_type": "code",
   "execution_count": 18,
   "id": "f5b674ab",
   "metadata": {},
   "outputs": [
    {
     "data": {
      "text/plain": [
       "6.157662833145425"
      ]
     },
     "execution_count": 18,
     "metadata": {},
     "output_type": "execute_result"
    }
   ],
   "source": [
    "x.sum() # 위와 같음"
   ]
  },
  {
   "cell_type": "markdown",
   "id": "fafe9f8b",
   "metadata": {},
   "source": [
    "#### 매직명령어"
   ]
  },
  {
   "cell_type": "code",
   "execution_count": 13,
   "id": "d71c2c88",
   "metadata": {},
   "outputs": [
    {
     "name": "stdout",
     "output_type": "stream",
     "text": [
      "Wall time: 1 ms\n"
     ]
    },
    {
     "data": {
      "text/plain": [
       "4962.657988754934"
      ]
     },
     "execution_count": 13,
     "metadata": {},
     "output_type": "execute_result"
    }
   ],
   "source": [
    "%time sum(np.random.random(10000))"
   ]
  },
  {
   "cell_type": "code",
   "execution_count": 15,
   "id": "808659ea",
   "metadata": {},
   "outputs": [
    {
     "name": "stdout",
     "output_type": "stream",
     "text": [
      "607 µs ± 1.05 µs per loop (mean ± std. dev. of 7 runs, 1000 loops each)\n"
     ]
    }
   ],
   "source": [
    "%timeit sum(np.random.random(10000))"
   ]
  },
  {
   "cell_type": "code",
   "execution_count": 17,
   "id": "d78c214e",
   "metadata": {},
   "outputs": [
    {
     "name": "stdout",
     "output_type": "stream",
     "text": [
      "45.4 µs ± 62.1 ns per loop (mean ± std. dev. of 7 runs, 10000 loops each)\n"
     ]
    }
   ],
   "source": [
    "%timeit np.sum(np.random.random(10000))"
   ]
  },
  {
   "cell_type": "code",
   "execution_count": 19,
   "id": "55640e8f",
   "metadata": {},
   "outputs": [],
   "source": [
    "y = np.array([[1,2],[3,4]])"
   ]
  },
  {
   "cell_type": "code",
   "execution_count": 20,
   "id": "6f7de7a0",
   "metadata": {},
   "outputs": [
    {
     "data": {
      "text/plain": [
       "array([[1, 2],\n",
       "       [3, 4]])"
      ]
     },
     "execution_count": 20,
     "metadata": {},
     "output_type": "execute_result"
    }
   ],
   "source": [
    "y"
   ]
  },
  {
   "cell_type": "code",
   "execution_count": 21,
   "id": "037e22fe",
   "metadata": {},
   "outputs": [
    {
     "data": {
      "text/plain": [
       "10"
      ]
     },
     "execution_count": 21,
     "metadata": {},
     "output_type": "execute_result"
    }
   ],
   "source": [
    "np.sum(y)"
   ]
  },
  {
   "cell_type": "code",
   "execution_count": 23,
   "id": "26a335d9",
   "metadata": {},
   "outputs": [
    {
     "data": {
      "text/plain": [
       "array([4, 6])"
      ]
     },
     "execution_count": 23,
     "metadata": {},
     "output_type": "execute_result"
    }
   ],
   "source": [
    "np.sum(y, axis = 0) # 각 열의 합(column sum)"
   ]
  },
  {
   "cell_type": "code",
   "execution_count": 24,
   "id": "d04892fd",
   "metadata": {},
   "outputs": [
    {
     "data": {
      "text/plain": [
       "array([3, 7])"
      ]
     },
     "execution_count": 24,
     "metadata": {},
     "output_type": "execute_result"
    }
   ],
   "source": [
    "np.sum(y, axis = 1) # 각 행의 합(low sum)"
   ]
  },
  {
   "cell_type": "code",
   "execution_count": 28,
   "id": "7157915d",
   "metadata": {},
   "outputs": [],
   "source": [
    "t = np.array([5,2,8,5,1], dtype=np.float64)"
   ]
  },
  {
   "cell_type": "code",
   "execution_count": 26,
   "id": "2f2c6482",
   "metadata": {},
   "outputs": [
    {
     "data": {
      "text/plain": [
       "8"
      ]
     },
     "execution_count": 26,
     "metadata": {},
     "output_type": "execute_result"
    }
   ],
   "source": [
    "np.max(t)"
   ]
  },
  {
   "cell_type": "code",
   "execution_count": 27,
   "id": "cb0a010d",
   "metadata": {},
   "outputs": [
    {
     "data": {
      "text/plain": [
       "2"
      ]
     },
     "execution_count": 27,
     "metadata": {},
     "output_type": "execute_result"
    }
   ],
   "source": [
    "np.argmax(t) # 최대 값 인덱스"
   ]
  },
  {
   "cell_type": "code",
   "execution_count": 32,
   "id": "8364ff70",
   "metadata": {},
   "outputs": [],
   "source": [
    "t[0] = np.NaN #  일종의 NULL 값, Not a Number"
   ]
  },
  {
   "cell_type": "code",
   "execution_count": 33,
   "id": "2664f55b",
   "metadata": {},
   "outputs": [
    {
     "data": {
      "text/plain": [
       "array([nan,  2.,  8.,  5.,  1.])"
      ]
     },
     "execution_count": 33,
     "metadata": {},
     "output_type": "execute_result"
    }
   ],
   "source": [
    "t"
   ]
  },
  {
   "cell_type": "code",
   "execution_count": 34,
   "id": "109bb857",
   "metadata": {},
   "outputs": [
    {
     "data": {
      "text/plain": [
       "nan"
      ]
     },
     "execution_count": 34,
     "metadata": {},
     "output_type": "execute_result"
    }
   ],
   "source": [
    "np.sum(t)"
   ]
  },
  {
   "cell_type": "code",
   "execution_count": 35,
   "id": "c43c95b6",
   "metadata": {},
   "outputs": [
    {
     "data": {
      "text/plain": [
       "16.0"
      ]
     },
     "execution_count": 35,
     "metadata": {},
     "output_type": "execute_result"
    }
   ],
   "source": [
    "np.nansum(t)"
   ]
  },
  {
   "cell_type": "code",
   "execution_count": 36,
   "id": "b138dc6b",
   "metadata": {},
   "outputs": [],
   "source": [
    "x = np.array([4,2,6,7,3.3])"
   ]
  },
  {
   "cell_type": "code",
   "execution_count": 37,
   "id": "b85c78aa",
   "metadata": {},
   "outputs": [],
   "source": [
    "z = (x - np.mean(x)) / np.std(x) # 여기부터 ?"
   ]
  },
  {
   "cell_type": "code",
   "execution_count": 38,
   "id": "0cce1fce",
   "metadata": {},
   "outputs": [
    {
     "data": {
      "text/plain": [
       "array([-0.25374507, -1.35698453,  0.84949438,  1.40111411, -0.63987888])"
      ]
     },
     "execution_count": 38,
     "metadata": {},
     "output_type": "execute_result"
    }
   ],
   "source": [
    "z"
   ]
  },
  {
   "cell_type": "code",
   "execution_count": 39,
   "id": "ddeb84de",
   "metadata": {},
   "outputs": [
    {
     "data": {
      "text/plain": [
       "-4.4408920985006264e-17"
      ]
     },
     "execution_count": 39,
     "metadata": {},
     "output_type": "execute_result"
    }
   ],
   "source": [
    "z.mean()"
   ]
  },
  {
   "cell_type": "code",
   "execution_count": 40,
   "id": "29c9fa29",
   "metadata": {},
   "outputs": [
    {
     "data": {
      "text/plain": [
       "1.0"
      ]
     },
     "execution_count": 40,
     "metadata": {},
     "output_type": "execute_result"
    }
   ],
   "source": [
    "z.std()"
   ]
  },
  {
   "cell_type": "code",
   "execution_count": 41,
   "id": "48c3a8be",
   "metadata": {},
   "outputs": [],
   "source": [
    "X = np.random.randint(0,100,(10,2))"
   ]
  },
  {
   "cell_type": "code",
   "execution_count": 42,
   "id": "c52642c2",
   "metadata": {},
   "outputs": [
    {
     "data": {
      "text/plain": [
       "array([[20, 80],\n",
       "       [75, 97],\n",
       "       [ 8, 54],\n",
       "       [47, 70],\n",
       "       [10, 34],\n",
       "       [15, 83],\n",
       "       [94, 47],\n",
       "       [55, 18],\n",
       "       [54, 51],\n",
       "       [13, 42]])"
      ]
     },
     "execution_count": 42,
     "metadata": {},
     "output_type": "execute_result"
    }
   ],
   "source": [
    "X"
   ]
  },
  {
   "cell_type": "code",
   "execution_count": 43,
   "id": "7dd4e8a2",
   "metadata": {},
   "outputs": [],
   "source": [
    "avgs = np.mean(X, axis=0)"
   ]
  },
  {
   "cell_type": "code",
   "execution_count": 44,
   "id": "0f0595ac",
   "metadata": {},
   "outputs": [
    {
     "data": {
      "text/plain": [
       "array([39.1, 57.6])"
      ]
     },
     "execution_count": 44,
     "metadata": {},
     "output_type": "execute_result"
    }
   ],
   "source": [
    "avgs"
   ]
  },
  {
   "cell_type": "code",
   "execution_count": 45,
   "id": "b654e701",
   "metadata": {},
   "outputs": [],
   "source": [
    "sds = np.std(X, axis=0)"
   ]
  },
  {
   "cell_type": "code",
   "execution_count": 46,
   "id": "41a6e98c",
   "metadata": {},
   "outputs": [
    {
     "data": {
      "text/plain": [
       "array([28.77655296, 23.21723498])"
      ]
     },
     "execution_count": 46,
     "metadata": {},
     "output_type": "execute_result"
    }
   ],
   "source": [
    "sds"
   ]
  },
  {
   "cell_type": "code",
   "execution_count": 47,
   "id": "320cbf7d",
   "metadata": {},
   "outputs": [],
   "source": [
    "Z = (X-avgs)/sds"
   ]
  },
  {
   "cell_type": "code",
   "execution_count": 48,
   "id": "7cb4d130",
   "metadata": {},
   "outputs": [
    {
     "data": {
      "text/plain": [
       "array([[-0.66373481,  0.9648005 ],\n",
       "       [ 1.24754344,  1.69701517],\n",
       "       [-1.08074098, -0.15505722],\n",
       "       [ 0.27452906,  0.53408599],\n",
       "       [-1.01123995, -1.01648624],\n",
       "       [-0.83748738,  1.09401486],\n",
       "       [ 1.90780321, -0.45655738],\n",
       "       [ 0.55253317, -1.70562946],\n",
       "       [ 0.51778266, -0.28427158],\n",
       "       [-0.90698841, -0.67191464]])"
      ]
     },
     "execution_count": 48,
     "metadata": {},
     "output_type": "execute_result"
    }
   ],
   "source": [
    "Z"
   ]
  },
  {
   "cell_type": "code",
   "execution_count": 49,
   "id": "ec6fc825",
   "metadata": {},
   "outputs": [],
   "source": [
    "x = np.arange(7)"
   ]
  },
  {
   "cell_type": "code",
   "execution_count": 50,
   "id": "ead7c5da",
   "metadata": {},
   "outputs": [
    {
     "data": {
      "text/plain": [
       "array([0, 1, 2, 3, 4, 5, 6])"
      ]
     },
     "execution_count": 50,
     "metadata": {},
     "output_type": "execute_result"
    }
   ],
   "source": [
    "x"
   ]
  },
  {
   "cell_type": "code",
   "execution_count": 51,
   "id": "60eba898",
   "metadata": {},
   "outputs": [
    {
     "data": {
      "text/plain": [
       "array([ True,  True,  True, False, False, False, False])"
      ]
     },
     "execution_count": 51,
     "metadata": {},
     "output_type": "execute_result"
    }
   ],
   "source": [
    "x < 3"
   ]
  },
  {
   "cell_type": "code",
   "execution_count": 52,
   "id": "e4d648d4",
   "metadata": {},
   "outputs": [
    {
     "data": {
      "text/plain": [
       "array([1, 1, 1, 0, 0, 0, 0])"
      ]
     },
     "execution_count": 52,
     "metadata": {},
     "output_type": "execute_result"
    }
   ],
   "source": [
    "np.where(x<3,1,0)"
   ]
  },
  {
   "cell_type": "code",
   "execution_count": 55,
   "id": "f4e461ae",
   "metadata": {},
   "outputs": [
    {
     "data": {
      "text/plain": [
       "array([0, 1, 2])"
      ]
     },
     "execution_count": 55,
     "metadata": {},
     "output_type": "execute_result"
    }
   ],
   "source": [
    "x[x<3] # 부울 마스킹"
   ]
  },
  {
   "cell_type": "code",
   "execution_count": 56,
   "id": "716967eb",
   "metadata": {},
   "outputs": [],
   "source": [
    "a = np.array([[0,1],[2,3]])"
   ]
  },
  {
   "cell_type": "code",
   "execution_count": 57,
   "id": "25dd615b",
   "metadata": {},
   "outputs": [],
   "source": [
    "b = np.array([[1,1],[4,0]])"
   ]
  },
  {
   "cell_type": "code",
   "execution_count": 58,
   "id": "6fc439b8",
   "metadata": {},
   "outputs": [
    {
     "data": {
      "text/plain": [
       "array([[0, 1],\n",
       "       [2, 3]])"
      ]
     },
     "execution_count": 58,
     "metadata": {},
     "output_type": "execute_result"
    }
   ],
   "source": [
    "a"
   ]
  },
  {
   "cell_type": "code",
   "execution_count": 59,
   "id": "ab7e9cb0",
   "metadata": {},
   "outputs": [
    {
     "data": {
      "text/plain": [
       "array([[1, 1],\n",
       "       [4, 0]])"
      ]
     },
     "execution_count": 59,
     "metadata": {},
     "output_type": "execute_result"
    }
   ],
   "source": [
    "b"
   ]
  },
  {
   "cell_type": "code",
   "execution_count": 60,
   "id": "2b35a797",
   "metadata": {},
   "outputs": [
    {
     "data": {
      "text/plain": [
       "array([[ 4,  0],\n",
       "       [14,  2]])"
      ]
     },
     "execution_count": 60,
     "metadata": {},
     "output_type": "execute_result"
    }
   ],
   "source": [
    "a @ b # 행렬 곱"
   ]
  },
  {
   "cell_type": "code",
   "execution_count": 61,
   "id": "540b9207",
   "metadata": {},
   "outputs": [
    {
     "data": {
      "text/plain": [
       "array([[ 4,  0],\n",
       "       [14,  2]])"
      ]
     },
     "execution_count": 61,
     "metadata": {},
     "output_type": "execute_result"
    }
   ],
   "source": [
    "np.dot(a,b)"
   ]
  },
  {
   "cell_type": "code",
   "execution_count": null,
   "id": "3fa79262",
   "metadata": {},
   "outputs": [],
   "source": []
  }
 ],
 "metadata": {
  "kernelspec": {
   "display_name": "Python 3",
   "language": "python",
   "name": "python3"
  },
  "language_info": {
   "codemirror_mode": {
    "name": "ipython",
    "version": 3
   },
   "file_extension": ".py",
   "mimetype": "text/x-python",
   "name": "python",
   "nbconvert_exporter": "python",
   "pygments_lexer": "ipython3",
   "version": "3.8.8"
  }
 },
 "nbformat": 4,
 "nbformat_minor": 5
}
