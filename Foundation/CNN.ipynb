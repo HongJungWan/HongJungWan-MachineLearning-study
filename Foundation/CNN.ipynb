{
 "cells": [
  {
   "cell_type": "code",
   "execution_count": 8,
   "id": "edd0617e",
   "metadata": {},
   "outputs": [],
   "source": [
    "#211206"
   ]
  },
  {
   "cell_type": "code",
   "execution_count": 9,
   "id": "33be8b90",
   "metadata": {},
   "outputs": [],
   "source": [
    "import tensorflow_datasets as tfds\n",
    "import numpy as np\n",
    "import pandas as pd\n",
    "import tensorflow as tf"
   ]
  },
  {
   "cell_type": "code",
   "execution_count": 10,
   "id": "ea01bfbe",
   "metadata": {},
   "outputs": [],
   "source": [
    "mnist_builder=tfds.builder('mnist')\n",
    "mnist_builder.download_and_prepare()\n",
    "datasets=mnist_builder.as_dataset(shuffle_files=False)"
   ]
  },
  {
   "cell_type": "code",
   "execution_count": 11,
   "id": "c0d6f494",
   "metadata": {},
   "outputs": [
    {
     "data": {
      "text/plain": [
       "{'train': <PrefetchDataset shapes: {image: (28, 28, 1), label: ()}, types: {image: tf.uint8, label: tf.int64}>,\n",
       " 'test': <PrefetchDataset shapes: {image: (28, 28, 1), label: ()}, types: {image: tf.uint8, label: tf.int64}>}"
      ]
     },
     "execution_count": 11,
     "metadata": {},
     "output_type": "execute_result"
    }
   ],
   "source": [
    "datasets"
   ]
  },
  {
   "cell_type": "code",
   "execution_count": 15,
   "id": "a1063905",
   "metadata": {},
   "outputs": [],
   "source": [
    "mnist_train_orig=datasets['train']\n",
    "mnist_test_orig=datasets['test']"
   ]
  },
  {
   "cell_type": "code",
   "execution_count": 18,
   "id": "a034f60b",
   "metadata": {},
   "outputs": [
    {
     "data": {
      "text/plain": [
       "<PrefetchDataset shapes: {image: (28, 28, 1), label: ()}, types: {image: tf.uint8, label: tf.int64}>"
      ]
     },
     "execution_count": 18,
     "metadata": {},
     "output_type": "execute_result"
    }
   ],
   "source": [
    "mnist_test_orig"
   ]
  },
  {
   "cell_type": "code",
   "execution_count": 20,
   "id": "1891df38",
   "metadata": {},
   "outputs": [],
   "source": [
    "BUFFER_SIZE=10000\n",
    "BATCH_SIZE=64\n",
    "tf.random.set_seed(1)\n",
    "mnist_train=mnist_train.shuffle(buffer_size=BUFFER_SIZE,reshuffle_each_iteration=False)\n",
    "mnist_valid=mnist_train.take(10000).batch(BATCH_SIZE)\n",
    "mnist_train=mnist_train.skip(10000).batch(BATCH_SIZE)"
   ]
  },
  {
   "cell_type": "code",
   "execution_count": 21,
   "id": "3bc8d329",
   "metadata": {},
   "outputs": [],
   "source": [
    "cnn=tf.keras.Sequential()\n",
    "cnn.add(tf.keras.layers.Conv2D(filters=32,kernel_size=(5,5),strides=(1,1),padding='same',data_format='channels_last',name='conv_1',activation='relu'))\n",
    "cnn.add(tf.keras.layers.MaxPool2D(pool_size=(2,2),name='pool_1'))\n",
    "cnn.add(tf.keras.layers.Conv2D(filters=64,kernel_size=(5,5),strides=(1,1),padding='same',name='conv_2',activation='relu'))\n",
    "cnn.add(tf.keras.layers.MaxPool2D(pool_size=(2,2),name='pool_2'))\n",
    "\n",
    "cnn.add(tf.keras.layers.Flatten()) \n",
    "cnn.add(tf.keras.layers.Dense(units=1024,name='fc_1',activation='relu')) \n",
    "cnn.add(tf.keras.layers.Dropout(rate=0.5)) \n",
    "cnn.add(tf.keras.layers.Dense(units=10,name='fc_2',activation='softmax')) "
   ]
  },
  {
   "cell_type": "code",
   "execution_count": 22,
   "id": "4a9489a8",
   "metadata": {},
   "outputs": [],
   "source": [
    "cnn.build(input_shape=(None,28,28,1))"
   ]
  },
  {
   "cell_type": "code",
   "execution_count": 23,
   "id": "a522fee5",
   "metadata": {},
   "outputs": [
    {
     "name": "stdout",
     "output_type": "stream",
     "text": [
      "Model: \"sequential\"\n",
      "_________________________________________________________________\n",
      "Layer (type)                 Output Shape              Param #   \n",
      "=================================================================\n",
      "conv_1 (Conv2D)              (None, 28, 28, 32)        832       \n",
      "_________________________________________________________________\n",
      "pool_1 (MaxPooling2D)        (None, 14, 14, 32)        0         \n",
      "_________________________________________________________________\n",
      "conv_2 (Conv2D)              (None, 14, 14, 64)        51264     \n",
      "_________________________________________________________________\n",
      "pool_2 (MaxPooling2D)        (None, 7, 7, 64)          0         \n",
      "_________________________________________________________________\n",
      "flatten (Flatten)            (None, 3136)              0         \n",
      "_________________________________________________________________\n",
      "fc_1 (Dense)                 (None, 1024)              3212288   \n",
      "_________________________________________________________________\n",
      "dropout (Dropout)            (None, 1024)              0         \n",
      "_________________________________________________________________\n",
      "fc_2 (Dense)                 (None, 10)                10250     \n",
      "=================================================================\n",
      "Total params: 3,274,634\n",
      "Trainable params: 3,274,634\n",
      "Non-trainable params: 0\n",
      "_________________________________________________________________\n"
     ]
    }
   ],
   "source": [
    "cnn.summary()"
   ]
  },
  {
   "cell_type": "code",
   "execution_count": null,
   "id": "332bf1ef",
   "metadata": {},
   "outputs": [],
   "source": []
  }
 ],
 "metadata": {
  "kernelspec": {
   "display_name": "Python 3",
   "language": "python",
   "name": "python3"
  },
  "language_info": {
   "codemirror_mode": {
    "name": "ipython",
    "version": 3
   },
   "file_extension": ".py",
   "mimetype": "text/x-python",
   "name": "python",
   "nbconvert_exporter": "python",
   "pygments_lexer": "ipython3",
   "version": "3.8.8"
  }
 },
 "nbformat": 4,
 "nbformat_minor": 5
}
