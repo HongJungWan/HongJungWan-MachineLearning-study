{
 "cells": [
  {
   "cell_type": "markdown",
   "id": "e40c0966",
   "metadata": {},
   "source": [
    "# 회귀"
   ]
  },
  {
   "cell_type": "code",
   "execution_count": 2,
   "id": "df03a74c",
   "metadata": {},
   "outputs": [],
   "source": [
    "import numpy as np\n",
    "import pandas as pd\n",
    "import matplotlib.pyplot as plt"
   ]
  },
  {
   "cell_type": "markdown",
   "id": "9416486e",
   "metadata": {},
   "source": [
    "#### 1) 파일을 읽어 데이터프레임을 생성하고 처음 3개의 샘플을 출력하시오. 특성의 개수와 샘플(관측치)의 개수를 구하고 결측치가 있는지 알아보시오. 수치형 특성과 범주형 특성은 무엇인지 파악하시오."
   ]
  },
  {
   "cell_type": "code",
   "execution_count": 3,
   "id": "a6f2864c",
   "metadata": {},
   "outputs": [
    {
     "name": "stdout",
     "output_type": "stream",
     "text": [
      ",Income,Limit,Rating,Cards,Age,Education,Gender,Student,Married,Ethnicity,Balance\n",
      "\n",
      "1,14.891,3606,283,2,34,11,Male,No,Yes,Caucasian,333\n",
      "\n",
      "2,106.025,6645,483,3,82,15,Female,Yes,Yes,Asian,903\n",
      "\n"
     ]
    }
   ],
   "source": [
    "# 방법 1\n",
    "with open('HW3.csv') as f:\n",
    "    for _ in range(3):\n",
    "        print(f.readline())"
   ]
  },
  {
   "cell_type": "code",
   "execution_count": 4,
   "id": "87f497fe",
   "metadata": {},
   "outputs": [],
   "source": [
    "# 방법 2\n",
    "df = pd.read_csv('HW3.csv', index_col=0)"
   ]
  },
  {
   "cell_type": "code",
   "execution_count": 5,
   "id": "527412a0",
   "metadata": {},
   "outputs": [
    {
     "data": {
      "text/html": [
       "<div>\n",
       "<style scoped>\n",
       "    .dataframe tbody tr th:only-of-type {\n",
       "        vertical-align: middle;\n",
       "    }\n",
       "\n",
       "    .dataframe tbody tr th {\n",
       "        vertical-align: top;\n",
       "    }\n",
       "\n",
       "    .dataframe thead th {\n",
       "        text-align: right;\n",
       "    }\n",
       "</style>\n",
       "<table border=\"1\" class=\"dataframe\">\n",
       "  <thead>\n",
       "    <tr style=\"text-align: right;\">\n",
       "      <th></th>\n",
       "      <th>Income</th>\n",
       "      <th>Limit</th>\n",
       "      <th>Rating</th>\n",
       "      <th>Cards</th>\n",
       "      <th>Age</th>\n",
       "      <th>Education</th>\n",
       "      <th>Gender</th>\n",
       "      <th>Student</th>\n",
       "      <th>Married</th>\n",
       "      <th>Ethnicity</th>\n",
       "      <th>Balance</th>\n",
       "    </tr>\n",
       "  </thead>\n",
       "  <tbody>\n",
       "    <tr>\n",
       "      <th>1</th>\n",
       "      <td>14.891</td>\n",
       "      <td>3606</td>\n",
       "      <td>283</td>\n",
       "      <td>2</td>\n",
       "      <td>34</td>\n",
       "      <td>11</td>\n",
       "      <td>Male</td>\n",
       "      <td>No</td>\n",
       "      <td>Yes</td>\n",
       "      <td>Caucasian</td>\n",
       "      <td>333</td>\n",
       "    </tr>\n",
       "    <tr>\n",
       "      <th>2</th>\n",
       "      <td>106.025</td>\n",
       "      <td>6645</td>\n",
       "      <td>483</td>\n",
       "      <td>3</td>\n",
       "      <td>82</td>\n",
       "      <td>15</td>\n",
       "      <td>Female</td>\n",
       "      <td>Yes</td>\n",
       "      <td>Yes</td>\n",
       "      <td>Asian</td>\n",
       "      <td>903</td>\n",
       "    </tr>\n",
       "    <tr>\n",
       "      <th>3</th>\n",
       "      <td>104.593</td>\n",
       "      <td>7075</td>\n",
       "      <td>514</td>\n",
       "      <td>4</td>\n",
       "      <td>71</td>\n",
       "      <td>11</td>\n",
       "      <td>Male</td>\n",
       "      <td>No</td>\n",
       "      <td>No</td>\n",
       "      <td>Asian</td>\n",
       "      <td>580</td>\n",
       "    </tr>\n",
       "  </tbody>\n",
       "</table>\n",
       "</div>"
      ],
      "text/plain": [
       "    Income  Limit  Rating  Cards  Age  Education  Gender Student Married  \\\n",
       "1   14.891   3606     283      2   34         11    Male      No     Yes   \n",
       "2  106.025   6645     483      3   82         15  Female     Yes     Yes   \n",
       "3  104.593   7075     514      4   71         11    Male      No      No   \n",
       "\n",
       "   Ethnicity  Balance  \n",
       "1  Caucasian      333  \n",
       "2      Asian      903  \n",
       "3      Asian      580  "
      ]
     },
     "execution_count": 5,
     "metadata": {},
     "output_type": "execute_result"
    }
   ],
   "source": [
    "df.head(3)"
   ]
  },
  {
   "cell_type": "code",
   "execution_count": 6,
   "id": "8e3b7c36",
   "metadata": {},
   "outputs": [
    {
     "name": "stdout",
     "output_type": "stream",
     "text": [
      "<class 'pandas.core.frame.DataFrame'>\n",
      "Int64Index: 400 entries, 1 to 400\n",
      "Data columns (total 11 columns):\n",
      " #   Column     Non-Null Count  Dtype  \n",
      "---  ------     --------------  -----  \n",
      " 0   Income     400 non-null    float64\n",
      " 1   Limit      400 non-null    int64  \n",
      " 2   Rating     400 non-null    int64  \n",
      " 3   Cards      400 non-null    int64  \n",
      " 4   Age        400 non-null    int64  \n",
      " 5   Education  400 non-null    int64  \n",
      " 6   Gender     400 non-null    object \n",
      " 7   Student    400 non-null    object \n",
      " 8   Married    400 non-null    object \n",
      " 9   Ethnicity  400 non-null    object \n",
      " 10  Balance    400 non-null    int64  \n",
      "dtypes: float64(1), int64(6), object(4)\n",
      "memory usage: 37.5+ KB\n"
     ]
    }
   ],
   "source": [
    "df.info() # 샘플 개수 400개"
   ]
  },
  {
   "cell_type": "code",
   "execution_count": 7,
   "id": "738675ba",
   "metadata": {},
   "outputs": [
    {
     "data": {
      "text/plain": [
       "Income       0\n",
       "Limit        0\n",
       "Rating       0\n",
       "Cards        0\n",
       "Age          0\n",
       "Education    0\n",
       "Gender       0\n",
       "Student      0\n",
       "Married      0\n",
       "Ethnicity    0\n",
       "Balance      0\n",
       "dtype: int64"
      ]
     },
     "execution_count": 7,
     "metadata": {},
     "output_type": "execute_result"
    }
   ],
   "source": [
    "df.isnull().sum() # 결측치 없음"
   ]
  },
  {
   "cell_type": "code",
   "execution_count": 8,
   "id": "29d8dd3a",
   "metadata": {},
   "outputs": [
    {
     "data": {
      "text/plain": [
       "Index(['Income', 'Limit', 'Rating', 'Cards', 'Age', 'Education', 'Gender',\n",
       "       'Student', 'Married', 'Ethnicity', 'Balance'],\n",
       "      dtype='object')"
      ]
     },
     "execution_count": 8,
     "metadata": {},
     "output_type": "execute_result"
    }
   ],
   "source": [
    "df.columns # 특성 수 10개"
   ]
  },
  {
   "cell_type": "code",
   "execution_count": 9,
   "id": "87cb03fe",
   "metadata": {},
   "outputs": [
    {
     "data": {
      "text/html": [
       "<div>\n",
       "<style scoped>\n",
       "    .dataframe tbody tr th:only-of-type {\n",
       "        vertical-align: middle;\n",
       "    }\n",
       "\n",
       "    .dataframe tbody tr th {\n",
       "        vertical-align: top;\n",
       "    }\n",
       "\n",
       "    .dataframe thead th {\n",
       "        text-align: right;\n",
       "    }\n",
       "</style>\n",
       "<table border=\"1\" class=\"dataframe\">\n",
       "  <thead>\n",
       "    <tr style=\"text-align: right;\">\n",
       "      <th></th>\n",
       "      <th>Income</th>\n",
       "      <th>Limit</th>\n",
       "      <th>Rating</th>\n",
       "      <th>Cards</th>\n",
       "      <th>Age</th>\n",
       "      <th>Education</th>\n",
       "      <th>Balance</th>\n",
       "    </tr>\n",
       "  </thead>\n",
       "  <tbody>\n",
       "    <tr>\n",
       "      <th>count</th>\n",
       "      <td>400.000000</td>\n",
       "      <td>400.000000</td>\n",
       "      <td>400.000000</td>\n",
       "      <td>400.000000</td>\n",
       "      <td>400.000000</td>\n",
       "      <td>400.000000</td>\n",
       "      <td>400.000000</td>\n",
       "    </tr>\n",
       "    <tr>\n",
       "      <th>mean</th>\n",
       "      <td>45.218885</td>\n",
       "      <td>4735.600000</td>\n",
       "      <td>354.940000</td>\n",
       "      <td>2.957500</td>\n",
       "      <td>55.667500</td>\n",
       "      <td>13.450000</td>\n",
       "      <td>520.015000</td>\n",
       "    </tr>\n",
       "    <tr>\n",
       "      <th>std</th>\n",
       "      <td>35.244273</td>\n",
       "      <td>2308.198848</td>\n",
       "      <td>154.724143</td>\n",
       "      <td>1.371275</td>\n",
       "      <td>17.249807</td>\n",
       "      <td>3.125207</td>\n",
       "      <td>459.758877</td>\n",
       "    </tr>\n",
       "    <tr>\n",
       "      <th>min</th>\n",
       "      <td>10.354000</td>\n",
       "      <td>855.000000</td>\n",
       "      <td>93.000000</td>\n",
       "      <td>1.000000</td>\n",
       "      <td>23.000000</td>\n",
       "      <td>5.000000</td>\n",
       "      <td>0.000000</td>\n",
       "    </tr>\n",
       "    <tr>\n",
       "      <th>25%</th>\n",
       "      <td>21.007250</td>\n",
       "      <td>3088.000000</td>\n",
       "      <td>247.250000</td>\n",
       "      <td>2.000000</td>\n",
       "      <td>41.750000</td>\n",
       "      <td>11.000000</td>\n",
       "      <td>68.750000</td>\n",
       "    </tr>\n",
       "    <tr>\n",
       "      <th>50%</th>\n",
       "      <td>33.115500</td>\n",
       "      <td>4622.500000</td>\n",
       "      <td>344.000000</td>\n",
       "      <td>3.000000</td>\n",
       "      <td>56.000000</td>\n",
       "      <td>14.000000</td>\n",
       "      <td>459.500000</td>\n",
       "    </tr>\n",
       "    <tr>\n",
       "      <th>75%</th>\n",
       "      <td>57.470750</td>\n",
       "      <td>5872.750000</td>\n",
       "      <td>437.250000</td>\n",
       "      <td>4.000000</td>\n",
       "      <td>70.000000</td>\n",
       "      <td>16.000000</td>\n",
       "      <td>863.000000</td>\n",
       "    </tr>\n",
       "    <tr>\n",
       "      <th>max</th>\n",
       "      <td>186.634000</td>\n",
       "      <td>13913.000000</td>\n",
       "      <td>982.000000</td>\n",
       "      <td>9.000000</td>\n",
       "      <td>98.000000</td>\n",
       "      <td>20.000000</td>\n",
       "      <td>1999.000000</td>\n",
       "    </tr>\n",
       "  </tbody>\n",
       "</table>\n",
       "</div>"
      ],
      "text/plain": [
       "           Income         Limit      Rating       Cards         Age  \\\n",
       "count  400.000000    400.000000  400.000000  400.000000  400.000000   \n",
       "mean    45.218885   4735.600000  354.940000    2.957500   55.667500   \n",
       "std     35.244273   2308.198848  154.724143    1.371275   17.249807   \n",
       "min     10.354000    855.000000   93.000000    1.000000   23.000000   \n",
       "25%     21.007250   3088.000000  247.250000    2.000000   41.750000   \n",
       "50%     33.115500   4622.500000  344.000000    3.000000   56.000000   \n",
       "75%     57.470750   5872.750000  437.250000    4.000000   70.000000   \n",
       "max    186.634000  13913.000000  982.000000    9.000000   98.000000   \n",
       "\n",
       "        Education      Balance  \n",
       "count  400.000000   400.000000  \n",
       "mean    13.450000   520.015000  \n",
       "std      3.125207   459.758877  \n",
       "min      5.000000     0.000000  \n",
       "25%     11.000000    68.750000  \n",
       "50%     14.000000   459.500000  \n",
       "75%     16.000000   863.000000  \n",
       "max     20.000000  1999.000000  "
      ]
     },
     "execution_count": 9,
     "metadata": {},
     "output_type": "execute_result"
    }
   ],
   "source": [
    "df.describe() # 수치형 특성 : Income, Limit, Rating, Cards, Age, Education, Balance"
   ]
  },
  {
   "cell_type": "markdown",
   "id": "3b2e85fb",
   "metadata": {},
   "source": [
    "#### 범주형 특성 : Gender, Student, Married, Ethnicity\n",
    "* 특성의 개수는 10개, 관측치는 400개 이며 결측치는 없다.\n",
    "* 수치형 특성 : Income, Limit, Rating, Cards, Age, Education\n",
    "* 범주형 특성 : Gender, Student, Married, Ethnicity"
   ]
  },
  {
   "cell_type": "code",
   "execution_count": 10,
   "id": "e64ee520",
   "metadata": {},
   "outputs": [
    {
     "data": {
      "text/plain": [
       "['Income',\n",
       " 'Limit',\n",
       " 'Rating',\n",
       " 'Cards',\n",
       " 'Age',\n",
       " 'Education',\n",
       " 'Gender',\n",
       " 'Student',\n",
       " 'Married',\n",
       " 'Ethnicity']"
      ]
     },
     "execution_count": 10,
     "metadata": {},
     "output_type": "execute_result"
    }
   ],
   "source": [
    "# 특성 다 뽑는법\n",
    "feat = [name for name in df.columns if name != 'Balance'] # Balance가 레이블인가\n",
    "feat"
   ]
  },
  {
   "cell_type": "code",
   "execution_count": 11,
   "id": "be0c15a9",
   "metadata": {},
   "outputs": [
    {
     "data": {
      "text/plain": [
       "['Gender', 'Student', 'Married', 'Ethnicity']"
      ]
     },
     "execution_count": 11,
     "metadata": {},
     "output_type": "execute_result"
    }
   ],
   "source": [
    "# 범주형 특성 뽑는법\n",
    "cat_feat = [name for name in feat if df[name].dtype == 'object']\n",
    "cat_feat"
   ]
  },
  {
   "cell_type": "code",
   "execution_count": 12,
   "id": "93eef042",
   "metadata": {},
   "outputs": [],
   "source": [
    "# 수치형 특성 뽑는법"
   ]
  },
  {
   "cell_type": "code",
   "execution_count": 13,
   "id": "f72250da",
   "metadata": {},
   "outputs": [
    {
     "data": {
      "text/plain": [
       "['Income', 'Limit', 'Rating', 'Cards', 'Age', 'Education']"
      ]
     },
     "execution_count": 13,
     "metadata": {},
     "output_type": "execute_result"
    }
   ],
   "source": [
    "num_feat = [name for name in feat if name not in cat_feat]\n",
    "num_feat"
   ]
  },
  {
   "cell_type": "markdown",
   "id": "368c0c65",
   "metadata": {},
   "source": [
    "### 2) 수치형 특성과 레이블에 대하여는 히스토그램을 작성하고 범주형 특성에 대하여는 막대그래프를 작성하고 간단히 코멘트 하시오."
   ]
  },
  {
   "cell_type": "code",
   "execution_count": 14,
   "id": "a66f3a4d",
   "metadata": {},
   "outputs": [
    {
     "data": {
      "image/png": "[encoded data removed]",
      "text/plain": [
       "<Figure size 432x288 with 6 Axes>"
      ]
     },
     "metadata": {
      "needs_background": "light"
     },
     "output_type": "display_data"
    }
   ],
   "source": [
    "# 수치형 특성과 레이블 (['Income', 'Limit', 'Rating', 'Cards', 'Age', 'Education']) -> 히스토그램\n",
    "plt.subplot(2,3,1)\n",
    "plt.hist(df.Income,label=df.Balance)\n",
    "plt.title(\"Income\")\n",
    "plt.subplot(2,3,2)\n",
    "plt.hist(df.Limit,label=df.Balance)\n",
    "plt.title(\"Limit\")\n",
    "plt.subplot(2,3,3)\n",
    "plt.hist(df.Rating,label=df.Balance)\n",
    "plt.title(\"Rating\")\n",
    "plt.subplot(2,3,4)\n",
    "plt.hist(df.Cards,label=df.Balance)\n",
    "plt.title(\"Cards\")\n",
    "plt.subplot(2,3,5)\n",
    "plt.hist(df.Age,label=df.Balance)\n",
    "plt.title(\"Age\")\n",
    "plt.subplot(2,3,6)\n",
    "plt.hist(df.Education,label=df.Balance)\n",
    "plt.title(\"Education\")\n",
    "plt.tight_layout() # 자동으로 레이아웃을 맞춰주는 함수"
   ]
  },
  {
   "cell_type": "code",
   "execution_count": 15,
   "id": "fd26d0a7",
   "metadata": {},
   "outputs": [
    {
     "data": {
      "image/png": "[encoded data removed]",
      "text/plain": [
       "<Figure size 432x288 with 4 Axes>"
      ]
     },
     "metadata": {
      "needs_background": "light"
     },
     "output_type": "display_data"
    }
   ],
   "source": [
    "# 범주형 특성과 레이블 (['Gender', 'Student', 'Married', 'Ethnicity']) -> 막대그래프\n",
    "plt.subplot(2,2,1)\n",
    "plt.bar(df.Gender,df.Balance)\n",
    "plt.subplot(2,2,2)\n",
    "plt.bar(df.Student,df.Balance)\n",
    "plt.subplot(2,2,3)\n",
    "plt.bar(df.Married,df.Balance)\n",
    "plt.subplot(2,2,4)\n",
    "plt.bar(df.Ethnicity,df.Balance)\n",
    "plt.tight_layout()"
   ]
  },
  {
   "cell_type": "markdown",
   "id": "a9c7bb10",
   "metadata": {},
   "source": [
    "* 수치형 변수의 히스토그램 : Education과 Age를 제외한 대부분의 특성이 현저히 왼쪽으로 치우쳐 있다. Balance는 특히 왼쪽으로 많이 치우쳐 잔고가 거의 0인 고객들이 아주 많다.\n",
    "\n",
    "* 범주형 변수의 막대그래프 : 학생이 아닌 고객이 대부분이다."
   ]
  },
  {
   "cell_type": "markdown",
   "id": "283a2218",
   "metadata": {},
   "source": [
    "### 3) 데이터프레임에 corr() 메서드를 적용하여 변수들간의 상관계수를 출력하고 해석하시오."
   ]
  },
  {
   "cell_type": "code",
   "execution_count": 16,
   "id": "3e2b8fc5",
   "metadata": {},
   "outputs": [
    {
     "data": {
      "text/html": [
       "<div>\n",
       "<style scoped>\n",
       "    .dataframe tbody tr th:only-of-type {\n",
       "        vertical-align: middle;\n",
       "    }\n",
       "\n",
       "    .dataframe tbody tr th {\n",
       "        vertical-align: top;\n",
       "    }\n",
       "\n",
       "    .dataframe thead th {\n",
       "        text-align: right;\n",
       "    }\n",
       "</style>\n",
       "<table border=\"1\" class=\"dataframe\">\n",
       "  <thead>\n",
       "    <tr style=\"text-align: right;\">\n",
       "      <th></th>\n",
       "      <th>Income</th>\n",
       "      <th>Limit</th>\n",
       "      <th>Rating</th>\n",
       "      <th>Cards</th>\n",
       "      <th>Age</th>\n",
       "      <th>Education</th>\n",
       "      <th>Balance</th>\n",
       "    </tr>\n",
       "  </thead>\n",
       "  <tbody>\n",
       "    <tr>\n",
       "      <th>Income</th>\n",
       "      <td>1.000000</td>\n",
       "      <td>0.792088</td>\n",
       "      <td>0.791378</td>\n",
       "      <td>-0.018273</td>\n",
       "      <td>0.175338</td>\n",
       "      <td>-0.027692</td>\n",
       "      <td>0.463656</td>\n",
       "    </tr>\n",
       "    <tr>\n",
       "      <th>Limit</th>\n",
       "      <td>0.792088</td>\n",
       "      <td>1.000000</td>\n",
       "      <td>0.996880</td>\n",
       "      <td>0.010231</td>\n",
       "      <td>0.100888</td>\n",
       "      <td>-0.023549</td>\n",
       "      <td>0.861697</td>\n",
       "    </tr>\n",
       "    <tr>\n",
       "      <th>Rating</th>\n",
       "      <td>0.791378</td>\n",
       "      <td>0.996880</td>\n",
       "      <td>1.000000</td>\n",
       "      <td>0.053239</td>\n",
       "      <td>0.103165</td>\n",
       "      <td>-0.030136</td>\n",
       "      <td>0.863625</td>\n",
       "    </tr>\n",
       "    <tr>\n",
       "      <th>Cards</th>\n",
       "      <td>-0.018273</td>\n",
       "      <td>0.010231</td>\n",
       "      <td>0.053239</td>\n",
       "      <td>1.000000</td>\n",
       "      <td>0.042948</td>\n",
       "      <td>-0.051084</td>\n",
       "      <td>0.086456</td>\n",
       "    </tr>\n",
       "    <tr>\n",
       "      <th>Age</th>\n",
       "      <td>0.175338</td>\n",
       "      <td>0.100888</td>\n",
       "      <td>0.103165</td>\n",
       "      <td>0.042948</td>\n",
       "      <td>1.000000</td>\n",
       "      <td>0.003619</td>\n",
       "      <td>0.001835</td>\n",
       "    </tr>\n",
       "    <tr>\n",
       "      <th>Education</th>\n",
       "      <td>-0.027692</td>\n",
       "      <td>-0.023549</td>\n",
       "      <td>-0.030136</td>\n",
       "      <td>-0.051084</td>\n",
       "      <td>0.003619</td>\n",
       "      <td>1.000000</td>\n",
       "      <td>-0.008062</td>\n",
       "    </tr>\n",
       "    <tr>\n",
       "      <th>Balance</th>\n",
       "      <td>0.463656</td>\n",
       "      <td>0.861697</td>\n",
       "      <td>0.863625</td>\n",
       "      <td>0.086456</td>\n",
       "      <td>0.001835</td>\n",
       "      <td>-0.008062</td>\n",
       "      <td>1.000000</td>\n",
       "    </tr>\n",
       "  </tbody>\n",
       "</table>\n",
       "</div>"
      ],
      "text/plain": [
       "             Income     Limit    Rating     Cards       Age  Education  \\\n",
       "Income     1.000000  0.792088  0.791378 -0.018273  0.175338  -0.027692   \n",
       "Limit      0.792088  1.000000  0.996880  0.010231  0.100888  -0.023549   \n",
       "Rating     0.791378  0.996880  1.000000  0.053239  0.103165  -0.030136   \n",
       "Cards     -0.018273  0.010231  0.053239  1.000000  0.042948  -0.051084   \n",
       "Age        0.175338  0.100888  0.103165  0.042948  1.000000   0.003619   \n",
       "Education -0.027692 -0.023549 -0.030136 -0.051084  0.003619   1.000000   \n",
       "Balance    0.463656  0.861697  0.863625  0.086456  0.001835  -0.008062   \n",
       "\n",
       "            Balance  \n",
       "Income     0.463656  \n",
       "Limit      0.861697  \n",
       "Rating     0.863625  \n",
       "Cards      0.086456  \n",
       "Age        0.001835  \n",
       "Education -0.008062  \n",
       "Balance    1.000000  "
      ]
     },
     "execution_count": 16,
     "metadata": {},
     "output_type": "execute_result"
    }
   ],
   "source": [
    "df.corr() # 모든 컬럼 간의 상관분석 (Correlation)\n",
    "\n",
    "# 1. 연속형 데이터에 대해서만 상관관계 분석이 가능하다, 연속형이란 말은 숫자로 표현되는 값\n",
    "# 2. -1에서 1의 값을 가진다\n",
    "# 3. 상관관계가 인과관계를 의미하지는 않는다. "
   ]
  },
  {
   "cell_type": "markdown",
   "id": "c01d0117",
   "metadata": {},
   "source": [
    "### * Limit와 Rating은 강한 양의 상관관계를 보인다. (Limit는 신용한도, Rating은 신용점수이므로 당연한 결과)\n",
    "### * Income과 Limit, Income과 Rating도 강한 양의 상관관계를 보인다.\n",
    "### * 레이블인 Balance와 상관관계가 높은 변수는 Limit와 Rating이다.\n",
    "\n",
    "<br><br>"
   ]
  },
  {
   "cell_type": "markdown",
   "id": "d904a07b",
   "metadata": {},
   "source": [
    "### 4) 각 수치형 특성과 Balance(잔고) 변수와의 산점도를 아래와 같은 subplot으로 작성하시오."
   ]
  },
  {
   "cell_type": "code",
   "execution_count": 17,
   "id": "11f486b3",
   "metadata": {},
   "outputs": [
    {
     "data": {
      "image/png": "[encoded data removed]",
      "text/plain": [
       "<Figure size 432x288 with 6 Axes>"
      ]
     },
     "metadata": {
      "needs_background": "light"
     },
     "output_type": "display_data"
    }
   ],
   "source": [
    "plt.subplot(2,3,1)\n",
    "plt.scatter(df.Income,df.Balance)\n",
    "plt.title(\"Income\")\n",
    "plt.subplot(2,3,2)\n",
    "plt.scatter(df.Limit,df.Balance)\n",
    "plt.title(\"Limit\")\n",
    "plt.subplot(2,3,3)\n",
    "plt.scatter(df.Rating,df.Balance)\n",
    "plt.title(\"Rating\")\n",
    "plt.subplot(2,3,4)\n",
    "plt.scatter(df.Cards,df.Balance)\n",
    "plt.title(\"Cards\")\n",
    "plt.subplot(2,3,5)\n",
    "plt.scatter(df.Age,df.Balance)\n",
    "plt.title(\"Age\")\n",
    "plt.subplot(2,3,6)\n",
    "plt.scatter(df.Education,df.Balance)\n",
    "plt.title(\"Education\")\n",
    "\n",
    "plt.tight_layout()  # 자동으로 레이아웃을 맞춰주는 함수"
   ]
  },
  {
   "cell_type": "markdown",
   "id": "09d9b95f",
   "metadata": {},
   "source": [
    "#### 3)의 상관계수에서 확인한 바와 같이 Limit와 Rating이 Balance와 강한 상관관계를 보인다. 즉, Limit와 Rating 값이 커질수록 Balance가 커지는 경향이 있다. Income 엮시 그 값이 커질수록 대체로 Balance가 커지지만 그 경향이 강하지는 않다.\n",
    "\n",
    "<br><br>"
   ]
  },
  {
   "cell_type": "markdown",
   "id": "cc828f39",
   "metadata": {},
   "source": [
    "### 5) Rating(신용점수) 변수를 특성으로 하고 Balance(잔고) 변수를 레이블로 하는 단순선형회귀모형을 훈련하고 산점도에 회귀직선식을 표시하고 이 모형의 결정계수(R^2)을 구하시오."
   ]
  },
  {
   "cell_type": "code",
   "execution_count": 18,
   "id": "c69bbede",
   "metadata": {},
   "outputs": [
    {
     "name": "stdout",
     "output_type": "stream",
     "text": [
      "[[2.56624033]] [-390.84634179]\n"
     ]
    }
   ],
   "source": [
    "from sklearn.linear_model import LinearRegression\n",
    "\n",
    "logistic=LinearRegression()\n",
    "x=df.Rating.to_numpy()\n",
    "x=x.reshape(-1,1) # ex) 길이가 12인 배열 -> x.reshape(-1,1)을 보았을 때, 열이 1로 정해졌으니 12개의 행이 만들어 진다,\n",
    "# x.reshape(-1,2)을 보았을 때, 열이 2로 정해졌으니 6개의 행이 만들어진다.\n",
    "y=df.Balance.to_numpy().reshape(-1,1) \n",
    "logistic.fit(x,y)\n",
    "\n",
    "print(logistic.coef_,logistic.intercept_) # 계수: model.coef_, 절편: model.intercept_\n",
    "pred=logistic.predict(x) # predict() 함수를 가지고 예측을 수행\n",
    "score=logistic.score(x,y)"
   ]
  },
  {
   "cell_type": "code",
   "execution_count": 19,
   "id": "f490cfd1",
   "metadata": {},
   "outputs": [
    {
     "data": {
      "text/plain": [
       "0.7458484180585037"
      ]
     },
     "execution_count": 19,
     "metadata": {},
     "output_type": "execute_result"
    }
   ],
   "source": [
    "score "
   ]
  },
  {
   "cell_type": "code",
   "execution_count": 38,
   "id": "dcfee73f",
   "metadata": {},
   "outputs": [
    {
     "data": {
      "text/plain": [
       "Text(0.5, 1.0, 'Rating vs Balance(R^2 = 74.58%)')"
      ]
     },
     "execution_count": 38,
     "metadata": {},
     "output_type": "execute_result"
    },
    {
     "data": {
      "image/png": "[encoded data removed]",
      "text/plain": [
       "<Figure size 432x288 with 1 Axes>"
      ]
     },
     "metadata": {
      "needs_background": "light"
     },
     "output_type": "display_data"
    }
   ],
   "source": [
    "plt.scatter(x,y)\n",
    "plt.xlabel('Rating')\n",
    "plt.ylabel('Balance')\n",
    "plt.plot(x,pred,c=\"red\")\n",
    "plt.title('Rating vs Balance' + '(R^2 = '+ str(round(score,4)*100) + '%)') # "
   ]
  },
  {
   "cell_type": "code",
   "execution_count": 39,
   "id": "b95aa4a9",
   "metadata": {},
   "outputs": [
    {
     "data": {
      "text/plain": [
       "0.7458484180585037"
      ]
     },
     "execution_count": 39,
     "metadata": {},
     "output_type": "execute_result"
    }
   ],
   "source": [
    "logistic.score(x,y) # 결정 계수(R^2), "
   ]
  },
  {
   "cell_type": "markdown",
   "id": "2261318e",
   "metadata": {},
   "source": [
    "* 결정계수의 의미 : Rating으로 Balance(에 있는 변동)의 74.58%를 설명함\n",
    "    * 회귀모델이 주어진 자료에 얼마나 적합한지를 평가하는 지표\n",
    "    * y의 변동량대비 모델 예측값의 변동량을 의미함\n",
    "    * 0~1의 값을 가지며, 상관관계가 높을수록 1에 가까워짐\n",
    "    * r2=0.3인 경우 약 30% 정도의 설명력을 가진다 라고 해석할 수 있음\n",
    "\n",
    "<br>\n",
    "* 회귀직선식 : Balance = 390.85+2.57(Rating) ????"
   ]
  },
  {
   "cell_type": "markdown",
   "id": "203bd6e9",
   "metadata": {},
   "source": [
    "<br>\n",
    "\n",
    "## 6)\n",
    "\n",
    "<br>\n",
    "\n",
    "####  수치형 특성들만 포함하여 데이터를 훈련용과 테스트용으로 7:3으로 분할(random_state=0)하여 선형회귀모형을 훈련시키고, \n",
    "#### 훈련데이터와 테스트데이터에 대한 결정계수를 구하시오. \n",
    "\n",
    "#### 과대적합이나 과소적합이 의심되는지 코멘트 하시오. \n",
    "#### Income이 100, Limit가 6000, Rating이 550, Card가 5개, 나이가 55, 교육년수가 20인 사람의 잔고를 예측하시오."
   ]
  },
  {
   "cell_type": "code",
   "execution_count": 51,
   "id": "1467cf0c",
   "metadata": {},
   "outputs": [
    {
     "data": {
      "text/plain": [
       "['Income', 'Limit', 'Rating', 'Cards', 'Age', 'Education']"
      ]
     },
     "execution_count": 51,
     "metadata": {},
     "output_type": "execute_result"
    }
   ],
   "source": [
    "num_feat # 위에서 뽑아 놓은거"
   ]
  },
  {
   "cell_type": "code",
   "execution_count": 45,
   "id": "479f551e",
   "metadata": {},
   "outputs": [],
   "source": [
    "X=df.drop(['Gender','Student','Married','Balance','Ethnicity'],axis=1).to_numpy()\n",
    "y=df['Balance'].to_numpy()"
   ]
  },
  {
   "cell_type": "code",
   "execution_count": 42,
   "id": "81d904cd",
   "metadata": {},
   "outputs": [],
   "source": [
    "from sklearn.model_selection import train_test_split\n",
    "X_train,X_test,y_train,y_test=train_test_split(X,y,train_size=0.7,random_state=0)"
   ]
  },
  {
   "cell_type": "code",
   "execution_count": 43,
   "id": "98925cea",
   "metadata": {},
   "outputs": [
    {
     "name": "stdout",
     "output_type": "stream",
     "text": [
      "[-7.90523312  0.15976222  1.56900826 14.42490726 -0.60836095  2.94113733] -486.65943641918363\n"
     ]
    }
   ],
   "source": [
    "new_logistic=LinearRegression()\n",
    "new_logistic.fit(X_train,y_train)\n",
    "print(new_logistic.coef_,new_logistic.intercept_)"
   ]
  },
  {
   "cell_type": "code",
   "execution_count": 47,
   "id": "a4bdd0fa",
   "metadata": {},
   "outputs": [
    {
     "data": {
      "text/plain": [
       "0.8857073035585357"
      ]
     },
     "execution_count": 47,
     "metadata": {},
     "output_type": "execute_result"
    }
   ],
   "source": [
    "new_logistic.score(X_train,y_train) # 훈련데이터 결정계수"
   ]
  },
  {
   "cell_type": "code",
   "execution_count": 48,
   "id": "c4c00c3a",
   "metadata": {},
   "outputs": [
    {
     "data": {
      "text/plain": [
       "0.8557914117915564"
      ]
     },
     "execution_count": 48,
     "metadata": {},
     "output_type": "execute_result"
    }
   ],
   "source": [
    "new_logistic.score(X_test,y_test) # 테스트데이터 결정계수"
   ]
  },
  {
   "cell_type": "markdown",
   "id": "9050902a",
   "metadata": {},
   "source": [
    "* 훈련데이터에 대한 결정계수가 0.8857로서 비교적 1에 가까우므로 과소적합이라고 할 수 없다. 또한 테스트셋에 대한 결정계수가 트레이닝셋에 대한 결정계수와 크게 차이가 나지 않으므로 과대적합은 아니라고 할 수 있다.\n",
    "\n",
    "<br>\n",
    "\n",
    "* 다만, Limit 특성과 Rating 특성이 거의 유사한 특성이므로 회귀모형에 두 특성 중 하나만 포함시킨 조금 더 단순한 모형을 고려해 볼 수는 있다.\n",
    "\n",
    "<br>\n",
    "\n",
    "* predict 메서드는 2차원 배열(혹은 리스트)을 인수로 하므로 주의=>아래 두 방법 중 하나 사용"
   ]
  },
  {
   "cell_type": "code",
   "execution_count": 52,
   "id": "b6d772b6",
   "metadata": {},
   "outputs": [
    {
     "data": {
      "text/plain": [
       "array([[1.0e+02, 6.0e+03, 5.5e+02, 5.0e+00, 5.5e+01, 2.0e+01]])"
      ]
     },
     "execution_count": 52,
     "metadata": {},
     "output_type": "execute_result"
    }
   ],
   "source": [
    "test=np.array(['100','6000','550','5','55','20'],dtype=float).reshape(1,-1)\n",
    "test"
   ]
  },
  {
   "cell_type": "code",
   "execution_count": 53,
   "id": "19b5fd97",
   "metadata": {},
   "outputs": [
    {
     "data": {
      "text/plain": [
       "array([641.83257176])"
      ]
     },
     "execution_count": 53,
     "metadata": {},
     "output_type": "execute_result"
    }
   ],
   "source": [
    "new_logistic.predict(test) # 잔고 예측"
   ]
  },
  {
   "cell_type": "code",
   "execution_count": null,
   "id": "e02edc67",
   "metadata": {},
   "outputs": [],
   "source": []
  }
 ],
 "metadata": {
  "kernelspec": {
   "display_name": "Python 3",
   "language": "python",
   "name": "python3"
  },
  "language_info": {
   "codemirror_mode": {
    "name": "ipython",
    "version": 3
   },
   "file_extension": ".py",
   "mimetype": "text/x-python",
   "name": "python",
   "nbconvert_exporter": "python",
   "pygments_lexer": "ipython3",
   "version": "3.8.8"
  }
 },
 "nbformat": 4,
 "nbformat_minor": 5
}
