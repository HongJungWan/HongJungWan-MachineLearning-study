{
 "cells": [
  {
   "cell_type": "markdown",
   "id": "e40c0966",
   "metadata": {},
   "source": [
    "# 회귀"
   ]
  },
  {
   "cell_type": "code",
   "execution_count": 1,
   "id": "df03a74c",
   "metadata": {},
   "outputs": [],
   "source": [
    "import numpy as np\n",
    "import pandas as pd\n",
    "import matplotlib.pyplot as plt"
   ]
  },
  {
   "cell_type": "markdown",
   "id": "9416486e",
   "metadata": {},
   "source": [
    "#### 1) 파일을 읽어 데이터프레임을 생성하고 처음 3개의 샘플을 출력하시오. 특성의 개수와 샘플(관측치)의 개수를 구하고 결측치가 있는지 알아보시오. 수치형 특성과 범주형 특성은 무엇인지 파악하시오."
   ]
  },
  {
   "cell_type": "code",
   "execution_count": 2,
   "id": "a6f2864c",
   "metadata": {},
   "outputs": [
    {
     "name": "stdout",
     "output_type": "stream",
     "text": [
      ",Income,Limit,Rating,Cards,Age,Education,Gender,Student,Married,Ethnicity,Balance\n",
      "\n",
      "1,14.891,3606,283,2,34,11,Male,No,Yes,Caucasian,333\n",
      "\n",
      "2,106.025,6645,483,3,82,15,Female,Yes,Yes,Asian,903\n",
      "\n"
     ]
    }
   ],
   "source": [
    "# 방법 1\n",
    "with open('HW3.csv') as f:\n",
    "    for _ in range(3):\n",
    "        print(f.readline())"
   ]
  },
  {
   "cell_type": "code",
   "execution_count": 3,
   "id": "87f497fe",
   "metadata": {},
   "outputs": [],
   "source": [
    "# 방법 2\n",
    "df = pd.read_csv('HW3.csv', index_col=0)"
   ]
  },
  {
   "cell_type": "code",
   "execution_count": 4,
   "id": "527412a0",
   "metadata": {},
   "outputs": [
    {
     "data": {
      "text/html": [
       "<div>\n",
       "<style scoped>\n",
       "    .dataframe tbody tr th:only-of-type {\n",
       "        vertical-align: middle;\n",
       "    }\n",
       "\n",
       "    .dataframe tbody tr th {\n",
       "        vertical-align: top;\n",
       "    }\n",
       "\n",
       "    .dataframe thead th {\n",
       "        text-align: right;\n",
       "    }\n",
       "</style>\n",
       "<table border=\"1\" class=\"dataframe\">\n",
       "  <thead>\n",
       "    <tr style=\"text-align: right;\">\n",
       "      <th></th>\n",
       "      <th>Income</th>\n",
       "      <th>Limit</th>\n",
       "      <th>Rating</th>\n",
       "      <th>Cards</th>\n",
       "      <th>Age</th>\n",
       "      <th>Education</th>\n",
       "      <th>Gender</th>\n",
       "      <th>Student</th>\n",
       "      <th>Married</th>\n",
       "      <th>Ethnicity</th>\n",
       "      <th>Balance</th>\n",
       "    </tr>\n",
       "  </thead>\n",
       "  <tbody>\n",
       "    <tr>\n",
       "      <th>1</th>\n",
       "      <td>14.891</td>\n",
       "      <td>3606</td>\n",
       "      <td>283</td>\n",
       "      <td>2</td>\n",
       "      <td>34</td>\n",
       "      <td>11</td>\n",
       "      <td>Male</td>\n",
       "      <td>No</td>\n",
       "      <td>Yes</td>\n",
       "      <td>Caucasian</td>\n",
       "      <td>333</td>\n",
       "    </tr>\n",
       "    <tr>\n",
       "      <th>2</th>\n",
       "      <td>106.025</td>\n",
       "      <td>6645</td>\n",
       "      <td>483</td>\n",
       "      <td>3</td>\n",
       "      <td>82</td>\n",
       "      <td>15</td>\n",
       "      <td>Female</td>\n",
       "      <td>Yes</td>\n",
       "      <td>Yes</td>\n",
       "      <td>Asian</td>\n",
       "      <td>903</td>\n",
       "    </tr>\n",
       "    <tr>\n",
       "      <th>3</th>\n",
       "      <td>104.593</td>\n",
       "      <td>7075</td>\n",
       "      <td>514</td>\n",
       "      <td>4</td>\n",
       "      <td>71</td>\n",
       "      <td>11</td>\n",
       "      <td>Male</td>\n",
       "      <td>No</td>\n",
       "      <td>No</td>\n",
       "      <td>Asian</td>\n",
       "      <td>580</td>\n",
       "    </tr>\n",
       "  </tbody>\n",
       "</table>\n",
       "</div>"
      ],
      "text/plain": [
       "    Income  Limit  Rating  Cards  Age  Education  Gender Student Married  \\\n",
       "1   14.891   3606     283      2   34         11    Male      No     Yes   \n",
       "2  106.025   6645     483      3   82         15  Female     Yes     Yes   \n",
       "3  104.593   7075     514      4   71         11    Male      No      No   \n",
       "\n",
       "   Ethnicity  Balance  \n",
       "1  Caucasian      333  \n",
       "2      Asian      903  \n",
       "3      Asian      580  "
      ]
     },
     "execution_count": 4,
     "metadata": {},
     "output_type": "execute_result"
    }
   ],
   "source": [
    "df.head(3)"
   ]
  },
  {
   "cell_type": "code",
   "execution_count": 5,
   "id": "8e3b7c36",
   "metadata": {},
   "outputs": [
    {
     "name": "stdout",
     "output_type": "stream",
     "text": [
      "<class 'pandas.core.frame.DataFrame'>\n",
      "Int64Index: 400 entries, 1 to 400\n",
      "Data columns (total 11 columns):\n",
      " #   Column     Non-Null Count  Dtype  \n",
      "---  ------     --------------  -----  \n",
      " 0   Income     400 non-null    float64\n",
      " 1   Limit      400 non-null    int64  \n",
      " 2   Rating     400 non-null    int64  \n",
      " 3   Cards      400 non-null    int64  \n",
      " 4   Age        400 non-null    int64  \n",
      " 5   Education  400 non-null    int64  \n",
      " 6   Gender     400 non-null    object \n",
      " 7   Student    400 non-null    object \n",
      " 8   Married    400 non-null    object \n",
      " 9   Ethnicity  400 non-null    object \n",
      " 10  Balance    400 non-null    int64  \n",
      "dtypes: float64(1), int64(6), object(4)\n",
      "memory usage: 37.5+ KB\n"
     ]
    }
   ],
   "source": [
    "df.info() # 샘플 개수 400개"
   ]
  },
  {
   "cell_type": "code",
   "execution_count": 6,
   "id": "738675ba",
   "metadata": {},
   "outputs": [
    {
     "data": {
      "text/plain": [
       "Income       0\n",
       "Limit        0\n",
       "Rating       0\n",
       "Cards        0\n",
       "Age          0\n",
       "Education    0\n",
       "Gender       0\n",
       "Student      0\n",
       "Married      0\n",
       "Ethnicity    0\n",
       "Balance      0\n",
       "dtype: int64"
      ]
     },
     "execution_count": 6,
     "metadata": {},
     "output_type": "execute_result"
    }
   ],
   "source": [
    "df.isnull().sum() # 결측치 없음"
   ]
  },
  {
   "cell_type": "code",
   "execution_count": 7,
   "id": "29d8dd3a",
   "metadata": {},
   "outputs": [
    {
     "data": {
      "text/plain": [
       "Index(['Income', 'Limit', 'Rating', 'Cards', 'Age', 'Education', 'Gender',\n",
       "       'Student', 'Married', 'Ethnicity', 'Balance'],\n",
       "      dtype='object')"
      ]
     },
     "execution_count": 7,
     "metadata": {},
     "output_type": "execute_result"
    }
   ],
   "source": [
    "df.columns # 특성 수 10개"
   ]
  },
  {
   "cell_type": "code",
   "execution_count": 8,
   "id": "87cb03fe",
   "metadata": {},
   "outputs": [
    {
     "data": {
      "text/html": [
       "<div>\n",
       "<style scoped>\n",
       "    .dataframe tbody tr th:only-of-type {\n",
       "        vertical-align: middle;\n",
       "    }\n",
       "\n",
       "    .dataframe tbody tr th {\n",
       "        vertical-align: top;\n",
       "    }\n",
       "\n",
       "    .dataframe thead th {\n",
       "        text-align: right;\n",
       "    }\n",
       "</style>\n",
       "<table border=\"1\" class=\"dataframe\">\n",
       "  <thead>\n",
       "    <tr style=\"text-align: right;\">\n",
       "      <th></th>\n",
       "      <th>Income</th>\n",
       "      <th>Limit</th>\n",
       "      <th>Rating</th>\n",
       "      <th>Cards</th>\n",
       "      <th>Age</th>\n",
       "      <th>Education</th>\n",
       "      <th>Balance</th>\n",
       "    </tr>\n",
       "  </thead>\n",
       "  <tbody>\n",
       "    <tr>\n",
       "      <th>count</th>\n",
       "      <td>400.000000</td>\n",
       "      <td>400.000000</td>\n",
       "      <td>400.000000</td>\n",
       "      <td>400.000000</td>\n",
       "      <td>400.000000</td>\n",
       "      <td>400.000000</td>\n",
       "      <td>400.000000</td>\n",
       "    </tr>\n",
       "    <tr>\n",
       "      <th>mean</th>\n",
       "      <td>45.218885</td>\n",
       "      <td>4735.600000</td>\n",
       "      <td>354.940000</td>\n",
       "      <td>2.957500</td>\n",
       "      <td>55.667500</td>\n",
       "      <td>13.450000</td>\n",
       "      <td>520.015000</td>\n",
       "    </tr>\n",
       "    <tr>\n",
       "      <th>std</th>\n",
       "      <td>35.244273</td>\n",
       "      <td>2308.198848</td>\n",
       "      <td>154.724143</td>\n",
       "      <td>1.371275</td>\n",
       "      <td>17.249807</td>\n",
       "      <td>3.125207</td>\n",
       "      <td>459.758877</td>\n",
       "    </tr>\n",
       "    <tr>\n",
       "      <th>min</th>\n",
       "      <td>10.354000</td>\n",
       "      <td>855.000000</td>\n",
       "      <td>93.000000</td>\n",
       "      <td>1.000000</td>\n",
       "      <td>23.000000</td>\n",
       "      <td>5.000000</td>\n",
       "      <td>0.000000</td>\n",
       "    </tr>\n",
       "    <tr>\n",
       "      <th>25%</th>\n",
       "      <td>21.007250</td>\n",
       "      <td>3088.000000</td>\n",
       "      <td>247.250000</td>\n",
       "      <td>2.000000</td>\n",
       "      <td>41.750000</td>\n",
       "      <td>11.000000</td>\n",
       "      <td>68.750000</td>\n",
       "    </tr>\n",
       "    <tr>\n",
       "      <th>50%</th>\n",
       "      <td>33.115500</td>\n",
       "      <td>4622.500000</td>\n",
       "      <td>344.000000</td>\n",
       "      <td>3.000000</td>\n",
       "      <td>56.000000</td>\n",
       "      <td>14.000000</td>\n",
       "      <td>459.500000</td>\n",
       "    </tr>\n",
       "    <tr>\n",
       "      <th>75%</th>\n",
       "      <td>57.470750</td>\n",
       "      <td>5872.750000</td>\n",
       "      <td>437.250000</td>\n",
       "      <td>4.000000</td>\n",
       "      <td>70.000000</td>\n",
       "      <td>16.000000</td>\n",
       "      <td>863.000000</td>\n",
       "    </tr>\n",
       "    <tr>\n",
       "      <th>max</th>\n",
       "      <td>186.634000</td>\n",
       "      <td>13913.000000</td>\n",
       "      <td>982.000000</td>\n",
       "      <td>9.000000</td>\n",
       "      <td>98.000000</td>\n",
       "      <td>20.000000</td>\n",
       "      <td>1999.000000</td>\n",
       "    </tr>\n",
       "  </tbody>\n",
       "</table>\n",
       "</div>"
      ],
      "text/plain": [
       "           Income         Limit      Rating       Cards         Age  \\\n",
       "count  400.000000    400.000000  400.000000  400.000000  400.000000   \n",
       "mean    45.218885   4735.600000  354.940000    2.957500   55.667500   \n",
       "std     35.244273   2308.198848  154.724143    1.371275   17.249807   \n",
       "min     10.354000    855.000000   93.000000    1.000000   23.000000   \n",
       "25%     21.007250   3088.000000  247.250000    2.000000   41.750000   \n",
       "50%     33.115500   4622.500000  344.000000    3.000000   56.000000   \n",
       "75%     57.470750   5872.750000  437.250000    4.000000   70.000000   \n",
       "max    186.634000  13913.000000  982.000000    9.000000   98.000000   \n",
       "\n",
       "        Education      Balance  \n",
       "count  400.000000   400.000000  \n",
       "mean    13.450000   520.015000  \n",
       "std      3.125207   459.758877  \n",
       "min      5.000000     0.000000  \n",
       "25%     11.000000    68.750000  \n",
       "50%     14.000000   459.500000  \n",
       "75%     16.000000   863.000000  \n",
       "max     20.000000  1999.000000  "
      ]
     },
     "execution_count": 8,
     "metadata": {},
     "output_type": "execute_result"
    }
   ],
   "source": [
    "df.describe() # 수치형 특성 : Income, Limit, Rating, Cards, Age, Education, Balance"
   ]
  },
  {
   "cell_type": "markdown",
   "id": "3b2e85fb",
   "metadata": {},
   "source": [
    "#### 범주형 특성 : Gender, Student, Married, Ethnicity\n",
    "* 특성의 개수는 10개, 관측치는 400개 이며 결측치는 없다.\n",
    "* 수치형 특성 : Income, Limit, Rating, Cards, Age, Education\n",
    "* 범주형 특성 : Gender, Student, Married, Ethnicity"
   ]
  },
  {
   "cell_type": "code",
   "execution_count": 9,
   "id": "e64ee520",
   "metadata": {},
   "outputs": [
    {
     "data": {
      "text/plain": [
       "['Income',\n",
       " 'Limit',\n",
       " 'Rating',\n",
       " 'Cards',\n",
       " 'Age',\n",
       " 'Education',\n",
       " 'Gender',\n",
       " 'Student',\n",
       " 'Married',\n",
       " 'Ethnicity']"
      ]
     },
     "execution_count": 9,
     "metadata": {},
     "output_type": "execute_result"
    }
   ],
   "source": [
    "# 특성 다 뽑는법\n",
    "feat = [name for name in df.columns if name != 'Balance'] # Balance가 레이블인가\n",
    "feat"
   ]
  },
  {
   "cell_type": "code",
   "execution_count": 10,
   "id": "be0c15a9",
   "metadata": {},
   "outputs": [
    {
     "data": {
      "text/plain": [
       "['Gender', 'Student', 'Married', 'Ethnicity']"
      ]
     },
     "execution_count": 10,
     "metadata": {},
     "output_type": "execute_result"
    }
   ],
   "source": [
    "# 범주형 특성 뽑는법\n",
    "cat_feat = [name for name in feat if df[name].dtype == 'object']\n",
    "cat_feat"
   ]
  },
  {
   "cell_type": "code",
   "execution_count": 11,
   "id": "93eef042",
   "metadata": {},
   "outputs": [],
   "source": [
    "# 수치형 특성 뽑는법"
   ]
  },
  {
   "cell_type": "code",
   "execution_count": 12,
   "id": "f72250da",
   "metadata": {},
   "outputs": [
    {
     "data": {
      "text/plain": [
       "['Income', 'Limit', 'Rating', 'Cards', 'Age', 'Education']"
      ]
     },
     "execution_count": 12,
     "metadata": {},
     "output_type": "execute_result"
    }
   ],
   "source": [
    "num_feat = [name for name in feat if name not in cat_feat]\n",
    "num_feat"
   ]
  },
  {
   "cell_type": "markdown",
   "id": "368c0c65",
   "metadata": {},
   "source": [
    "### 2) 수치형 특성과 레이블에 대하여는 히스토그램을 작성하고 범주형 특성에 대하여는 막대그래프를 작성하고 간단히 코멘트 하시오."
   ]
  },
  {
   "cell_type": "code",
   "execution_count": 13,
   "id": "a66f3a4d",
   "metadata": {},
   "outputs": [
    {
     "data": {
      "image/png": "[encoded data removed]",
      "text/plain": [
       "<Figure size 432x288 with 6 Axes>"
      ]
     },
     "metadata": {
      "needs_background": "light"
     },
     "output_type": "display_data"
    }
   ],
   "source": [
    "# 수치형 특성과 레이블 (['Income', 'Limit', 'Rating', 'Cards', 'Age', 'Education']) -> 히스토그램\n",
    "plt.subplot(2,3,1)\n",
    "plt.hist(df.Income,label=df.Balance)\n",
    "plt.title(\"Income\")\n",
    "plt.subplot(2,3,2)\n",
    "plt.hist(df.Limit,label=df.Balance)\n",
    "plt.title(\"Limit\")\n",
    "plt.subplot(2,3,3)\n",
    "plt.hist(df.Rating,label=df.Balance)\n",
    "plt.title(\"Rating\")\n",
    "plt.subplot(2,3,4)\n",
    "plt.hist(df.Cards,label=df.Balance)\n",
    "plt.title(\"Cards\")\n",
    "plt.subplot(2,3,5)\n",
    "plt.hist(df.Age,label=df.Balance)\n",
    "plt.title(\"Age\")\n",
    "plt.subplot(2,3,6)\n",
    "plt.hist(df.Education,label=df.Balance)\n",
    "plt.title(\"Education\")\n",
    "plt.tight_layout() # 자동으로 레이아웃을 맞춰주는 함수"
   ]
  },
  {
   "cell_type": "code",
   "execution_count": 14,
   "id": "fd26d0a7",
   "metadata": {},
   "outputs": [
    {
     "data": {
      "image/png": "[encoded data removed]",
      "text/plain": [
       "<Figure size 432x288 with 4 Axes>"
      ]
     },
     "metadata": {
      "needs_background": "light"
     },
     "output_type": "display_data"
    }
   ],
   "source": [
    "# 범주형 특성과 레이블 (['Gender', 'Student', 'Married', 'Ethnicity']) -> 막대그래프\n",
    "plt.subplot(2,2,1)\n",
    "plt.bar(df.Gender,df.Balance)\n",
    "plt.subplot(2,2,2)\n",
    "plt.bar(df.Student,df.Balance)\n",
    "plt.subplot(2,2,3)\n",
    "plt.bar(df.Married,df.Balance)\n",
    "plt.subplot(2,2,4)\n",
    "plt.bar(df.Ethnicity,df.Balance)\n",
    "plt.tight_layout()"
   ]
  },
  {
   "cell_type": "markdown",
   "id": "a9c7bb10",
   "metadata": {},
   "source": [
    "* 수치형 변수의 히스토그램 : Education과 Age를 제외한 대부분의 특성이 현저히 왼쪽으로 치우쳐 있다. Balance는 특히 왼쪽으로 많이 치우쳐 잔고가 거의 0인 고객들이 아주 많다.\n",
    "\n",
    "* 범주형 변수의 막대그래프 : 학생이 아닌 고객이 대부분이다."
   ]
  },
  {
   "cell_type": "markdown",
   "id": "283a2218",
   "metadata": {},
   "source": [
    "### 3) 데이터프레임에 corr() 메서드를 적용하여 변수들간의 상관계수를 출력하고 해석하시오."
   ]
  },
  {
   "cell_type": "code",
   "execution_count": 15,
   "id": "3e2b8fc5",
   "metadata": {},
   "outputs": [
    {
     "data": {
      "text/html": [
       "<div>\n",
       "<style scoped>\n",
       "    .dataframe tbody tr th:only-of-type {\n",
       "        vertical-align: middle;\n",
       "    }\n",
       "\n",
       "    .dataframe tbody tr th {\n",
       "        vertical-align: top;\n",
       "    }\n",
       "\n",
       "    .dataframe thead th {\n",
       "        text-align: right;\n",
       "    }\n",
       "</style>\n",
       "<table border=\"1\" class=\"dataframe\">\n",
       "  <thead>\n",
       "    <tr style=\"text-align: right;\">\n",
       "      <th></th>\n",
       "      <th>Income</th>\n",
       "      <th>Limit</th>\n",
       "      <th>Rating</th>\n",
       "      <th>Cards</th>\n",
       "      <th>Age</th>\n",
       "      <th>Education</th>\n",
       "      <th>Balance</th>\n",
       "    </tr>\n",
       "  </thead>\n",
       "  <tbody>\n",
       "    <tr>\n",
       "      <th>Income</th>\n",
       "      <td>1.000000</td>\n",
       "      <td>0.792088</td>\n",
       "      <td>0.791378</td>\n",
       "      <td>-0.018273</td>\n",
       "      <td>0.175338</td>\n",
       "      <td>-0.027692</td>\n",
       "      <td>0.463656</td>\n",
       "    </tr>\n",
       "    <tr>\n",
       "      <th>Limit</th>\n",
       "      <td>0.792088</td>\n",
       "      <td>1.000000</td>\n",
       "      <td>0.996880</td>\n",
       "      <td>0.010231</td>\n",
       "      <td>0.100888</td>\n",
       "      <td>-0.023549</td>\n",
       "      <td>0.861697</td>\n",
       "    </tr>\n",
       "    <tr>\n",
       "      <th>Rating</th>\n",
       "      <td>0.791378</td>\n",
       "      <td>0.996880</td>\n",
       "      <td>1.000000</td>\n",
       "      <td>0.053239</td>\n",
       "      <td>0.103165</td>\n",
       "      <td>-0.030136</td>\n",
       "      <td>0.863625</td>\n",
       "    </tr>\n",
       "    <tr>\n",
       "      <th>Cards</th>\n",
       "      <td>-0.018273</td>\n",
       "      <td>0.010231</td>\n",
       "      <td>0.053239</td>\n",
       "      <td>1.000000</td>\n",
       "      <td>0.042948</td>\n",
       "      <td>-0.051084</td>\n",
       "      <td>0.086456</td>\n",
       "    </tr>\n",
       "    <tr>\n",
       "      <th>Age</th>\n",
       "      <td>0.175338</td>\n",
       "      <td>0.100888</td>\n",
       "      <td>0.103165</td>\n",
       "      <td>0.042948</td>\n",
       "      <td>1.000000</td>\n",
       "      <td>0.003619</td>\n",
       "      <td>0.001835</td>\n",
       "    </tr>\n",
       "    <tr>\n",
       "      <th>Education</th>\n",
       "      <td>-0.027692</td>\n",
       "      <td>-0.023549</td>\n",
       "      <td>-0.030136</td>\n",
       "      <td>-0.051084</td>\n",
       "      <td>0.003619</td>\n",
       "      <td>1.000000</td>\n",
       "      <td>-0.008062</td>\n",
       "    </tr>\n",
       "    <tr>\n",
       "      <th>Balance</th>\n",
       "      <td>0.463656</td>\n",
       "      <td>0.861697</td>\n",
       "      <td>0.863625</td>\n",
       "      <td>0.086456</td>\n",
       "      <td>0.001835</td>\n",
       "      <td>-0.008062</td>\n",
       "      <td>1.000000</td>\n",
       "    </tr>\n",
       "  </tbody>\n",
       "</table>\n",
       "</div>"
      ],
      "text/plain": [
       "             Income     Limit    Rating     Cards       Age  Education  \\\n",
       "Income     1.000000  0.792088  0.791378 -0.018273  0.175338  -0.027692   \n",
       "Limit      0.792088  1.000000  0.996880  0.010231  0.100888  -0.023549   \n",
       "Rating     0.791378  0.996880  1.000000  0.053239  0.103165  -0.030136   \n",
       "Cards     -0.018273  0.010231  0.053239  1.000000  0.042948  -0.051084   \n",
       "Age        0.175338  0.100888  0.103165  0.042948  1.000000   0.003619   \n",
       "Education -0.027692 -0.023549 -0.030136 -0.051084  0.003619   1.000000   \n",
       "Balance    0.463656  0.861697  0.863625  0.086456  0.001835  -0.008062   \n",
       "\n",
       "            Balance  \n",
       "Income     0.463656  \n",
       "Limit      0.861697  \n",
       "Rating     0.863625  \n",
       "Cards      0.086456  \n",
       "Age        0.001835  \n",
       "Education -0.008062  \n",
       "Balance    1.000000  "
      ]
     },
     "execution_count": 15,
     "metadata": {},
     "output_type": "execute_result"
    }
   ],
   "source": [
    "df.corr() # 모든 컬럼 간의 상관분석 (Correlation)\n",
    "\n",
    "# 1. 연속형 데이터에 대해서만 상관관계 분석이 가능하다, 연속형이란 말은 숫자로 표현되는 값\n",
    "# 2. -1에서 1의 값을 가진다\n",
    "# 3. 상관관계가 인과관계를 의미하지는 않는다. "
   ]
  },
  {
   "cell_type": "markdown",
   "id": "c01d0117",
   "metadata": {},
   "source": [
    "### * Limit와 Rating은 강한 양의 상관관계를 보인다. (Limit는 신용한도, Rating은 신용점수이므로 당연한 결과)\n",
    "### * Income과 Limit, Income과 Rating도 강한 양의 상관관계를 보인다.\n",
    "### * 레이블인 Balance와 상관관계가 높은 변수는 Limit와 Rating이다.\n",
    "\n",
    "<br><br>"
   ]
  },
  {
   "cell_type": "markdown",
   "id": "d904a07b",
   "metadata": {},
   "source": [
    "### 4) 각 수치형 특성과 Balance(잔고) 변수와의 산점도를 아래와 같은 subplot으로 작성하시오."
   ]
  },
  {
   "cell_type": "code",
   "execution_count": 16,
   "id": "11f486b3",
   "metadata": {},
   "outputs": [
    {
     "data": {
      "image/png": "[encoded data removed]",
      "text/plain": [
       "<Figure size 432x288 with 6 Axes>"
      ]
     },
     "metadata": {
      "needs_background": "light"
     },
     "output_type": "display_data"
    }
   ],
   "source": [
    "plt.subplot(2,3,1)\n",
    "plt.scatter(df.Income,df.Balance)\n",
    "plt.title(\"Income\")\n",
    "plt.subplot(2,3,2)\n",
    "plt.scatter(df.Limit,df.Balance)\n",
    "plt.title(\"Limit\")\n",
    "plt.subplot(2,3,3)\n",
    "plt.scatter(df.Rating,df.Balance)\n",
    "plt.title(\"Rating\")\n",
    "plt.subplot(2,3,4)\n",
    "plt.scatter(df.Cards,df.Balance)\n",
    "plt.title(\"Cards\")\n",
    "plt.subplot(2,3,5)\n",
    "plt.scatter(df.Age,df.Balance)\n",
    "plt.title(\"Age\")\n",
    "plt.subplot(2,3,6)\n",
    "plt.scatter(df.Education,df.Balance)\n",
    "plt.title(\"Education\")\n",
    "\n",
    "plt.tight_layout()  # 자동으로 레이아웃을 맞춰주는 함수"
   ]
  },
  {
   "cell_type": "markdown",
   "id": "09d9b95f",
   "metadata": {},
   "source": [
    "#### 3)의 상관계수에서 확인한 바와 같이 Limit와 Rating이 Balance와 강한 상관관계를 보인다. 즉, Limit와 Rating 값이 커질수록 Balance가 커지는 경향이 있다. Income 엮시 그 값이 커질수록 대체로 Balance가 커지지만 그 경향이 강하지는 않다.\n",
    "\n",
    "<br><br>"
   ]
  },
  {
   "cell_type": "markdown",
   "id": "cc828f39",
   "metadata": {},
   "source": [
    "### 5) Rating(신용점수) 변수를 특성으로 하고 Balance(잔고) 변수를 레이블로 하는 단순선형회귀모형을 훈련하고 산점도에 회귀직선식을 표시하고 이 모형의 결정계수(R^2)을 구하시오."
   ]
  },
  {
   "cell_type": "code",
   "execution_count": 17,
   "id": "c69bbede",
   "metadata": {},
   "outputs": [
    {
     "name": "stdout",
     "output_type": "stream",
     "text": [
      "[[2.56624033]] [-390.84634179]\n"
     ]
    }
   ],
   "source": [
    "from sklearn.linear_model import LinearRegression\n",
    "\n",
    "logistic=LinearRegression()\n",
    "x=df.Rating.to_numpy()\n",
    "x=x.reshape(-1,1) # ex) 길이가 12인 배열 -> x.reshape(-1,1)을 보았을 때, 열이 1로 정해졌으니 12개의 행이 만들어 진다,\n",
    "# x.reshape(-1,2)을 보았을 때, 열이 2로 정해졌으니 6개의 행이 만들어진다.\n",
    "y=df.Balance.to_numpy().reshape(-1,1) \n",
    "logistic.fit(x,y)\n",
    "\n",
    "print(logistic.coef_,logistic.intercept_) # 계수: model.coef_, 절편: model.intercept_\n",
    "pred=logistic.predict(x) # predict() 함수를 가지고 예측을 수행\n",
    "score=logistic.score(x,y)"
   ]
  },
  {
   "cell_type": "code",
   "execution_count": 18,
   "id": "f490cfd1",
   "metadata": {},
   "outputs": [
    {
     "data": {
      "text/plain": [
       "0.7458484180585037"
      ]
     },
     "execution_count": 18,
     "metadata": {},
     "output_type": "execute_result"
    }
   ],
   "source": [
    "score "
   ]
  },
  {
   "cell_type": "code",
   "execution_count": 19,
   "id": "dcfee73f",
   "metadata": {},
   "outputs": [
    {
     "data": {
      "text/plain": [
       "Text(0.5, 1.0, 'Rating vs Balance(R^2 = 74.58%)')"
      ]
     },
     "execution_count": 19,
     "metadata": {},
     "output_type": "execute_result"
    },
    {
     "data": {
      "image/png": "[encoded data removed]",
      "text/plain": [
       "<Figure size 432x288 with 1 Axes>"
      ]
     },
     "metadata": {
      "needs_background": "light"
     },
     "output_type": "display_data"
    }
   ],
   "source": [
    "plt.scatter(x,y)\n",
    "plt.xlabel('Rating')\n",
    "plt.ylabel('Balance')\n",
    "plt.plot(x,pred,c=\"red\")\n",
    "plt.title('Rating vs Balance' + '(R^2 = '+ str(round(score,4)*100) + '%)') # "
   ]
  },
  {
   "cell_type": "code",
   "execution_count": 20,
   "id": "b95aa4a9",
   "metadata": {},
   "outputs": [
    {
     "data": {
      "text/plain": [
       "0.7458484180585037"
      ]
     },
     "execution_count": 20,
     "metadata": {},
     "output_type": "execute_result"
    }
   ],
   "source": [
    "logistic.score(x,y) # 결정 계수(R^2), "
   ]
  },
  {
   "cell_type": "markdown",
   "id": "2261318e",
   "metadata": {},
   "source": [
    "* 결정계수의 의미 : Rating으로 Balance(에 있는 변동)의 74.58%를 설명함\n",
    "    * 회귀모델이 주어진 자료에 얼마나 적합한지를 평가하는 지표\n",
    "    * y의 변동량대비 모델 예측값의 변동량을 의미함\n",
    "    * 0~1의 값을 가지며, 상관관계가 높을수록 1에 가까워짐\n",
    "    * r2=0.3인 경우 약 30% 정도의 설명력을 가진다 라고 해석할 수 있음\n",
    "\n",
    "<br>\n",
    "* 회귀직선식 : Balance = 390.85+2.57(Rating) ????"
   ]
  },
  {
   "cell_type": "markdown",
   "id": "203bd6e9",
   "metadata": {},
   "source": [
    "<br>\n",
    "\n",
    "## 6)\n",
    "\n",
    "<br>\n",
    "\n",
    "####  수치형 특성들만 포함하여 데이터를 훈련용과 테스트용으로 7:3으로 분할(random_state=0)하여 선형회귀모형을 훈련시키고, \n",
    "#### 훈련데이터와 테스트데이터에 대한 결정계수를 구하시오. \n",
    "\n",
    "#### 과대적합이나 과소적합이 의심되는지 코멘트 하시오. \n",
    "#### Income이 100, Limit가 6000, Rating이 550, Card가 5개, 나이가 55, 교육년수가 20인 사람의 잔고를 예측하시오."
   ]
  },
  {
   "cell_type": "code",
   "execution_count": 21,
   "id": "1467cf0c",
   "metadata": {},
   "outputs": [
    {
     "data": {
      "text/plain": [
       "['Income', 'Limit', 'Rating', 'Cards', 'Age', 'Education']"
      ]
     },
     "execution_count": 21,
     "metadata": {},
     "output_type": "execute_result"
    }
   ],
   "source": [
    "num_feat # 위에서 뽑아 놓은거"
   ]
  },
  {
   "cell_type": "code",
   "execution_count": 22,
   "id": "479f551e",
   "metadata": {},
   "outputs": [],
   "source": [
    "X=df.drop(['Gender','Student','Married','Balance','Ethnicity'],axis=1).to_numpy()\n",
    "y=df['Balance'].to_numpy()"
   ]
  },
  {
   "cell_type": "code",
   "execution_count": 23,
   "id": "81d904cd",
   "metadata": {},
   "outputs": [],
   "source": [
    "from sklearn.model_selection import train_test_split\n",
    "X_train,X_test,y_train,y_test=train_test_split(X,y,train_size=0.7,random_state=0)"
   ]
  },
  {
   "cell_type": "code",
   "execution_count": 24,
   "id": "98925cea",
   "metadata": {},
   "outputs": [
    {
     "name": "stdout",
     "output_type": "stream",
     "text": [
      "[-7.90523312  0.15976222  1.56900826 14.42490726 -0.60836095  2.94113733] -486.65943641918363\n"
     ]
    }
   ],
   "source": [
    "new_logistic=LinearRegression()\n",
    "new_logistic.fit(X_train,y_train)\n",
    "print(new_logistic.coef_,new_logistic.intercept_)"
   ]
  },
  {
   "cell_type": "code",
   "execution_count": 25,
   "id": "a4bdd0fa",
   "metadata": {},
   "outputs": [
    {
     "data": {
      "text/plain": [
       "0.8857073035585357"
      ]
     },
     "execution_count": 25,
     "metadata": {},
     "output_type": "execute_result"
    }
   ],
   "source": [
    "new_logistic.score(X_train,y_train) # 훈련데이터 결정계수"
   ]
  },
  {
   "cell_type": "code",
   "execution_count": 26,
   "id": "c4c00c3a",
   "metadata": {},
   "outputs": [
    {
     "data": {
      "text/plain": [
       "0.8557914117915564"
      ]
     },
     "execution_count": 26,
     "metadata": {},
     "output_type": "execute_result"
    }
   ],
   "source": [
    "new_logistic.score(X_test,y_test) # 테스트데이터 결정계수"
   ]
  },
  {
   "cell_type": "markdown",
   "id": "9050902a",
   "metadata": {},
   "source": [
    "* 훈련데이터에 대한 결정계수가 0.8857로서 비교적 1에 가까우므로 과소적합이라고 할 수 없다. 또한 테스트셋에 대한 결정계수가 트레이닝셋에 대한 결정계수와 크게 차이가 나지 않으므로 과대적합은 아니라고 할 수 있다.\n",
    "\n",
    "<br>\n",
    "\n",
    "* 다만, Limit 특성과 Rating 특성이 거의 유사한 특성이므로 회귀모형에 두 특성 중 하나만 포함시킨 조금 더 단순한 모형을 고려해 볼 수는 있다.\n",
    "\n",
    "<br>\n",
    "\n",
    "* predict 메서드는 2차원 배열(혹은 리스트)을 인수로 하므로 주의=>아래 두 방법 중 하나 사용"
   ]
  },
  {
   "cell_type": "code",
   "execution_count": 27,
   "id": "b6d772b6",
   "metadata": {},
   "outputs": [
    {
     "data": {
      "text/plain": [
       "array([[1.0e+02, 6.0e+03, 5.5e+02, 5.0e+00, 5.5e+01, 2.0e+01]])"
      ]
     },
     "execution_count": 27,
     "metadata": {},
     "output_type": "execute_result"
    }
   ],
   "source": [
    "test=np.array(['100','6000','550','5','55','20'],dtype=float).reshape(1,-1)\n",
    "test"
   ]
  },
  {
   "cell_type": "code",
   "execution_count": 28,
   "id": "19b5fd97",
   "metadata": {},
   "outputs": [
    {
     "data": {
      "text/plain": [
       "array([641.83257176])"
      ]
     },
     "execution_count": 28,
     "metadata": {},
     "output_type": "execute_result"
    }
   ],
   "source": [
    "new_logistic.predict(test) # 잔고 예측"
   ]
  },
  {
   "cell_type": "code",
   "execution_count": null,
   "id": "e02edc67",
   "metadata": {},
   "outputs": [],
   "source": []
  },
  {
   "cell_type": "code",
   "execution_count": 29,
   "id": "d68e3163",
   "metadata": {},
   "outputs": [],
   "source": [
    "import numpy as np\n",
    "import pandas as pd\n",
    "import matplotlib.pyplot as plt\n",
    "from sklearn.preprocessing import LabelEncoder, StandardScaler\n",
    "from sklearn.model_selection import train_test_split\n",
    "from sklearn.metrics import confusion_matrix, precision_score, recall_score\n",
    "from sklearn.linear_model import LogisticRegression\n",
    "from sklearn.svm import SVC\n",
    "from sklearn.tree import DecisionTreeClassifier\n",
    "from sklearn.neighbors import KNeighborsClassifier\n",
    "from sklearn.pipeline import make_pipeline\n",
    "from sklearn.model_selection import cross_val_score, GridSearchCV\n",
    "from sklearn.decomposition import PCA"
   ]
  },
  {
   "cell_type": "code",
   "execution_count": 30,
   "id": "3da102a2",
   "metadata": {},
   "outputs": [
    {
     "name": "stdout",
     "output_type": "stream",
     "text": [
      "\"age\";\"job\";\"marital\";\"education\";\"default\";\"balance\";\"housing\";\"loan\";\"contact\";\"day\";\"month\";\"duration\";\"campaign\";\"pdays\";\"previous\";\"poutcome\";\"y\"\n",
      "\n",
      "30;\"unemployed\";\"married\";\"primary\";\"no\";1787;\"no\";\"no\";\"cellular\";19;\"oct\";79;1;-1;0;\"unknown\";\"no\"\n",
      "\n",
      "33;\"services\";\"married\";\"secondary\";\"no\";4789;\"yes\";\"yes\";\"cellular\";11;\"may\";220;1;339;4;\"failure\";\"no\"\n",
      "\n"
     ]
    }
   ],
   "source": [
    "with open('HW4.csv') as f:\n",
    "    for _ in range(3):\n",
    "        print(f.readline())"
   ]
  },
  {
   "cell_type": "code",
   "execution_count": 31,
   "id": "088e584e",
   "metadata": {},
   "outputs": [],
   "source": [
    "df = pd.read_csv('HW4.csv', sep=';')"
   ]
  },
  {
   "cell_type": "code",
   "execution_count": 32,
   "id": "989056b2",
   "metadata": {},
   "outputs": [
    {
     "data": {
      "text/html": [
       "<div>\n",
       "<style scoped>\n",
       "    .dataframe tbody tr th:only-of-type {\n",
       "        vertical-align: middle;\n",
       "    }\n",
       "\n",
       "    .dataframe tbody tr th {\n",
       "        vertical-align: top;\n",
       "    }\n",
       "\n",
       "    .dataframe thead th {\n",
       "        text-align: right;\n",
       "    }\n",
       "</style>\n",
       "<table border=\"1\" class=\"dataframe\">\n",
       "  <thead>\n",
       "    <tr style=\"text-align: right;\">\n",
       "      <th></th>\n",
       "      <th>age</th>\n",
       "      <th>job</th>\n",
       "      <th>marital</th>\n",
       "      <th>education</th>\n",
       "      <th>default</th>\n",
       "      <th>balance</th>\n",
       "      <th>housing</th>\n",
       "      <th>loan</th>\n",
       "      <th>contact</th>\n",
       "      <th>day</th>\n",
       "      <th>month</th>\n",
       "      <th>duration</th>\n",
       "      <th>campaign</th>\n",
       "      <th>pdays</th>\n",
       "      <th>previous</th>\n",
       "      <th>poutcome</th>\n",
       "      <th>y</th>\n",
       "    </tr>\n",
       "  </thead>\n",
       "  <tbody>\n",
       "    <tr>\n",
       "      <th>0</th>\n",
       "      <td>30</td>\n",
       "      <td>unemployed</td>\n",
       "      <td>married</td>\n",
       "      <td>primary</td>\n",
       "      <td>no</td>\n",
       "      <td>1787</td>\n",
       "      <td>no</td>\n",
       "      <td>no</td>\n",
       "      <td>cellular</td>\n",
       "      <td>19</td>\n",
       "      <td>oct</td>\n",
       "      <td>79</td>\n",
       "      <td>1</td>\n",
       "      <td>-1</td>\n",
       "      <td>0</td>\n",
       "      <td>unknown</td>\n",
       "      <td>no</td>\n",
       "    </tr>\n",
       "    <tr>\n",
       "      <th>1</th>\n",
       "      <td>33</td>\n",
       "      <td>services</td>\n",
       "      <td>married</td>\n",
       "      <td>secondary</td>\n",
       "      <td>no</td>\n",
       "      <td>4789</td>\n",
       "      <td>yes</td>\n",
       "      <td>yes</td>\n",
       "      <td>cellular</td>\n",
       "      <td>11</td>\n",
       "      <td>may</td>\n",
       "      <td>220</td>\n",
       "      <td>1</td>\n",
       "      <td>339</td>\n",
       "      <td>4</td>\n",
       "      <td>failure</td>\n",
       "      <td>no</td>\n",
       "    </tr>\n",
       "    <tr>\n",
       "      <th>2</th>\n",
       "      <td>35</td>\n",
       "      <td>management</td>\n",
       "      <td>single</td>\n",
       "      <td>tertiary</td>\n",
       "      <td>no</td>\n",
       "      <td>1350</td>\n",
       "      <td>yes</td>\n",
       "      <td>no</td>\n",
       "      <td>cellular</td>\n",
       "      <td>16</td>\n",
       "      <td>apr</td>\n",
       "      <td>185</td>\n",
       "      <td>1</td>\n",
       "      <td>330</td>\n",
       "      <td>1</td>\n",
       "      <td>failure</td>\n",
       "      <td>no</td>\n",
       "    </tr>\n",
       "    <tr>\n",
       "      <th>3</th>\n",
       "      <td>30</td>\n",
       "      <td>management</td>\n",
       "      <td>married</td>\n",
       "      <td>tertiary</td>\n",
       "      <td>no</td>\n",
       "      <td>1476</td>\n",
       "      <td>yes</td>\n",
       "      <td>yes</td>\n",
       "      <td>unknown</td>\n",
       "      <td>3</td>\n",
       "      <td>jun</td>\n",
       "      <td>199</td>\n",
       "      <td>4</td>\n",
       "      <td>-1</td>\n",
       "      <td>0</td>\n",
       "      <td>unknown</td>\n",
       "      <td>no</td>\n",
       "    </tr>\n",
       "    <tr>\n",
       "      <th>4</th>\n",
       "      <td>59</td>\n",
       "      <td>blue-collar</td>\n",
       "      <td>married</td>\n",
       "      <td>secondary</td>\n",
       "      <td>no</td>\n",
       "      <td>0</td>\n",
       "      <td>yes</td>\n",
       "      <td>no</td>\n",
       "      <td>unknown</td>\n",
       "      <td>5</td>\n",
       "      <td>may</td>\n",
       "      <td>226</td>\n",
       "      <td>1</td>\n",
       "      <td>-1</td>\n",
       "      <td>0</td>\n",
       "      <td>unknown</td>\n",
       "      <td>no</td>\n",
       "    </tr>\n",
       "    <tr>\n",
       "      <th>...</th>\n",
       "      <td>...</td>\n",
       "      <td>...</td>\n",
       "      <td>...</td>\n",
       "      <td>...</td>\n",
       "      <td>...</td>\n",
       "      <td>...</td>\n",
       "      <td>...</td>\n",
       "      <td>...</td>\n",
       "      <td>...</td>\n",
       "      <td>...</td>\n",
       "      <td>...</td>\n",
       "      <td>...</td>\n",
       "      <td>...</td>\n",
       "      <td>...</td>\n",
       "      <td>...</td>\n",
       "      <td>...</td>\n",
       "      <td>...</td>\n",
       "    </tr>\n",
       "    <tr>\n",
       "      <th>4516</th>\n",
       "      <td>33</td>\n",
       "      <td>services</td>\n",
       "      <td>married</td>\n",
       "      <td>secondary</td>\n",
       "      <td>no</td>\n",
       "      <td>-333</td>\n",
       "      <td>yes</td>\n",
       "      <td>no</td>\n",
       "      <td>cellular</td>\n",
       "      <td>30</td>\n",
       "      <td>jul</td>\n",
       "      <td>329</td>\n",
       "      <td>5</td>\n",
       "      <td>-1</td>\n",
       "      <td>0</td>\n",
       "      <td>unknown</td>\n",
       "      <td>no</td>\n",
       "    </tr>\n",
       "    <tr>\n",
       "      <th>4517</th>\n",
       "      <td>57</td>\n",
       "      <td>self-employed</td>\n",
       "      <td>married</td>\n",
       "      <td>tertiary</td>\n",
       "      <td>yes</td>\n",
       "      <td>-3313</td>\n",
       "      <td>yes</td>\n",
       "      <td>yes</td>\n",
       "      <td>unknown</td>\n",
       "      <td>9</td>\n",
       "      <td>may</td>\n",
       "      <td>153</td>\n",
       "      <td>1</td>\n",
       "      <td>-1</td>\n",
       "      <td>0</td>\n",
       "      <td>unknown</td>\n",
       "      <td>no</td>\n",
       "    </tr>\n",
       "    <tr>\n",
       "      <th>4518</th>\n",
       "      <td>57</td>\n",
       "      <td>technician</td>\n",
       "      <td>married</td>\n",
       "      <td>secondary</td>\n",
       "      <td>no</td>\n",
       "      <td>295</td>\n",
       "      <td>no</td>\n",
       "      <td>no</td>\n",
       "      <td>cellular</td>\n",
       "      <td>19</td>\n",
       "      <td>aug</td>\n",
       "      <td>151</td>\n",
       "      <td>11</td>\n",
       "      <td>-1</td>\n",
       "      <td>0</td>\n",
       "      <td>unknown</td>\n",
       "      <td>no</td>\n",
       "    </tr>\n",
       "    <tr>\n",
       "      <th>4519</th>\n",
       "      <td>28</td>\n",
       "      <td>blue-collar</td>\n",
       "      <td>married</td>\n",
       "      <td>secondary</td>\n",
       "      <td>no</td>\n",
       "      <td>1137</td>\n",
       "      <td>no</td>\n",
       "      <td>no</td>\n",
       "      <td>cellular</td>\n",
       "      <td>6</td>\n",
       "      <td>feb</td>\n",
       "      <td>129</td>\n",
       "      <td>4</td>\n",
       "      <td>211</td>\n",
       "      <td>3</td>\n",
       "      <td>other</td>\n",
       "      <td>no</td>\n",
       "    </tr>\n",
       "    <tr>\n",
       "      <th>4520</th>\n",
       "      <td>44</td>\n",
       "      <td>entrepreneur</td>\n",
       "      <td>single</td>\n",
       "      <td>tertiary</td>\n",
       "      <td>no</td>\n",
       "      <td>1136</td>\n",
       "      <td>yes</td>\n",
       "      <td>yes</td>\n",
       "      <td>cellular</td>\n",
       "      <td>3</td>\n",
       "      <td>apr</td>\n",
       "      <td>345</td>\n",
       "      <td>2</td>\n",
       "      <td>249</td>\n",
       "      <td>7</td>\n",
       "      <td>other</td>\n",
       "      <td>no</td>\n",
       "    </tr>\n",
       "  </tbody>\n",
       "</table>\n",
       "<p>4521 rows × 17 columns</p>\n",
       "</div>"
      ],
      "text/plain": [
       "      age            job  marital  education default  balance housing loan  \\\n",
       "0      30     unemployed  married    primary      no     1787      no   no   \n",
       "1      33       services  married  secondary      no     4789     yes  yes   \n",
       "2      35     management   single   tertiary      no     1350     yes   no   \n",
       "3      30     management  married   tertiary      no     1476     yes  yes   \n",
       "4      59    blue-collar  married  secondary      no        0     yes   no   \n",
       "...   ...            ...      ...        ...     ...      ...     ...  ...   \n",
       "4516   33       services  married  secondary      no     -333     yes   no   \n",
       "4517   57  self-employed  married   tertiary     yes    -3313     yes  yes   \n",
       "4518   57     technician  married  secondary      no      295      no   no   \n",
       "4519   28    blue-collar  married  secondary      no     1137      no   no   \n",
       "4520   44   entrepreneur   single   tertiary      no     1136     yes  yes   \n",
       "\n",
       "       contact  day month  duration  campaign  pdays  previous poutcome   y  \n",
       "0     cellular   19   oct        79         1     -1         0  unknown  no  \n",
       "1     cellular   11   may       220         1    339         4  failure  no  \n",
       "2     cellular   16   apr       185         1    330         1  failure  no  \n",
       "3      unknown    3   jun       199         4     -1         0  unknown  no  \n",
       "4      unknown    5   may       226         1     -1         0  unknown  no  \n",
       "...        ...  ...   ...       ...       ...    ...       ...      ...  ..  \n",
       "4516  cellular   30   jul       329         5     -1         0  unknown  no  \n",
       "4517   unknown    9   may       153         1     -1         0  unknown  no  \n",
       "4518  cellular   19   aug       151        11     -1         0  unknown  no  \n",
       "4519  cellular    6   feb       129         4    211         3    other  no  \n",
       "4520  cellular    3   apr       345         2    249         7    other  no  \n",
       "\n",
       "[4521 rows x 17 columns]"
      ]
     },
     "execution_count": 32,
     "metadata": {},
     "output_type": "execute_result"
    }
   ],
   "source": [
    "df"
   ]
  },
  {
   "cell_type": "markdown",
   "id": "b71008b5",
   "metadata": {},
   "source": [
    "### day와 month 칼럼 삭제"
   ]
  },
  {
   "cell_type": "code",
   "execution_count": 33,
   "id": "51899b5c",
   "metadata": {},
   "outputs": [],
   "source": [
    "df =df.drop(['day','month'],axis=1)"
   ]
  },
  {
   "cell_type": "code",
   "execution_count": 34,
   "id": "96330be6",
   "metadata": {},
   "outputs": [
    {
     "data": {
      "text/html": [
       "<div>\n",
       "<style scoped>\n",
       "    .dataframe tbody tr th:only-of-type {\n",
       "        vertical-align: middle;\n",
       "    }\n",
       "\n",
       "    .dataframe tbody tr th {\n",
       "        vertical-align: top;\n",
       "    }\n",
       "\n",
       "    .dataframe thead th {\n",
       "        text-align: right;\n",
       "    }\n",
       "</style>\n",
       "<table border=\"1\" class=\"dataframe\">\n",
       "  <thead>\n",
       "    <tr style=\"text-align: right;\">\n",
       "      <th></th>\n",
       "      <th>age</th>\n",
       "      <th>job</th>\n",
       "      <th>marital</th>\n",
       "      <th>education</th>\n",
       "      <th>default</th>\n",
       "      <th>balance</th>\n",
       "      <th>housing</th>\n",
       "      <th>loan</th>\n",
       "      <th>contact</th>\n",
       "      <th>duration</th>\n",
       "      <th>campaign</th>\n",
       "      <th>pdays</th>\n",
       "      <th>previous</th>\n",
       "      <th>poutcome</th>\n",
       "      <th>y</th>\n",
       "    </tr>\n",
       "  </thead>\n",
       "  <tbody>\n",
       "    <tr>\n",
       "      <th>0</th>\n",
       "      <td>30</td>\n",
       "      <td>unemployed</td>\n",
       "      <td>married</td>\n",
       "      <td>primary</td>\n",
       "      <td>no</td>\n",
       "      <td>1787</td>\n",
       "      <td>no</td>\n",
       "      <td>no</td>\n",
       "      <td>cellular</td>\n",
       "      <td>79</td>\n",
       "      <td>1</td>\n",
       "      <td>-1</td>\n",
       "      <td>0</td>\n",
       "      <td>unknown</td>\n",
       "      <td>no</td>\n",
       "    </tr>\n",
       "    <tr>\n",
       "      <th>1</th>\n",
       "      <td>33</td>\n",
       "      <td>services</td>\n",
       "      <td>married</td>\n",
       "      <td>secondary</td>\n",
       "      <td>no</td>\n",
       "      <td>4789</td>\n",
       "      <td>yes</td>\n",
       "      <td>yes</td>\n",
       "      <td>cellular</td>\n",
       "      <td>220</td>\n",
       "      <td>1</td>\n",
       "      <td>339</td>\n",
       "      <td>4</td>\n",
       "      <td>failure</td>\n",
       "      <td>no</td>\n",
       "    </tr>\n",
       "    <tr>\n",
       "      <th>2</th>\n",
       "      <td>35</td>\n",
       "      <td>management</td>\n",
       "      <td>single</td>\n",
       "      <td>tertiary</td>\n",
       "      <td>no</td>\n",
       "      <td>1350</td>\n",
       "      <td>yes</td>\n",
       "      <td>no</td>\n",
       "      <td>cellular</td>\n",
       "      <td>185</td>\n",
       "      <td>1</td>\n",
       "      <td>330</td>\n",
       "      <td>1</td>\n",
       "      <td>failure</td>\n",
       "      <td>no</td>\n",
       "    </tr>\n",
       "    <tr>\n",
       "      <th>3</th>\n",
       "      <td>30</td>\n",
       "      <td>management</td>\n",
       "      <td>married</td>\n",
       "      <td>tertiary</td>\n",
       "      <td>no</td>\n",
       "      <td>1476</td>\n",
       "      <td>yes</td>\n",
       "      <td>yes</td>\n",
       "      <td>unknown</td>\n",
       "      <td>199</td>\n",
       "      <td>4</td>\n",
       "      <td>-1</td>\n",
       "      <td>0</td>\n",
       "      <td>unknown</td>\n",
       "      <td>no</td>\n",
       "    </tr>\n",
       "    <tr>\n",
       "      <th>4</th>\n",
       "      <td>59</td>\n",
       "      <td>blue-collar</td>\n",
       "      <td>married</td>\n",
       "      <td>secondary</td>\n",
       "      <td>no</td>\n",
       "      <td>0</td>\n",
       "      <td>yes</td>\n",
       "      <td>no</td>\n",
       "      <td>unknown</td>\n",
       "      <td>226</td>\n",
       "      <td>1</td>\n",
       "      <td>-1</td>\n",
       "      <td>0</td>\n",
       "      <td>unknown</td>\n",
       "      <td>no</td>\n",
       "    </tr>\n",
       "    <tr>\n",
       "      <th>...</th>\n",
       "      <td>...</td>\n",
       "      <td>...</td>\n",
       "      <td>...</td>\n",
       "      <td>...</td>\n",
       "      <td>...</td>\n",
       "      <td>...</td>\n",
       "      <td>...</td>\n",
       "      <td>...</td>\n",
       "      <td>...</td>\n",
       "      <td>...</td>\n",
       "      <td>...</td>\n",
       "      <td>...</td>\n",
       "      <td>...</td>\n",
       "      <td>...</td>\n",
       "      <td>...</td>\n",
       "    </tr>\n",
       "    <tr>\n",
       "      <th>4516</th>\n",
       "      <td>33</td>\n",
       "      <td>services</td>\n",
       "      <td>married</td>\n",
       "      <td>secondary</td>\n",
       "      <td>no</td>\n",
       "      <td>-333</td>\n",
       "      <td>yes</td>\n",
       "      <td>no</td>\n",
       "      <td>cellular</td>\n",
       "      <td>329</td>\n",
       "      <td>5</td>\n",
       "      <td>-1</td>\n",
       "      <td>0</td>\n",
       "      <td>unknown</td>\n",
       "      <td>no</td>\n",
       "    </tr>\n",
       "    <tr>\n",
       "      <th>4517</th>\n",
       "      <td>57</td>\n",
       "      <td>self-employed</td>\n",
       "      <td>married</td>\n",
       "      <td>tertiary</td>\n",
       "      <td>yes</td>\n",
       "      <td>-3313</td>\n",
       "      <td>yes</td>\n",
       "      <td>yes</td>\n",
       "      <td>unknown</td>\n",
       "      <td>153</td>\n",
       "      <td>1</td>\n",
       "      <td>-1</td>\n",
       "      <td>0</td>\n",
       "      <td>unknown</td>\n",
       "      <td>no</td>\n",
       "    </tr>\n",
       "    <tr>\n",
       "      <th>4518</th>\n",
       "      <td>57</td>\n",
       "      <td>technician</td>\n",
       "      <td>married</td>\n",
       "      <td>secondary</td>\n",
       "      <td>no</td>\n",
       "      <td>295</td>\n",
       "      <td>no</td>\n",
       "      <td>no</td>\n",
       "      <td>cellular</td>\n",
       "      <td>151</td>\n",
       "      <td>11</td>\n",
       "      <td>-1</td>\n",
       "      <td>0</td>\n",
       "      <td>unknown</td>\n",
       "      <td>no</td>\n",
       "    </tr>\n",
       "    <tr>\n",
       "      <th>4519</th>\n",
       "      <td>28</td>\n",
       "      <td>blue-collar</td>\n",
       "      <td>married</td>\n",
       "      <td>secondary</td>\n",
       "      <td>no</td>\n",
       "      <td>1137</td>\n",
       "      <td>no</td>\n",
       "      <td>no</td>\n",
       "      <td>cellular</td>\n",
       "      <td>129</td>\n",
       "      <td>4</td>\n",
       "      <td>211</td>\n",
       "      <td>3</td>\n",
       "      <td>other</td>\n",
       "      <td>no</td>\n",
       "    </tr>\n",
       "    <tr>\n",
       "      <th>4520</th>\n",
       "      <td>44</td>\n",
       "      <td>entrepreneur</td>\n",
       "      <td>single</td>\n",
       "      <td>tertiary</td>\n",
       "      <td>no</td>\n",
       "      <td>1136</td>\n",
       "      <td>yes</td>\n",
       "      <td>yes</td>\n",
       "      <td>cellular</td>\n",
       "      <td>345</td>\n",
       "      <td>2</td>\n",
       "      <td>249</td>\n",
       "      <td>7</td>\n",
       "      <td>other</td>\n",
       "      <td>no</td>\n",
       "    </tr>\n",
       "  </tbody>\n",
       "</table>\n",
       "<p>4521 rows × 15 columns</p>\n",
       "</div>"
      ],
      "text/plain": [
       "      age            job  marital  education default  balance housing loan  \\\n",
       "0      30     unemployed  married    primary      no     1787      no   no   \n",
       "1      33       services  married  secondary      no     4789     yes  yes   \n",
       "2      35     management   single   tertiary      no     1350     yes   no   \n",
       "3      30     management  married   tertiary      no     1476     yes  yes   \n",
       "4      59    blue-collar  married  secondary      no        0     yes   no   \n",
       "...   ...            ...      ...        ...     ...      ...     ...  ...   \n",
       "4516   33       services  married  secondary      no     -333     yes   no   \n",
       "4517   57  self-employed  married   tertiary     yes    -3313     yes  yes   \n",
       "4518   57     technician  married  secondary      no      295      no   no   \n",
       "4519   28    blue-collar  married  secondary      no     1137      no   no   \n",
       "4520   44   entrepreneur   single   tertiary      no     1136     yes  yes   \n",
       "\n",
       "       contact  duration  campaign  pdays  previous poutcome   y  \n",
       "0     cellular        79         1     -1         0  unknown  no  \n",
       "1     cellular       220         1    339         4  failure  no  \n",
       "2     cellular       185         1    330         1  failure  no  \n",
       "3      unknown       199         4     -1         0  unknown  no  \n",
       "4      unknown       226         1     -1         0  unknown  no  \n",
       "...        ...       ...       ...    ...       ...      ...  ..  \n",
       "4516  cellular       329         5     -1         0  unknown  no  \n",
       "4517   unknown       153         1     -1         0  unknown  no  \n",
       "4518  cellular       151        11     -1         0  unknown  no  \n",
       "4519  cellular       129         4    211         3    other  no  \n",
       "4520  cellular       345         2    249         7    other  no  \n",
       "\n",
       "[4521 rows x 15 columns]"
      ]
     },
     "execution_count": 34,
     "metadata": {},
     "output_type": "execute_result"
    }
   ],
   "source": [
    "df"
   ]
  },
  {
   "cell_type": "markdown",
   "id": "e927555f",
   "metadata": {},
   "source": [
    "### 수치형 특성과 범주형 특성 리스트 구하기"
   ]
  },
  {
   "cell_type": "code",
   "execution_count": 35,
   "id": "b8f01a10",
   "metadata": {},
   "outputs": [
    {
     "name": "stdout",
     "output_type": "stream",
     "text": [
      "<class 'pandas.core.frame.DataFrame'>\n",
      "RangeIndex: 4521 entries, 0 to 4520\n",
      "Data columns (total 15 columns):\n",
      " #   Column     Non-Null Count  Dtype \n",
      "---  ------     --------------  ----- \n",
      " 0   age        4521 non-null   int64 \n",
      " 1   job        4521 non-null   object\n",
      " 2   marital    4521 non-null   object\n",
      " 3   education  4521 non-null   object\n",
      " 4   default    4521 non-null   object\n",
      " 5   balance    4521 non-null   int64 \n",
      " 6   housing    4521 non-null   object\n",
      " 7   loan       4521 non-null   object\n",
      " 8   contact    4521 non-null   object\n",
      " 9   duration   4521 non-null   int64 \n",
      " 10  campaign   4521 non-null   int64 \n",
      " 11  pdays      4521 non-null   int64 \n",
      " 12  previous   4521 non-null   int64 \n",
      " 13  poutcome   4521 non-null   object\n",
      " 14  y          4521 non-null   object\n",
      "dtypes: int64(6), object(9)\n",
      "memory usage: 529.9+ KB\n"
     ]
    }
   ],
   "source": [
    "# 방법 1, 노가다로 직접 구하기\n",
    "df.info()"
   ]
  },
  {
   "cell_type": "code",
   "execution_count": 36,
   "id": "051971b7",
   "metadata": {},
   "outputs": [],
   "source": [
    "num_feat = ['age', 'balance', 'duration', 'campaign', 'pdays', 'previous']\n",
    "cat_feat = ['marital', 'education', 'default', 'housing', 'loan', 'contact', 'poutcome']"
   ]
  },
  {
   "cell_type": "code",
   "execution_count": 37,
   "id": "02638992",
   "metadata": {},
   "outputs": [],
   "source": [
    "# 방법 2, 코드로 구하기\n",
    "cat_feat = [name for name in list(df.columns) if df[name].dtype=='object' and name != 'y']\n",
    "num_feat = [name for name in list(df.columns) if name not in cat_feat and name != 'y']"
   ]
  },
  {
   "cell_type": "markdown",
   "id": "c5f25f92",
   "metadata": {},
   "source": [
    "### 2) 레이블 y의 범주별 비율 구하기"
   ]
  },
  {
   "cell_type": "code",
   "execution_count": 38,
   "id": "16e5ff18",
   "metadata": {},
   "outputs": [
    {
     "data": {
      "text/plain": [
       "no     4000\n",
       "yes     521\n",
       "Name: y, dtype: int64"
      ]
     },
     "execution_count": 38,
     "metadata": {},
     "output_type": "execute_result"
    }
   ],
   "source": [
    "df.y.value_counts()"
   ]
  },
  {
   "cell_type": "code",
   "execution_count": 39,
   "id": "2cd0f99c",
   "metadata": {},
   "outputs": [
    {
     "data": {
      "text/plain": [
       "no     0.88476\n",
       "yes    0.11524\n",
       "Name: y, dtype: float64"
      ]
     },
     "execution_count": 39,
     "metadata": {},
     "output_type": "execute_result"
    }
   ],
   "source": [
    "df.y.value_counts() / df.shape[0]   # df.shape[0] : 행 개수 세기"
   ]
  },
  {
   "cell_type": "markdown",
   "id": "db22baca",
   "metadata": {},
   "source": [
    "### 3) 수치형 특성의 요약 통계 구하기"
   ]
  },
  {
   "cell_type": "code",
   "execution_count": 40,
   "id": "97792fcb",
   "metadata": {},
   "outputs": [
    {
     "data": {
      "text/html": [
       "<div>\n",
       "<style scoped>\n",
       "    .dataframe tbody tr th:only-of-type {\n",
       "        vertical-align: middle;\n",
       "    }\n",
       "\n",
       "    .dataframe tbody tr th {\n",
       "        vertical-align: top;\n",
       "    }\n",
       "\n",
       "    .dataframe thead th {\n",
       "        text-align: right;\n",
       "    }\n",
       "</style>\n",
       "<table border=\"1\" class=\"dataframe\">\n",
       "  <thead>\n",
       "    <tr style=\"text-align: right;\">\n",
       "      <th></th>\n",
       "      <th>age</th>\n",
       "      <th>balance</th>\n",
       "      <th>duration</th>\n",
       "      <th>campaign</th>\n",
       "      <th>pdays</th>\n",
       "      <th>previous</th>\n",
       "    </tr>\n",
       "  </thead>\n",
       "  <tbody>\n",
       "    <tr>\n",
       "      <th>count</th>\n",
       "      <td>4521.000000</td>\n",
       "      <td>4521.000000</td>\n",
       "      <td>4521.000000</td>\n",
       "      <td>4521.000000</td>\n",
       "      <td>4521.000000</td>\n",
       "      <td>4521.000000</td>\n",
       "    </tr>\n",
       "    <tr>\n",
       "      <th>mean</th>\n",
       "      <td>41.170095</td>\n",
       "      <td>1422.657819</td>\n",
       "      <td>263.961292</td>\n",
       "      <td>2.793630</td>\n",
       "      <td>39.766645</td>\n",
       "      <td>0.542579</td>\n",
       "    </tr>\n",
       "    <tr>\n",
       "      <th>std</th>\n",
       "      <td>10.576211</td>\n",
       "      <td>3009.638142</td>\n",
       "      <td>259.856633</td>\n",
       "      <td>3.109807</td>\n",
       "      <td>100.121124</td>\n",
       "      <td>1.693562</td>\n",
       "    </tr>\n",
       "    <tr>\n",
       "      <th>min</th>\n",
       "      <td>19.000000</td>\n",
       "      <td>-3313.000000</td>\n",
       "      <td>4.000000</td>\n",
       "      <td>1.000000</td>\n",
       "      <td>-1.000000</td>\n",
       "      <td>0.000000</td>\n",
       "    </tr>\n",
       "    <tr>\n",
       "      <th>25%</th>\n",
       "      <td>33.000000</td>\n",
       "      <td>69.000000</td>\n",
       "      <td>104.000000</td>\n",
       "      <td>1.000000</td>\n",
       "      <td>-1.000000</td>\n",
       "      <td>0.000000</td>\n",
       "    </tr>\n",
       "    <tr>\n",
       "      <th>50%</th>\n",
       "      <td>39.000000</td>\n",
       "      <td>444.000000</td>\n",
       "      <td>185.000000</td>\n",
       "      <td>2.000000</td>\n",
       "      <td>-1.000000</td>\n",
       "      <td>0.000000</td>\n",
       "    </tr>\n",
       "    <tr>\n",
       "      <th>75%</th>\n",
       "      <td>49.000000</td>\n",
       "      <td>1480.000000</td>\n",
       "      <td>329.000000</td>\n",
       "      <td>3.000000</td>\n",
       "      <td>-1.000000</td>\n",
       "      <td>0.000000</td>\n",
       "    </tr>\n",
       "    <tr>\n",
       "      <th>max</th>\n",
       "      <td>87.000000</td>\n",
       "      <td>71188.000000</td>\n",
       "      <td>3025.000000</td>\n",
       "      <td>50.000000</td>\n",
       "      <td>871.000000</td>\n",
       "      <td>25.000000</td>\n",
       "    </tr>\n",
       "  </tbody>\n",
       "</table>\n",
       "</div>"
      ],
      "text/plain": [
       "               age       balance     duration     campaign        pdays  \\\n",
       "count  4521.000000   4521.000000  4521.000000  4521.000000  4521.000000   \n",
       "mean     41.170095   1422.657819   263.961292     2.793630    39.766645   \n",
       "std      10.576211   3009.638142   259.856633     3.109807   100.121124   \n",
       "min      19.000000  -3313.000000     4.000000     1.000000    -1.000000   \n",
       "25%      33.000000     69.000000   104.000000     1.000000    -1.000000   \n",
       "50%      39.000000    444.000000   185.000000     2.000000    -1.000000   \n",
       "75%      49.000000   1480.000000   329.000000     3.000000    -1.000000   \n",
       "max      87.000000  71188.000000  3025.000000    50.000000   871.000000   \n",
       "\n",
       "          previous  \n",
       "count  4521.000000  \n",
       "mean      0.542579  \n",
       "std       1.693562  \n",
       "min       0.000000  \n",
       "25%       0.000000  \n",
       "50%       0.000000  \n",
       "75%       0.000000  \n",
       "max      25.000000  "
      ]
     },
     "execution_count": 40,
     "metadata": {},
     "output_type": "execute_result"
    }
   ],
   "source": [
    "df[num_feat].describe()   #df.describe()도 동일한 결과를 줌"
   ]
  },
  {
   "cell_type": "markdown",
   "id": "d3c9907f",
   "metadata": {},
   "source": [
    "### 범주형 특성의 막대 그래프 구하기 (랜덤한 막대 색깔)"
   ]
  },
  {
   "cell_type": "code",
   "execution_count": 49,
   "id": "126f95dc",
   "metadata": {},
   "outputs": [
    {
     "data": {
      "image/png": "[encoded data removed]",
      "text/plain": [
       "<Figure size 1440x720 with 8 Axes>"
      ]
     },
     "metadata": {
      "needs_background": "light"
     },
     "output_type": "display_data"
    }
   ],
   "source": [
    "plt.figure(figsize=(20,10))\n",
    "i = 1\n",
    "for name in cat_feat:\n",
    "    counts = df[name].value_counts()\n",
    "    plt.subplot(2,4,i)\n",
    "    c = (np.random.random(), np.random.random(), np.random.random()) # np.random.random() : 0~1보다 작은 값의 범주\n",
    "    plt.bar(counts.index, counts.values, color=c)\n",
    "    plt.title(name)\n",
    "    i = i+1\n",
    "    \n",
    "#  ex) counts.values : array([3705,  490,  197,  129], dtype=int64)   \n",
    "#  ex) counts.index  : Index(['unknown', 'failure', 'other', 'success'], dtype='object')"
   ]
  },
  {
   "cell_type": "markdown",
   "id": "c401e47e",
   "metadata": {},
   "source": [
    "### 4) 특성행렬과 레이블 벡터 구하기"
   ]
  },
  {
   "cell_type": "code",
   "execution_count": 50,
   "id": "c8af71e2",
   "metadata": {},
   "outputs": [],
   "source": [
    "features = df.drop('y', axis = 1)\n",
    "label = df['y']"
   ]
  },
  {
   "cell_type": "markdown",
   "id": "e2243d9b",
   "metadata": {},
   "source": [
    "### 레이블 인코딩('yes'는 0, 'no'는 1)"
   ]
  },
  {
   "cell_type": "code",
   "execution_count": 51,
   "id": "a0b6584f",
   "metadata": {},
   "outputs": [],
   "source": [
    "#방법 1 : np.where()함수 이용하기\n",
    "y = np.where(label=='no', 1, 0)"
   ]
  },
  {
   "cell_type": "code",
   "execution_count": 52,
   "id": "a6ee839b",
   "metadata": {},
   "outputs": [],
   "source": [
    "#방법 2 : Series의 map(딕셔너리) 메서드 이용하기\n",
    "d = {'yes':0, 'no':1}\n",
    "y = label.map(d).to_numpy()"
   ]
  },
  {
   "cell_type": "code",
   "execution_count": 53,
   "id": "0bd1290d",
   "metadata": {},
   "outputs": [],
   "source": [
    "#방법 3 : LabelEncoder() 이용하기\n",
    "encoder = LabelEncoder()\n",
    "encoder.fit(label)   #['no', 'yes']=>[0,1] 알파벳 순\n",
    "y = 1-encoder.transform(label)  #코드값 조정 "
   ]
  },
  {
   "cell_type": "code",
   "execution_count": 54,
   "id": "a6c4b83d",
   "metadata": {},
   "outputs": [
    {
     "data": {
      "text/plain": [
       "array([0, 1, 1, 0, 1, 1, 1, 1, 1, 1, 1, 1, 1, 1, 1, 1, 1, 1, 1, 1, 0, 1,\n",
       "       1, 1, 1, 1, 1, 1, 1, 1, 0, 1, 1, 0, 0, 1, 1, 1, 1, 1, 1, 1, 0, 1,\n",
       "       1, 1, 1, 1, 1, 0])"
      ]
     },
     "execution_count": 54,
     "metadata": {},
     "output_type": "execute_result"
    }
   ],
   "source": [
    "y[50:100]"
   ]
  },
  {
   "cell_type": "markdown",
   "id": "c1089cbd",
   "metadata": {},
   "source": [
    "### 특성행렬의 범주형 특성 원-핫-인코딩"
   ]
  },
  {
   "cell_type": "code",
   "execution_count": 55,
   "id": "a1adab0a",
   "metadata": {},
   "outputs": [],
   "source": [
    "features_dummy = pd.get_dummies(features)"
   ]
  },
  {
   "cell_type": "code",
   "execution_count": 56,
   "id": "38341511",
   "metadata": {},
   "outputs": [
    {
     "data": {
      "text/html": [
       "<div>\n",
       "<style scoped>\n",
       "    .dataframe tbody tr th:only-of-type {\n",
       "        vertical-align: middle;\n",
       "    }\n",
       "\n",
       "    .dataframe tbody tr th {\n",
       "        vertical-align: top;\n",
       "    }\n",
       "\n",
       "    .dataframe thead th {\n",
       "        text-align: right;\n",
       "    }\n",
       "</style>\n",
       "<table border=\"1\" class=\"dataframe\">\n",
       "  <thead>\n",
       "    <tr style=\"text-align: right;\">\n",
       "      <th></th>\n",
       "      <th>age</th>\n",
       "      <th>balance</th>\n",
       "      <th>duration</th>\n",
       "      <th>campaign</th>\n",
       "      <th>pdays</th>\n",
       "      <th>previous</th>\n",
       "      <th>job_admin.</th>\n",
       "      <th>job_blue-collar</th>\n",
       "      <th>job_entrepreneur</th>\n",
       "      <th>job_housemaid</th>\n",
       "      <th>...</th>\n",
       "      <th>housing_yes</th>\n",
       "      <th>loan_no</th>\n",
       "      <th>loan_yes</th>\n",
       "      <th>contact_cellular</th>\n",
       "      <th>contact_telephone</th>\n",
       "      <th>contact_unknown</th>\n",
       "      <th>poutcome_failure</th>\n",
       "      <th>poutcome_other</th>\n",
       "      <th>poutcome_success</th>\n",
       "      <th>poutcome_unknown</th>\n",
       "    </tr>\n",
       "  </thead>\n",
       "  <tbody>\n",
       "    <tr>\n",
       "      <th>0</th>\n",
       "      <td>30</td>\n",
       "      <td>1787</td>\n",
       "      <td>79</td>\n",
       "      <td>1</td>\n",
       "      <td>-1</td>\n",
       "      <td>0</td>\n",
       "      <td>0</td>\n",
       "      <td>0</td>\n",
       "      <td>0</td>\n",
       "      <td>0</td>\n",
       "      <td>...</td>\n",
       "      <td>0</td>\n",
       "      <td>1</td>\n",
       "      <td>0</td>\n",
       "      <td>1</td>\n",
       "      <td>0</td>\n",
       "      <td>0</td>\n",
       "      <td>0</td>\n",
       "      <td>0</td>\n",
       "      <td>0</td>\n",
       "      <td>1</td>\n",
       "    </tr>\n",
       "    <tr>\n",
       "      <th>1</th>\n",
       "      <td>33</td>\n",
       "      <td>4789</td>\n",
       "      <td>220</td>\n",
       "      <td>1</td>\n",
       "      <td>339</td>\n",
       "      <td>4</td>\n",
       "      <td>0</td>\n",
       "      <td>0</td>\n",
       "      <td>0</td>\n",
       "      <td>0</td>\n",
       "      <td>...</td>\n",
       "      <td>1</td>\n",
       "      <td>0</td>\n",
       "      <td>1</td>\n",
       "      <td>1</td>\n",
       "      <td>0</td>\n",
       "      <td>0</td>\n",
       "      <td>1</td>\n",
       "      <td>0</td>\n",
       "      <td>0</td>\n",
       "      <td>0</td>\n",
       "    </tr>\n",
       "    <tr>\n",
       "      <th>2</th>\n",
       "      <td>35</td>\n",
       "      <td>1350</td>\n",
       "      <td>185</td>\n",
       "      <td>1</td>\n",
       "      <td>330</td>\n",
       "      <td>1</td>\n",
       "      <td>0</td>\n",
       "      <td>0</td>\n",
       "      <td>0</td>\n",
       "      <td>0</td>\n",
       "      <td>...</td>\n",
       "      <td>1</td>\n",
       "      <td>1</td>\n",
       "      <td>0</td>\n",
       "      <td>1</td>\n",
       "      <td>0</td>\n",
       "      <td>0</td>\n",
       "      <td>1</td>\n",
       "      <td>0</td>\n",
       "      <td>0</td>\n",
       "      <td>0</td>\n",
       "    </tr>\n",
       "    <tr>\n",
       "      <th>3</th>\n",
       "      <td>30</td>\n",
       "      <td>1476</td>\n",
       "      <td>199</td>\n",
       "      <td>4</td>\n",
       "      <td>-1</td>\n",
       "      <td>0</td>\n",
       "      <td>0</td>\n",
       "      <td>0</td>\n",
       "      <td>0</td>\n",
       "      <td>0</td>\n",
       "      <td>...</td>\n",
       "      <td>1</td>\n",
       "      <td>0</td>\n",
       "      <td>1</td>\n",
       "      <td>0</td>\n",
       "      <td>0</td>\n",
       "      <td>1</td>\n",
       "      <td>0</td>\n",
       "      <td>0</td>\n",
       "      <td>0</td>\n",
       "      <td>1</td>\n",
       "    </tr>\n",
       "    <tr>\n",
       "      <th>4</th>\n",
       "      <td>59</td>\n",
       "      <td>0</td>\n",
       "      <td>226</td>\n",
       "      <td>1</td>\n",
       "      <td>-1</td>\n",
       "      <td>0</td>\n",
       "      <td>0</td>\n",
       "      <td>1</td>\n",
       "      <td>0</td>\n",
       "      <td>0</td>\n",
       "      <td>...</td>\n",
       "      <td>1</td>\n",
       "      <td>1</td>\n",
       "      <td>0</td>\n",
       "      <td>0</td>\n",
       "      <td>0</td>\n",
       "      <td>1</td>\n",
       "      <td>0</td>\n",
       "      <td>0</td>\n",
       "      <td>0</td>\n",
       "      <td>1</td>\n",
       "    </tr>\n",
       "    <tr>\n",
       "      <th>...</th>\n",
       "      <td>...</td>\n",
       "      <td>...</td>\n",
       "      <td>...</td>\n",
       "      <td>...</td>\n",
       "      <td>...</td>\n",
       "      <td>...</td>\n",
       "      <td>...</td>\n",
       "      <td>...</td>\n",
       "      <td>...</td>\n",
       "      <td>...</td>\n",
       "      <td>...</td>\n",
       "      <td>...</td>\n",
       "      <td>...</td>\n",
       "      <td>...</td>\n",
       "      <td>...</td>\n",
       "      <td>...</td>\n",
       "      <td>...</td>\n",
       "      <td>...</td>\n",
       "      <td>...</td>\n",
       "      <td>...</td>\n",
       "      <td>...</td>\n",
       "    </tr>\n",
       "    <tr>\n",
       "      <th>4516</th>\n",
       "      <td>33</td>\n",
       "      <td>-333</td>\n",
       "      <td>329</td>\n",
       "      <td>5</td>\n",
       "      <td>-1</td>\n",
       "      <td>0</td>\n",
       "      <td>0</td>\n",
       "      <td>0</td>\n",
       "      <td>0</td>\n",
       "      <td>0</td>\n",
       "      <td>...</td>\n",
       "      <td>1</td>\n",
       "      <td>1</td>\n",
       "      <td>0</td>\n",
       "      <td>1</td>\n",
       "      <td>0</td>\n",
       "      <td>0</td>\n",
       "      <td>0</td>\n",
       "      <td>0</td>\n",
       "      <td>0</td>\n",
       "      <td>1</td>\n",
       "    </tr>\n",
       "    <tr>\n",
       "      <th>4517</th>\n",
       "      <td>57</td>\n",
       "      <td>-3313</td>\n",
       "      <td>153</td>\n",
       "      <td>1</td>\n",
       "      <td>-1</td>\n",
       "      <td>0</td>\n",
       "      <td>0</td>\n",
       "      <td>0</td>\n",
       "      <td>0</td>\n",
       "      <td>0</td>\n",
       "      <td>...</td>\n",
       "      <td>1</td>\n",
       "      <td>0</td>\n",
       "      <td>1</td>\n",
       "      <td>0</td>\n",
       "      <td>0</td>\n",
       "      <td>1</td>\n",
       "      <td>0</td>\n",
       "      <td>0</td>\n",
       "      <td>0</td>\n",
       "      <td>1</td>\n",
       "    </tr>\n",
       "    <tr>\n",
       "      <th>4518</th>\n",
       "      <td>57</td>\n",
       "      <td>295</td>\n",
       "      <td>151</td>\n",
       "      <td>11</td>\n",
       "      <td>-1</td>\n",
       "      <td>0</td>\n",
       "      <td>0</td>\n",
       "      <td>0</td>\n",
       "      <td>0</td>\n",
       "      <td>0</td>\n",
       "      <td>...</td>\n",
       "      <td>0</td>\n",
       "      <td>1</td>\n",
       "      <td>0</td>\n",
       "      <td>1</td>\n",
       "      <td>0</td>\n",
       "      <td>0</td>\n",
       "      <td>0</td>\n",
       "      <td>0</td>\n",
       "      <td>0</td>\n",
       "      <td>1</td>\n",
       "    </tr>\n",
       "    <tr>\n",
       "      <th>4519</th>\n",
       "      <td>28</td>\n",
       "      <td>1137</td>\n",
       "      <td>129</td>\n",
       "      <td>4</td>\n",
       "      <td>211</td>\n",
       "      <td>3</td>\n",
       "      <td>0</td>\n",
       "      <td>1</td>\n",
       "      <td>0</td>\n",
       "      <td>0</td>\n",
       "      <td>...</td>\n",
       "      <td>0</td>\n",
       "      <td>1</td>\n",
       "      <td>0</td>\n",
       "      <td>1</td>\n",
       "      <td>0</td>\n",
       "      <td>0</td>\n",
       "      <td>0</td>\n",
       "      <td>1</td>\n",
       "      <td>0</td>\n",
       "      <td>0</td>\n",
       "    </tr>\n",
       "    <tr>\n",
       "      <th>4520</th>\n",
       "      <td>44</td>\n",
       "      <td>1136</td>\n",
       "      <td>345</td>\n",
       "      <td>2</td>\n",
       "      <td>249</td>\n",
       "      <td>7</td>\n",
       "      <td>0</td>\n",
       "      <td>0</td>\n",
       "      <td>1</td>\n",
       "      <td>0</td>\n",
       "      <td>...</td>\n",
       "      <td>1</td>\n",
       "      <td>0</td>\n",
       "      <td>1</td>\n",
       "      <td>1</td>\n",
       "      <td>0</td>\n",
       "      <td>0</td>\n",
       "      <td>0</td>\n",
       "      <td>1</td>\n",
       "      <td>0</td>\n",
       "      <td>0</td>\n",
       "    </tr>\n",
       "  </tbody>\n",
       "</table>\n",
       "<p>4521 rows × 38 columns</p>\n",
       "</div>"
      ],
      "text/plain": [
       "      age  balance  duration  campaign  pdays  previous  job_admin.  \\\n",
       "0      30     1787        79         1     -1         0           0   \n",
       "1      33     4789       220         1    339         4           0   \n",
       "2      35     1350       185         1    330         1           0   \n",
       "3      30     1476       199         4     -1         0           0   \n",
       "4      59        0       226         1     -1         0           0   \n",
       "...   ...      ...       ...       ...    ...       ...         ...   \n",
       "4516   33     -333       329         5     -1         0           0   \n",
       "4517   57    -3313       153         1     -1         0           0   \n",
       "4518   57      295       151        11     -1         0           0   \n",
       "4519   28     1137       129         4    211         3           0   \n",
       "4520   44     1136       345         2    249         7           0   \n",
       "\n",
       "      job_blue-collar  job_entrepreneur  job_housemaid  ...  housing_yes  \\\n",
       "0                   0                 0              0  ...            0   \n",
       "1                   0                 0              0  ...            1   \n",
       "2                   0                 0              0  ...            1   \n",
       "3                   0                 0              0  ...            1   \n",
       "4                   1                 0              0  ...            1   \n",
       "...               ...               ...            ...  ...          ...   \n",
       "4516                0                 0              0  ...            1   \n",
       "4517                0                 0              0  ...            1   \n",
       "4518                0                 0              0  ...            0   \n",
       "4519                1                 0              0  ...            0   \n",
       "4520                0                 1              0  ...            1   \n",
       "\n",
       "      loan_no  loan_yes  contact_cellular  contact_telephone  contact_unknown  \\\n",
       "0           1         0                 1                  0                0   \n",
       "1           0         1                 1                  0                0   \n",
       "2           1         0                 1                  0                0   \n",
       "3           0         1                 0                  0                1   \n",
       "4           1         0                 0                  0                1   \n",
       "...       ...       ...               ...                ...              ...   \n",
       "4516        1         0                 1                  0                0   \n",
       "4517        0         1                 0                  0                1   \n",
       "4518        1         0                 1                  0                0   \n",
       "4519        1         0                 1                  0                0   \n",
       "4520        0         1                 1                  0                0   \n",
       "\n",
       "      poutcome_failure  poutcome_other  poutcome_success  poutcome_unknown  \n",
       "0                    0               0                 0                 1  \n",
       "1                    1               0                 0                 0  \n",
       "2                    1               0                 0                 0  \n",
       "3                    0               0                 0                 1  \n",
       "4                    0               0                 0                 1  \n",
       "...                ...             ...               ...               ...  \n",
       "4516                 0               0                 0                 1  \n",
       "4517                 0               0                 0                 1  \n",
       "4518                 0               0                 0                 1  \n",
       "4519                 0               1                 0                 0  \n",
       "4520                 0               1                 0                 0  \n",
       "\n",
       "[4521 rows x 38 columns]"
      ]
     },
     "execution_count": 56,
     "metadata": {},
     "output_type": "execute_result"
    }
   ],
   "source": [
    "features_dummy"
   ]
  },
  {
   "cell_type": "code",
   "execution_count": 57,
   "id": "1deaa95a",
   "metadata": {},
   "outputs": [],
   "source": [
    "X = features_dummy.to_numpy()"
   ]
  },
  {
   "cell_type": "code",
   "execution_count": 59,
   "id": "6115d7ec",
   "metadata": {},
   "outputs": [
    {
     "data": {
      "text/plain": [
       "array([[  30, 1787,   79, ...,    0,    0,    1],\n",
       "       [  33, 4789,  220, ...,    0,    0,    0],\n",
       "       [  35, 1350,  185, ...,    0,    0,    0],\n",
       "       ...,\n",
       "       [  57,  295,  151, ...,    0,    0,    1],\n",
       "       [  28, 1137,  129, ...,    1,    0,    0],\n",
       "       [  44, 1136,  345, ...,    1,    0,    0]], dtype=int64)"
      ]
     },
     "execution_count": 59,
     "metadata": {},
     "output_type": "execute_result"
    }
   ],
   "source": [
    "X"
   ]
  },
  {
   "cell_type": "code",
   "execution_count": 60,
   "id": "b72c23d0",
   "metadata": {},
   "outputs": [],
   "source": [
    "# 데이터 분할 후 표준화"
   ]
  },
  {
   "cell_type": "code",
   "execution_count": 61,
   "id": "afb5abec",
   "metadata": {},
   "outputs": [],
   "source": [
    "X_train, X_test, y_train, y_test = train_test_split(X, y, train_size=0.8, stratify=y, random_state=0)"
   ]
  },
  {
   "cell_type": "code",
   "execution_count": 62,
   "id": "e44e8d19",
   "metadata": {},
   "outputs": [],
   "source": [
    "scaler = StandardScaler()\n",
    "scaler.fit(X_train)\n",
    "X_train_std = scaler.transform(X_train)\n",
    "X_test_std = scaler.transform(X_test)"
   ]
  },
  {
   "cell_type": "code",
   "execution_count": null,
   "id": "d3c660d3",
   "metadata": {},
   "outputs": [],
   "source": []
  }
 ],
 "metadata": {
  "kernelspec": {
   "display_name": "Python 3",
   "language": "python",
   "name": "python3"
  },
  "language_info": {
   "codemirror_mode": {
    "name": "ipython",
    "version": 3
   },
   "file_extension": ".py",
   "mimetype": "text/x-python",
   "name": "python",
   "nbconvert_exporter": "python",
   "pygments_lexer": "ipython3",
   "version": "3.8.8"
  }
 },
 "nbformat": 4,
 "nbformat_minor": 5
}
